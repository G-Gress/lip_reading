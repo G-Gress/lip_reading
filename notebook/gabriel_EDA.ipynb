{
  "cells": [
    {
      "cell_type": "code",
      "execution_count": null,
      "id": "TNNbfnD-1ztw",
      "metadata": {
        "id": "TNNbfnD-1ztw"
      },
      "outputs": [],
      "source": [
        "# from google.colab import runtime\n",
        "# runtime.unassign()"
      ]
    },
    {
      "cell_type": "code",
      "execution_count": null,
      "id": "krCiQiZgsP_h",
      "metadata": {
        "collapsed": true,
        "id": "krCiQiZgsP_h"
      },
      "outputs": [],
      "source": [
        "# ! pip list"
      ]
    },
    {
      "cell_type": "code",
      "execution_count": null,
      "id": "62094cc5",
      "metadata": {
        "id": "62094cc5"
      },
      "outputs": [],
      "source": [
        "# ! pip install imageio opencv-python"
      ]
    },
    {
      "cell_type": "code",
      "execution_count": 2,
      "id": "a56d63c4",
      "metadata": {
        "id": "a56d63c4"
      },
      "outputs": [
        {
          "name": "stderr",
          "output_type": "stream",
          "text": [
            "2025-05-27 21:20:25.079812: I external/local_xla/xla/tsl/cuda/cudart_stub.cc:32] Could not find cuda drivers on your machine, GPU will not be used.\n",
            "2025-05-27 21:20:25.794654: I external/local_xla/xla/tsl/cuda/cudart_stub.cc:32] Could not find cuda drivers on your machine, GPU will not be used.\n",
            "2025-05-27 21:20:26.449266: E external/local_xla/xla/stream_executor/cuda/cuda_fft.cc:467] Unable to register cuFFT factory: Attempting to register factory for plugin cuFFT when one has already been registered\n",
            "WARNING: All log messages before absl::InitializeLog() is called are written to STDERR\n",
            "E0000 00:00:1748348427.218556    1414 cuda_dnn.cc:8579] Unable to register cuDNN factory: Attempting to register factory for plugin cuDNN when one has already been registered\n",
            "E0000 00:00:1748348427.662285    1414 cuda_blas.cc:1407] Unable to register cuBLAS factory: Attempting to register factory for plugin cuBLAS when one has already been registered\n",
            "W0000 00:00:1748348429.098938    1414 computation_placer.cc:177] computation placer already registered. Please check linkage and avoid linking the same target more than once.\n",
            "W0000 00:00:1748348429.099429    1414 computation_placer.cc:177] computation placer already registered. Please check linkage and avoid linking the same target more than once.\n",
            "W0000 00:00:1748348429.099443    1414 computation_placer.cc:177] computation placer already registered. Please check linkage and avoid linking the same target more than once.\n",
            "W0000 00:00:1748348429.099450    1414 computation_placer.cc:177] computation placer already registered. Please check linkage and avoid linking the same target more than once.\n",
            "2025-05-27 21:20:29.268614: I tensorflow/core/platform/cpu_feature_guard.cc:210] This TensorFlow binary is optimized to use available CPU instructions in performance-critical operations.\n",
            "To enable the following instructions: AVX2 FMA, in other operations, rebuild TensorFlow with the appropriate compiler flags.\n"
          ]
        }
      ],
      "source": [
        "import os\n",
        "import cv2\n",
        "import tensorflow as tf\n",
        "import numpy as np\n",
        "from typing import List\n",
        "from matplotlib import pyplot as plt"
      ]
    },
    {
      "cell_type": "markdown",
      "id": "WlFEkhfOs60v",
      "metadata": {
        "id": "WlFEkhfOs60v"
      },
      "source": [
        "# Load Data"
      ]
    },
    {
      "cell_type": "code",
      "execution_count": 25,
      "id": "94SROilDvhae",
      "metadata": {
        "id": "94SROilDvhae"
      },
      "outputs": [],
      "source": [
        "# Google\n",
        "# from google.colab import drive\n",
        "# drive.mount('/content/drive')\n",
        "# path = \"./drive/MyDrive/Project/Lip_reading/raw_data/\"\n",
        "# test_path = \"./drive/MyDrive/Project/Lip_reading/raw_data/videos/s1/bbal6n.mpg\"\n",
        "# al_path = \"./drive/MyDrive/Project/Lip_reading/raw_data/alignments/s1/bbal6n.align\"\n",
        "\n",
        "# Local\n",
        "path = \"../raw_data/\"\n",
        "test_path = \"../raw_data/videos/s1/bbal6n.mpg\"\n",
        "al_path = \"../raw_data/alignments/s1/bbal6n.align\"\n"
      ]
    },
    {
      "cell_type": "markdown",
      "id": "F_7e-sSyo-ap",
      "metadata": {
        "id": "F_7e-sSyo-ap"
      },
      "source": [
        "## Video Loading Test"
      ]
    },
    {
      "cell_type": "code",
      "execution_count": 11,
      "id": "ChAkm7l7hwVn",
      "metadata": {
        "id": "ChAkm7l7hwVn"
      },
      "outputs": [],
      "source": [
        "# Get the video\n",
        "cap = cv2.VideoCapture(test_path)\n"
      ]
    },
    {
      "cell_type": "code",
      "execution_count": 12,
      "id": "eU6tzPwxiskp",
      "metadata": {
        "colab": {
          "base_uri": "https://localhost:8080/",
          "height": 328
        },
        "id": "eU6tzPwxiskp",
        "outputId": "8d1dcfd9-2742-4c30-bab3-3450464921c3"
      },
      "outputs": [
        {
          "data": {
            "text/plain": [
              "array([[[ 88,  65,  56],\n",
              "        [ 89,  66,  57],\n",
              "        [106,  64,  58],\n",
              "        ...,\n",
              "        [ 55,  30,  21],\n",
              "        [ 54,  29,  22],\n",
              "        [ 54,  29,  22]],\n",
              "\n",
              "       [[212, 189, 180],\n",
              "        [212, 189, 180],\n",
              "        [231, 189, 183],\n",
              "        ...,\n",
              "        [118,  93,  84],\n",
              "        [117,  92,  85],\n",
              "        [117,  92,  85]],\n",
              "\n",
              "       [[240, 216, 109],\n",
              "        [241, 217, 110],\n",
              "        [255, 217, 110],\n",
              "        ...,\n",
              "        [129, 111,  40],\n",
              "        [127, 109,  39],\n",
              "        [127, 109,  39]],\n",
              "\n",
              "       ...,\n",
              "\n",
              "       [[151, 122,  19],\n",
              "        [151, 122,  19],\n",
              "        [160, 120,  22],\n",
              "        ...,\n",
              "        [102,  83,   4],\n",
              "        [101,  81,   5],\n",
              "        [101,  81,   5]],\n",
              "\n",
              "       [[150, 122,  17],\n",
              "        [151, 123,  18],\n",
              "        [160, 121,  20],\n",
              "        ...,\n",
              "        [101,  82,   3],\n",
              "        [101,  81,   5],\n",
              "        [100,  80,   4]],\n",
              "\n",
              "       [[150, 122,  17],\n",
              "        [151, 123,  18],\n",
              "        [159, 120,  19],\n",
              "        ...,\n",
              "        [101,  82,   3],\n",
              "        [100,  80,   4],\n",
              "        [100,  80,   4]]], dtype=uint8)"
            ]
          },
          "execution_count": 12,
          "metadata": {},
          "output_type": "execute_result"
        }
      ],
      "source": [
        "# Get 1 frame with each iteration\n",
        "ret, frame = cap.read()\n",
        "# Display the frame\n",
        "frame\n"
      ]
    },
    {
      "cell_type": "code",
      "execution_count": 14,
      "id": "TRRaYi57o8A9",
      "metadata": {
        "id": "TRRaYi57o8A9"
      },
      "outputs": [],
      "source": [
        "gray = cv2.cvtColor(frame, cv2.COLOR_BGR2GRAY)"
      ]
    },
    {
      "cell_type": "code",
      "execution_count": 15,
      "id": "fvpGr5_HpMX6",
      "metadata": {
        "colab": {
          "base_uri": "https://localhost:8080/",
          "height": 86
        },
        "id": "fvpGr5_HpMX6",
        "outputId": "26a5e6a5-3e25-45cb-b320-0ad149ad5952"
      },
      "outputs": [
        {
          "data": {
            "text/plain": [
              "array([[146, 146, 147, ..., 121, 120, 117],\n",
              "       [146, 146, 147, ..., 121, 117, 116],\n",
              "       [146, 146, 145, ..., 118, 118, 118],\n",
              "       ...,\n",
              "       [137, 137, 137, ..., 112, 111, 111],\n",
              "       [137, 137, 137, ..., 111, 110, 110],\n",
              "       [137, 137, 137, ..., 111, 110, 110]], dtype=uint8)"
            ]
          },
          "execution_count": 15,
          "metadata": {},
          "output_type": "execute_result"
        }
      ],
      "source": [
        "gray[190:236,80:220]"
      ]
    },
    {
      "cell_type": "code",
      "execution_count": 16,
      "id": "Ck9pz4Y7phrv",
      "metadata": {
        "id": "Ck9pz4Y7phrv"
      },
      "outputs": [
        {
          "name": "stderr",
          "output_type": "stream",
          "text": [
            "2025-05-27 21:23:37.327883: E external/local_xla/xla/stream_executor/cuda/cuda_platform.cc:51] failed call to cuInit: INTERNAL: CUDA error: Failed call to cuInit: UNKNOWN ERROR (303)\n"
          ]
        }
      ],
      "source": [
        "gray = tf.image.rgb_to_grayscale(frame)"
      ]
    },
    {
      "cell_type": "code",
      "execution_count": 17,
      "id": "x-PSytSljD0c",
      "metadata": {
        "id": "x-PSytSljD0c"
      },
      "outputs": [],
      "source": [
        "# Release the video\n",
        "cap.release()"
      ]
    },
    {
      "cell_type": "markdown",
      "id": "Kx_GQXWFpDGl",
      "metadata": {
        "id": "Kx_GQXWFpDGl"
      },
      "source": [
        "## Video Loading Function"
      ]
    },
    {
      "cell_type": "code",
      "execution_count": 18,
      "id": "9e20de29",
      "metadata": {
        "id": "9e20de29"
      },
      "outputs": [],
      "source": [
        "def load_video(path: str) -> tf.Tensor:\n",
        "    '''\n",
        "    Load a video from a path, convert it to grayscale, crop it to the face,\n",
        "    normalize it with z-score normalization, and return a numpy array of the frames.\n",
        "    '''\n",
        "    cap = cv2.VideoCapture(path)\n",
        "    frames = []\n",
        "    for _ in range(int(cap.get(cv2.CAP_PROP_FRAME_COUNT))):\n",
        "      # Get one frame as a numpy array\n",
        "      ret, frame = cap.read()\n",
        "      # Grayscale conversion\n",
        "      #gray = cv2.cvtColor(frame, cv2.COLOR_BGR2GRAY) # => Returns 2D image\n",
        "      gray = tf.image.rgb_to_grayscale(frame) # => Returns 3D tensor\n",
        "      # Add the frame to the list\n",
        "      frames.append(gray[190:236, 80:220, :])\n",
        "    # Release the video\n",
        "    cap.release()\n",
        "\n",
        "    # Normalize the data with z-score normalization\n",
        "    mean = tf.math.reduce_mean(frames)\n",
        "    std = tf.math.reduce_std(tf.cast(frames, tf.float32))\n",
        "\n",
        "    return tf.cast((frames - mean), tf.float32) / std\n"
      ]
    },
    {
      "cell_type": "code",
      "execution_count": 19,
      "id": "U99_u1-9okR2",
      "metadata": {
        "id": "U99_u1-9okR2"
      },
      "outputs": [],
      "source": [
        "frames_test = load_video(test_path)"
      ]
    },
    {
      "cell_type": "code",
      "execution_count": 20,
      "id": "3WI5wmICpSwx",
      "metadata": {
        "colab": {
          "base_uri": "https://localhost:8080/"
        },
        "collapsed": true,
        "id": "3WI5wmICpSwx",
        "outputId": "9dbda0c5-e54c-4aab-c4ac-0a461a7714a6"
      },
      "outputs": [
        {
          "data": {
            "text/plain": [
              "tensorflow.python.framework.ops.EagerTensor"
            ]
          },
          "execution_count": 20,
          "metadata": {},
          "output_type": "execute_result"
        }
      ],
      "source": [
        "type(frames_test)"
      ]
    },
    {
      "cell_type": "markdown",
      "id": "cEat8wvxrXwk",
      "metadata": {
        "id": "cEat8wvxrXwk"
      },
      "source": [
        "## Char Encoding"
      ]
    },
    {
      "cell_type": "code",
      "execution_count": 21,
      "id": "HIqnYi6DSCuw",
      "metadata": {
        "id": "HIqnYi6DSCuw"
      },
      "outputs": [],
      "source": [
        "# Vocabulary to encode\n",
        "vocab = [x for x in \"abcdefghijklmnopqrstuvwxyz'?!123456789 \"]"
      ]
    },
    {
      "cell_type": "code",
      "execution_count": 22,
      "id": "7rVmzIGvrf1U",
      "metadata": {
        "id": "7rVmzIGvrf1U"
      },
      "outputs": [],
      "source": [
        "# Char to num converter\n",
        "char_to_num = tf.keras.layers.StringLookup(vocabulary=vocab, oov_token=\"\")\n",
        "# Num to char converter\n",
        "num_to_char = tf.keras.layers.StringLookup(vocabulary=char_to_num.get_vocabulary(), oov_token=\"\", invert=True)"
      ]
    },
    {
      "cell_type": "markdown",
      "id": "eBSRU1ylhFRz",
      "metadata": {
        "id": "eBSRU1ylhFRz"
      },
      "source": [
        "### Conversion Test"
      ]
    },
    {
      "cell_type": "code",
      "execution_count": 23,
      "id": "9bnqDcPvO2t0",
      "metadata": {
        "colab": {
          "base_uri": "https://localhost:8080/"
        },
        "id": "9bnqDcPvO2t0",
        "outputId": "4732ac66-321a-430e-8147-6132ec85fa7a"
      },
      "outputs": [
        {
          "data": {
            "text/plain": [
              "<tf.Tensor: shape=(4,), dtype=int64, numpy=array([7, 1, 2, 5])>"
            ]
          },
          "execution_count": 23,
          "metadata": {},
          "output_type": "execute_result"
        }
      ],
      "source": [
        "# Conversion test\n",
        "char_to_num(['g', 'a', 'b', 'e'])"
      ]
    },
    {
      "cell_type": "code",
      "execution_count": 24,
      "id": "qF2h_zfWS6Iu",
      "metadata": {
        "colab": {
          "base_uri": "https://localhost:8080/"
        },
        "id": "qF2h_zfWS6Iu",
        "outputId": "182ef35b-10ff-4066-d25f-f9efb74ac9b0"
      },
      "outputs": [
        {
          "data": {
            "text/plain": [
              "<tf.Tensor: shape=(4,), dtype=string, numpy=array([b'g', b'a', b'b', b'e'], dtype=object)>"
            ]
          },
          "execution_count": 24,
          "metadata": {},
          "output_type": "execute_result"
        }
      ],
      "source": [
        "# Retrieving chars test\n",
        "num_to_char([7, 1, 2, 5])"
      ]
    },
    {
      "cell_type": "markdown",
      "id": "sK11OrQas5U6",
      "metadata": {
        "id": "sK11OrQas5U6"
      },
      "source": [
        "## Alignments Loading Test"
      ]
    },
    {
      "cell_type": "code",
      "execution_count": 26,
      "id": "U97BY18utPOZ",
      "metadata": {
        "id": "U97BY18utPOZ"
      },
      "outputs": [],
      "source": [
        "# Open align file\n",
        "with open(al_path, \"r\") as f:\n",
        "    lines = f.readlines()"
      ]
    },
    {
      "cell_type": "code",
      "execution_count": 27,
      "id": "q82mI0K0wqD6",
      "metadata": {
        "colab": {
          "base_uri": "https://localhost:8080/"
        },
        "id": "q82mI0K0wqD6",
        "outputId": "e749666e-98e0-461c-f9e8-29722e0909f9"
      },
      "outputs": [
        {
          "data": {
            "text/plain": [
              "['0 16000 sil\\n',\n",
              " '16000 21250 bin\\n',\n",
              " '21250 26750 blue\\n',\n",
              " '26750 27750 at\\n',\n",
              " '27750 31500 l\\n',\n",
              " '31500 39250 six\\n',\n",
              " '39250 45250 now\\n',\n",
              " '45250 74500 sil\\n']"
            ]
          },
          "execution_count": 27,
          "metadata": {},
          "output_type": "execute_result"
        }
      ],
      "source": [
        "lines"
      ]
    },
    {
      "cell_type": "code",
      "execution_count": 28,
      "id": "5aNJu0xCwzJ_",
      "metadata": {
        "colab": {
          "base_uri": "https://localhost:8080/"
        },
        "id": "5aNJu0xCwzJ_",
        "outputId": "bb914268-7d3a-4ad5-c474-9b1c043e0907"
      },
      "outputs": [
        {
          "data": {
            "text/plain": [
              "[' ', 'bin', ' ', 'blue', ' ', 'at', ' ', 'l', ' ', 'six', ' ', 'now']"
            ]
          },
          "execution_count": 28,
          "metadata": {},
          "output_type": "execute_result"
        }
      ],
      "source": [
        "# Tokienize alignments\n",
        "tokens = []\n",
        "for line in lines:\n",
        "    line = line.split()\n",
        "    # Ignore silence tokens\n",
        "    if line[2] != \"sil\":\n",
        "        tokens = [*tokens, ' ', line[2]]\n",
        "\n",
        "tokens"
      ]
    },
    {
      "cell_type": "markdown",
      "id": "7B6zNt0bTqpe",
      "metadata": {
        "id": "7B6zNt0bTqpe"
      },
      "source": [
        "## Alignments Loading Function"
      ]
    },
    {
      "cell_type": "code",
      "execution_count": 29,
      "id": "Z08JND6ETqMd",
      "metadata": {
        "id": "Z08JND6ETqMd"
      },
      "outputs": [],
      "source": [
        "def load_alignments(path: str) -> tf.Tensor:\n",
        "  '''\n",
        "  Load alignments from a path, tokenize them,\n",
        "  and return the encoded characters as a 1D tensor.\n",
        "  '''\n",
        "  # Open align file\n",
        "  with open(path, \"r\") as f:\n",
        "    lines = f.readlines()\n",
        "\n",
        "  # Tokenize alignments\n",
        "  tokens = []\n",
        "  for line in lines:\n",
        "      line = line.split()\n",
        "      # Ignore silence tokens\n",
        "      if line[2] != \"sil\":\n",
        "          tokens = [*tokens, ' ', line[2]]\n",
        "\n",
        "  return char_to_num(tf.reshape(tf.strings.unicode_split(tokens, input_encoding='UTF-8'), (-1)))[1:]"
      ]
    },
    {
      "cell_type": "markdown",
      "id": "o0l5jCmwYeYg",
      "metadata": {
        "id": "o0l5jCmwYeYg"
      },
      "source": [
        "### Test"
      ]
    },
    {
      "cell_type": "code",
      "execution_count": 30,
      "id": "VRtF6pveU_Ii",
      "metadata": {
        "id": "VRtF6pveU_Ii"
      },
      "outputs": [],
      "source": [
        "x = load_alignments(al_path)"
      ]
    },
    {
      "cell_type": "code",
      "execution_count": 31,
      "id": "SdR6tLtiVL2o",
      "metadata": {
        "colab": {
          "base_uri": "https://localhost:8080/"
        },
        "id": "SdR6tLtiVL2o",
        "outputId": "55113be8-9ecf-43cb-fff9-b1e1ad42ee59"
      },
      "outputs": [
        {
          "data": {
            "text/plain": [
              "<tf.Tensor: shape=(21,), dtype=int64, numpy=\n",
              "array([ 2,  9, 14, 39,  2, 12, 21,  5, 39,  1, 20, 39, 12, 39, 19,  9, 24,\n",
              "       39, 14, 15, 23])>"
            ]
          },
          "execution_count": 31,
          "metadata": {},
          "output_type": "execute_result"
        }
      ],
      "source": [
        "x"
      ]
    },
    {
      "cell_type": "code",
      "execution_count": 32,
      "id": "R83RrvlpVZ14",
      "metadata": {
        "colab": {
          "base_uri": "https://localhost:8080/"
        },
        "id": "R83RrvlpVZ14",
        "outputId": "ec734a3c-fedd-4300-b16c-96bb8ed4ae2f"
      },
      "outputs": [
        {
          "data": {
            "text/plain": [
              "<tf.Tensor: shape=(21,), dtype=string, numpy=\n",
              "array([b'b', b'i', b'n', b' ', b'b', b'l', b'u', b'e', b' ', b'a', b't',\n",
              "       b' ', b'l', b' ', b's', b'i', b'x', b' ', b'n', b'o', b'w'],\n",
              "      dtype=object)>"
            ]
          },
          "execution_count": 32,
          "metadata": {},
          "output_type": "execute_result"
        }
      ],
      "source": [
        "num_to_char(x)"
      ]
    },
    {
      "cell_type": "code",
      "execution_count": 37,
      "id": "ZAOhmsoRntnz",
      "metadata": {
        "colab": {
          "base_uri": "https://localhost:8080/"
        },
        "collapsed": true,
        "id": "ZAOhmsoRntnz",
        "outputId": "ed9d5d23-9532-445c-a4f8-f392c8055a48"
      },
      "outputs": [
        {
          "name": "stdout",
          "output_type": "stream",
          "text": [
            "Loaded sran8n.align\n",
            "Loaded bgbu4p.align\n",
            "Loaded lgiszp.align\n",
            "Loaded lwws5s.align\n",
            "Loaded lgwm6n.align\n",
            "Loaded lgwg3s.align\n",
            "Loaded braf8n.align\n",
            "Loaded lgwm9a.align\n",
            "Loaded swbi6p.align\n",
            "Loaded bgah3a.align\n",
            "Loaded bwat4p.align\n",
            "Loaded sbia1s.align\n",
            "Loaded pwbx9s.align\n",
            "Loaded bgaa9a.align\n",
            "Loaded sgac2n.align\n",
            "Loaded lbby5a.align\n",
            "Loaded bgwo2n.align\n",
            "Loaded prii8p.align\n",
            "Loaded brwa5a.align\n",
            "Loaded bram2n.align\n",
            "Loaded pwax5s.align\n",
            "Loaded swiu4n.align\n",
            "Loaded sban2n.align\n",
            "Loaded bbws8n.align\n",
            "Loaded brwnzn.align\n",
            "Loaded srah5s.align\n",
            "Loaded bwba5s.align\n",
            "Loaded pbiv1a.align\n",
            "Loaded lgbm2n.align\n",
            "Loaded lwir2n.align\n",
            "Loaded lgal8n.align\n",
            "Loaded sbwh7s.align\n",
            "Loaded bwanzp.align\n",
            "Loaded lray5s.align\n",
            "Loaded bwaazn.align\n",
            "Loaded brwn1s.align\n",
            "Loaded swwp3s.align\n",
            "Loaded bbal6n.align\n",
            "Loaded swab8p.align\n",
            "Loaded pbac3a.align\n",
            "Loaded pbii1s.align\n",
            "Loaded lrwf2p.align\n",
            "Loaded sgbc7s.align\n",
            "Loaded swbv3s.align\n",
            "Loaded lwal3s.align\n",
            "Loaded pgbe3s.align\n",
            "Loaded pwix2p.align\n",
            "Loaded bgwb5s.align\n",
            "Loaded sbig5s.align\n",
            "Loaded sbat6n.align\n",
            "Loaded lrak6n.align\n",
            "Loaded lgwg5a.align\n",
            "Loaded bbbs6p.align\n",
            "Loaded bbbmzn.align\n",
            "Loaded brbt1s.align\n",
            "Loaded pbio7a.align\n",
            "Loaded bwan1a.align\n",
            "Loaded lbax9s.align\n",
            "Loaded bwwn7s.align\n",
            "Loaded lbak2p.align\n",
            "Loaded prwq5a.align\n",
            "Loaded srah7a.align\n",
            "Loaded sgwq1a.align\n",
            "Loaded swaizn.align\n",
            "Loaded lbix5s.align\n",
            "Loaded srin7a.align\n",
            "Loaded srau4p.align\n",
            "Loaded pgbr1s.align\n",
            "Loaded pwax7a.align\n",
            "Loaded lgbm4p.align\n",
            "Loaded sgav6p.align\n",
            "Loaded bwag4n.align\n",
            "Loaded bwbt8p.align\n",
            "Loaded bbie9s.align\n",
            "Loaded lwafzp.align\n",
            "Loaded pgbk6n.align\n",
            "Loaded pbii2p.align\n",
            "Loaded bwbn4p.align\n",
            "Loaded prax1a.align\n",
            "Loaded lrbr4n.align\n",
            "Loaded bgwi1a.align\n",
            "Loaded bbir8p.align\n",
            "Loaded prwq3s.align\n",
            "Loaded pgby5s.align\n",
            "Loaded prwj8n.align\n",
            "Loaded lrwf1s.align\n",
            "Loaded bbwm5s.align\n",
            "Loaded pwaq2p.align\n",
            "Loaded bgin3a.align\n",
            "Loaded bwbg9s.align\n",
            "Loaded sriuzp.align\n",
            "Loaded lwbz6p.align\n",
            "Loaded lwbl8p.align\n",
            "Loaded pgix7s.align\n",
            "Loaded lbbe2p.align\n",
            "Loaded sgiczp.align\n",
            "Loaded lriq7s.align\n",
            "Loaded bwba4n.align\n",
            "Loaded swwc6p.align\n",
            "Loaded swbo8n.align\n",
            "Loaded brbazp.align\n",
            "Loaded pwbq5s.align\n",
            "Loaded lbbe3a.align\n",
            "Loaded brif4n.align\n",
            "Loaded bbizzn.align\n",
            "Loaded pbwp9a.align\n",
            "Loaded lgaf6p.align\n",
            "Loaded lwie6p.align\n",
            "Loaded pbbv7s.align\n",
            "Loaded lwal2n.align\n",
            "Loaded pwbx8n.align\n",
            "Loaded bgbh6p.align\n",
            "Loaded sbwu5s.align\n",
            "Loaded lwar7s.align\n",
            "Loaded bwbg8n.align\n",
            "Loaded bragzp.align\n",
            "Loaded bwbt9a.align\n",
            "Loaded bgat8n.align\n",
            "Loaded srab1s.align\n",
            "Loaded pwwy3s.align\n",
            "Loaded lwil1a.align\n",
            "Loaded bbas1s.align\n",
            "Loaded swwi8n.align\n",
            "Loaded lbwy7s.align\n",
            "Loaded prac9a.align\n",
            "Loaded prajzn.align\n",
            "Loaded prbx2n.align\n",
            "Loaded sbit2n.align\n",
            "Loaded bgaa7s.align\n",
            "Loaded prwd5s.align\n",
            "Loaded swab6n.align\n",
            "Loaded pbwxzn.align\n",
            "Loaded sgav4n.align\n",
            "Loaded lrik3s.align\n",
            "Loaded lwbs1s.align\n",
            "Loaded bgbu5a.align\n",
            "Loaded lwiy9a.align\n",
            "Loaded pwwe2p.align\n",
            "Loaded lbaq5s.align\n",
            "Loaded sgwp9s.align\n",
            "Loaded pgiq2n.align\n",
            "Loaded swwj1a.align\n",
            "Loaded praj3a.align\n",
            "Loaded pric4p.align\n",
            "Loaded pwwk4n.align\n",
            "Loaded priv4n.align\n",
            "Loaded pwwrzp.align\n",
            "Loaded bwim7a.align\n",
            "Loaded lbwk9s.align\n",
            "Loaded bbie8n.align\n",
            "Loaded bgbh4n.align\n",
            "Loaded pwax6p.align\n",
            "Loaded prbqzp.align\n",
            "Loaded srwi5a.align\n",
            "Loaded lbbezn.align\n",
            "Loaded sbbn6n.align\n",
            "Loaded bris4p.align\n",
            "Loaded lgis1a.align\n",
            "Loaded lwbszn.align\n",
            "Loaded bwwn8p.align\n",
            "Loaded pgij8n.align\n",
            "Loaded lrwz5a.align\n",
            "Loaded bwwu3a.align\n",
            "Loaded sgac5a.align\n",
            "Loaded bgahzn.align\n",
            "Loaded pgak2n.align\n",
            "Loaded bgit4n.align\n",
            "Loaded prbd3a.align\n",
            "Loaded prwd7a.align\n",
            "Loaded pwij5a.align\n",
            "Loaded lbix4n.align\n",
            "Loaded praj1s.align\n",
            "Loaded swai3a.align\n",
            "Loaded swio1s.align\n",
            "Loaded sbat8p.align\n",
            "Loaded lbwr4p.align\n",
            "Loaded srah6p.align\n",
            "Loaded lbad8p.align\n",
            "Loaded swai1s.align\n",
            "Loaded pgwr5s.align\n",
            "Loaded bgau1a.align\n",
            "Loaded pwad5a.align\n",
            "Loaded bbbz9s.align\n",
            "Loaded lrik4p.align\n",
            "Loaded bwbt7s.align\n",
            "Loaded lwar9a.align\n",
            "Loaded sria7s.align\n",
            "Loaded lrwl7a.align\n",
            "Loaded lriq9a.align\n",
            "Loaded brbt3a.align\n",
            "Loaded pbap1a.align\n",
            "Loaded sbin1a.align\n",
            "Loaded bwat3s.align\n",
            "Loaded lbwy6n.align\n",
            "Loaded lbid2n.align\n",
            "Loaded prip2p.align\n",
            "Loaded pbac1s.align\n",
            "Loaded brbt2p.align\n",
            "Loaded lgwm8p.align\n",
            "Loaded lrar1s.align\n",
            "Loaded bgbo1a.align\n",
            "Loaded brbg4p.align\n",
            "Loaded swbc2p.align\n",
            "Loaded lrwr8n.align\n",
            "Loaded lbij8p.align\n",
            "Loaded bwaa3a.align\n",
            "Loaded pric3s.align\n",
            "Loaded bwwh3s.align\n",
            "Loaded bbifzp.align\n",
            "Loaded pwix1s.align\n",
            "Loaded pbai6p.align\n",
            "Loaded srwi2n.align\n",
            "Loaded prwq2n.align\n",
            "Loaded prwk1a.align\n",
            "Loaded sgbj1s.align\n",
            "Loaded lriy3a.align\n",
            "Loaded sbwu4n.align\n",
            "Loaded lriezp.align\n",
            "Loaded sbbb1a.align\n",
            "Loaded bris2n.align\n",
            "Loaded lrbe9a.align\n",
            "Loaded pwwy5a.align\n",
            "Loaded brwa4p.align\n",
            "Loaded bbas2p.align\n",
            "Loaded bgbb2p.align\n",
            "Loaded pwij4p.align\n",
            "Loaded lwws6p.align\n",
            "Loaded lwazzn.align\n",
            "Loaded pbwp6n.align\n",
            "Loaded swwv9a.align\n",
            "Loaded srwo9a.align\n",
            "Loaded lgamzp.align\n",
            "Loaded lgas3s.align\n",
            "Loaded sgii5a.align\n",
            "Loaded pwbd6n.align\n",
            "Loaded pgbk7s.align\n",
            "Loaded srih3a.align\n",
            "Loaded lwie4n.align\n",
            "Loaded pgwe7s.align\n",
            "Loaded lwiy7s.align\n",
            "Loaded lbad7s.align\n",
            "Loaded lrid8n.align\n",
            "Loaded pwwq8n.align\n",
            "Loaded sbia2p.align\n",
            "Loaded sgio6n.align\n",
            "Loaded lray4n.align\n",
            "Loaded lgiz2n.align\n",
            "Loaded bgwu6n.align\n",
            "Loaded prbj5s.align\n",
            "Loaded sbwh6n.align\n",
            "Loaded sbwb4p.align\n",
            "Loaded prac8p.align\n",
            "Loaded swbi5s.align\n",
            "Loaded bbbf9a.align\n",
            "Loaded pgix8p.align\n",
            "Loaded swao4n.align\n",
            "Loaded bbbf6n.align\n",
            "Loaded swai2p.align\n",
            "Loaded lbix6p.align\n",
            "Loaded lbiq2p.align\n",
            "Loaded swiu6p.align\n",
            "Loaded lriy1s.align\n",
            "Loaded bgan5s.align\n",
            "Loaded pgid4n.align\n",
            "Loaded pwbd7s.align\n",
            "Loaded swbpzp.align\n",
            "Loaded bgwb7a.align\n",
            "Loaded bwwbzp.align\n",
            "Loaded sbwh8p.align\n",
            "Loaded lwiy8p.align\n",
            "Loaded lgbs9a.align\n",
            "Loaded pwby1a.align\n",
            "Loaded lgwa1a.align\n",
            "Loaded sbwo2p.align\n",
            "Loaded pgwr7a.align\n",
            "Loaded sgwj4n.align\n",
            "Loaded pgwy9s.align\n",
            "Loaded bgwu9a.align\n",
            "Loaded pwbq4n.align\n",
            "Loaded pgiq5a.align\n",
            "Loaded bbil3s.align\n",
            "Loaded sgib9s.align\n",
            "Loaded lbij7s.align\n",
            "Loaded pbivzp.align\n",
            "Loaded lrarzn.align\n",
            "Loaded pbbc7a.align\n",
            "Loaded swbi7a.align\n",
            "Loaded bwis9s.align\n",
            "Loaded brif6p.align\n",
            "Loaded sbba8n.align\n",
            "Loaded lwbf2n.align\n",
            "Loaded brwn3a.align\n",
            "Loaded bwwn6n.align\n",
            "Loaded sgap3a.align\n",
            "Loaded pgad9s.align\n",
            "Loaded lwbf4p.align\n",
            "Loaded bbbf8p.align\n",
            "Loaded bbwgzn.align\n",
            "Loaded lgwg4p.align\n",
            "Loaded srbu9a.align\n",
            "Loaded lwaf1a.align\n",
            "Loaded pwbd9a.align\n",
            "Loaded prip3a.align\n",
            "Loaded pripzn.align\n",
            "Loaded swwp5a.align\n",
            "Loaded srbu6n.align\n",
            "Loaded pwaqzn.align\n",
            "Loaded lgam1a.align\n",
            "Loaded sbwo1s.align\n",
            "Loaded bgbh5s.align\n",
            "Loaded srwvzn.align\n",
            "Loaded sgav5s.align\n",
            "Loaded pwbq7a.align\n",
            "Loaded pwbk3a.align\n",
            "Loaded lbwy8p.align\n",
            "Loaded lwbz4n.align\n",
            "Loaded prbj7a.align\n",
            "Loaded lwbf3s.align\n",
            "Loaded pgikzp.align\n",
            "Loaded lgbs7s.align\n",
            "Loaded bwwa8n.align\n",
            "Loaded pwij3s.align\n",
            "Loaded sbat7s.align\n",
            "Loaded srin5s.align\n",
            "Loaded sbbh2n.align\n",
            "Loaded sraozp.align\n",
            "Loaded bgwb4n.align\n",
            "Loaded swib2n.align\n",
            "Loaded lgif2p.align\n",
            "Loaded swbc3a.align\n",
            "Loaded bbwm4n.align\n",
            "Loaded swbo9s.align\n",
            "Loaded sbit3s.align\n",
            "Loaded lrbr7a.align\n",
            "Loaded prap6p.align\n",
            "Loaded lrae5a.align\n",
            "Loaded lgas2n.align\n",
            "Loaded pgby6p.align\n",
            "Loaded bbaszn.align\n",
            "Loaded lbwk8n.align\n",
            "Loaded srbb4n.align\n",
            "Loaded sbbh5a.align\n",
            "Loaded lwbs3a.align\n",
            "Loaded bwwh4p.align\n",
            "Loaded sbwo3a.align\n",
            "Loaded lwbz7a.align\n",
            "Loaded brwn2p.align\n",
            "Loaded pgij9s.align\n",
            "Loaded pbaczn.align\n",
            "Loaded lbby2n.align\n",
            "Loaded lrwl4n.align\n",
            "Loaded lrak9a.align\n",
            "Loaded pwip8p.align\n",
            "Loaded sgbv8n.align\n",
            "Loaded swiozn.align\n",
            "Loaded pwbkzn.align\n",
            "Loaded lrby9s.align\n",
            "Loaded srwo6n.align\n",
            "Loaded brba1a.align\n",
            "Loaded sbbn9a.align\n",
            "Loaded prwj9s.align\n",
            "Loaded lgaf4n.align\n",
            "Loaded sbbh4p.align\n",
            "Loaded swib4p.align\n",
            "Loaded pgak4p.align\n",
            "Loaded pgbk9a.align\n",
            "Loaded pbbjzp.align\n",
            "Loaded pbib9a.align\n",
            "Loaded sbinzp.align\n",
            "Loaded bwat5a.align\n",
            "Loaded sban4p.align\n",
            "Loaded lwws7a.align\n",
            "Loaded sria8p.align\n",
            "Loaded sbig4n.align\n",
            "Loaded pbbp4p.align\n",
            "Loaded bwbn2n.align\n",
            "Loaded pwbq6p.align\n",
            "Loaded lgbs8p.align\n",
            "Loaded srwo7s.align\n",
            "Loaded lgbf8n.align\n",
            "Loaded pgid5s.align\n",
            "Loaded lgil4n.align\n",
            "Loaded pric5a.align\n",
            "Loaded lwae9s.align\n",
            "Loaded srabzn.align\n",
            "Loaded bwaa1s.align\n",
            "Loaded pgay2p.align\n",
            "Loaded lrwf3a.align\n",
            "Loaded sgac3s.align\n",
            "Loaded pbiu8n.align\n",
            "Loaded sbwozn.align\n",
            "Loaded pgwl3a.align\n",
            "Loaded bwat2n.align\n",
            "Loaded pgiq4p.align\n",
            "Loaded pwwe3a.align\n",
            "Loaded pgayzn.align\n",
            "Loaded briz8p.align\n",
            "Loaded pwwq9s.align\n",
            "Loaded srwi3s.align\n",
            "Loaded lgwt2p.align\n",
            "Loaded bbbm3a.align\n",
            "Loaded srah4n.align\n",
            "Loaded lbbk6p.align\n",
            "Loaded lrblzn.align\n",
            "Loaded prac7s.align\n",
            "Loaded sgio8p.align\n",
            "Loaded bwig3a.align\n",
            "Loaded brbg5a.align\n",
            "Loaded sbig7a.align\n",
            "Loaded swwc5s.align\n",
            "Loaded bwwu1s.align\n",
            "Loaded bwwn9a.align\n",
            "Loaded lriy2p.align\n",
            "Loaded sgbjzn.align\n",
            "Loaded swih7s.align\n",
            "Loaded lriq8p.align\n",
            "Loaded swio3a.align\n",
            "Loaded pbio4n.align\n",
            "Loaded brwg7s.align\n",
            "Loaded prwd6p.align\n",
            "Loaded bwam9s.align\n",
            "Loaded bram5a.align\n",
            "Loaded bbil5a.align\n",
            "Loaded lbbrzp.align\n",
            "Loaded lbwe6p.align\n",
            "Loaded bbal7s.align\n",
            "Loaded pgid6p.align\n",
            "Loaded swav1a.align\n",
            "Loaded bgwo5a.align\n",
            "Loaded sbiazn.align\n",
            "Loaded prii9a.align\n",
            "Loaded bgah2p.align\n",
            "Loaded sgivzn.align\n",
            "Loaded srbo4p.align\n",
            "Loaded lrwl5s.align\n",
            "Loaded bgia3s.align\n",
            "Loaded sgwj5s.align\n",
            "Loaded swab7s.align\n",
            "Loaded pbbc6p.align\n",
            "Loaded swwv7s.align\n",
            "Loaded pgwe8p.align\n",
            "Loaded brbm7s.align\n",
            "Loaded sgio7s.align\n",
            "Loaded prbd2p.align\n",
            "Loaded prac6n.align\n",
            "Loaded sgii2n.align\n",
            "Loaded bwba6p.align\n",
            "Loaded pwixzn.align\n",
            "Loaded sgbx1a.align\n",
            "Loaded lrwfzn.align\n",
            "Loaded lrar3a.align\n",
            "Loaded bgwu8p.align\n",
            "Loaded pwaq3a.align\n",
            "Loaded bgia5a.align\n",
            "Loaded prbd1s.align\n",
            "Loaded bwim4n.align\n",
            "Loaded sria6n.align\n",
            "Loaded bgat9s.align\n",
            "Loaded pbwj5a.align\n",
            "Loaded sgio9a.align\n",
            "Loaded sbaa5s.align\n",
            "Loaded sgib8n.align\n",
            "Loaded lbwl1a.align\n",
            "Loaded lwwf8p.align\n",
            "Loaded lrid9s.align\n",
            "Loaded lgwt3a.align\n",
            "Loaded lwie7a.align\n",
            "Loaded lwir3s.align\n",
            "Loaded pwaq1s.align\n",
            "Loaded lrbzzp.align\n",
            "Loaded lrik5a.align\n",
            "Loaded prap5s.align\n",
            "Loaded bwim5s.align\n",
            "Loaded lbay1a.align\n",
            "Loaded lwwmzn.align\n",
            "Loaded bgaa6n.align\n",
            "Loaded prwx8p.align\n",
            "Loaded sbaa4n.align\n",
            "Loaded bbbs7a.align\n",
            "Loaded lwaz1s.align\n",
            "Loaded bgbb1s.align\n",
            "Loaded pwaj6n.align\n",
            "Loaded sbag8n.align\n",
            "Loaded lrbz1a.align\n",
            "Loaded swbp1a.align\n",
            "Loaded pwic9s.align\n",
            "Loaded sgii4p.align\n",
            "Loaded pgbr2p.align\n",
            "Loaded bbwm7a.align\n",
            "Loaded pgwlzn.align\n",
            "Loaded pgbe2n.align\n",
            "Loaded lriyzn.align\n",
            "Loaded bgan6p.align\n",
            "Loaded sbbn7s.align\n",
            "Loaded lbwr2n.align\n",
            "Loaded lwir4p.align\n",
            "Loaded prwkzp.align\n",
            "Loaded sbbh3s.align\n",
            "Loaded sriu1a.align\n",
            "Loaded srwi4p.align\n",
            "Loaded lgil7a.align\n",
            "Loaded swau8n.align\n",
            "Loaded swbi4n.align\n",
            "Loaded bgbn8n.align\n",
            "Loaded lrak7s.align\n",
            "Loaded pwwr1a.align\n",
            "Loaded lbwy9a.align\n",
            "Loaded lbwlzp.align\n",
            "Loaded lwwz9s.align\n",
            "Loaded sbba9s.align\n",
            "Loaded sbit5a.align\n",
            "Loaded sgwj7a.align\n",
            "Loaded bwag7a.align\n",
            "Loaded lwir5a.align\n",
            "Loaded sban5a.align\n",
            "Loaded prbx4p.align\n",
            "Loaded bgig9a.align\n",
            "Loaded bwbn5a.align\n",
            "Loaded lwwf6n.align\n",
            "Loaded lrbl2p.align\n",
            "Loaded sbbu3a.align\n",
            "Loaded bbbs4n.align\n",
            "Loaded bbbm1s.align\n",
            "Loaded pgaq7s.align\n",
            "Loaded srbo3s.align\n",
            "Loaded sgbxzp.align\n",
            "Loaded bbaf3s.align\n",
            "Loaded sban3s.align\n",
            "Loaded lgaz9a.align\n",
            "Loaded lgbf9s.align\n",
            "Loaded pwad2n.align\n",
            "Loaded lwwz8n.align\n",
            "Loaded sgiv2p.align\n",
            "Loaded lbiq1s.align\n",
            "Loaded bwig2p.align\n",
            "Loaded pgwe6n.align\n",
            "Loaded bgin2p.align\n",
            "Loaded pwwk6p.align\n",
            "Loaded sbahzp.align\n",
            "Loaded pbwx1s.align\n",
            "Loaded sbaa7a.align\n",
            "Loaded lgaf5s.align\n",
            "Loaded bras8p.align\n",
            "Loaded pwbk2p.align\n",
            "Loaded sran9s.align\n",
            "Loaded pwip7s.align\n",
            "Loaded prap4n.align\n",
            "Loaded brwa2n.align\n",
            "Loaded srbu7s.align\n",
            "Loaded lwilzp.align\n",
            "Loaded pbib8p.align\n",
            "Loaded pgwzzp.align\n",
            "Loaded pbbp5a.align\n",
            "Loaded lgas5a.align\n",
            "Loaded pwbd8p.align\n",
            "Loaded brag1a.align\n",
            "Loaded bbwg2p.align\n",
            "Loaded bwigzn.align\n",
            "Loaded swwv8p.align\n",
            "Loaded bgin1s.align\n",
            "Loaded pgwl2p.align\n",
            "Loaded srbh9s.align\n",
            "Loaded bbaf5a.align\n",
            "Loaded pwwy4p.align\n",
            "Loaded bgwo3s.align\n",
            "Loaded lrae3s.align\n",
            "Loaded bwaa2p.align\n",
            "Loaded bbir6n.align\n",
            "Loaded sbbbzp.align\n",
            "Loaded srau3s.align\n",
            "Loaded swavzp.align\n",
            "Loaded swwp2n.align\n",
            "Loaded sgbc9a.align\n",
            "Loaded pgay1s.align\n",
            "Loaded lrwz4p.align\n",
            "Loaded lrbl1s.align\n",
            "Loaded lwwm3a.align\n",
            "Loaded pbbj1a.align\n",
            "Loaded pgby7a.align\n",
            "Loaded pwaj9a.align\n",
            "Loaded sgwp8n.align\n",
            "Loaded lbaq6p.align\n",
            "Loaded srbh8n.align\n",
            "Loaded lbbq8n.align\n",
            "Loaded pwwe1s.align\n",
            "Loaded pbio6p.align\n",
            "Loaded lrwl6p.align\n",
            "Loaded pbav5a.align\n",
            "Loaded pwip6n.align\n",
            "Loaded bgit6p.align\n",
            "Loaded lbid4p.align\n",
            "Loaded pbwx3a.align\n",
            "Loaded lbby3s.align\n",
            "Loaded bgwo4p.align\n",
            "Loaded briz7s.align\n",
            "Loaded pbbi9s.align\n",
            "Loaded sria9a.align\n",
            "Loaded pbai7a.align\n",
            "Loaded pgak3s.align\n",
            "Loaded swao5s.align\n",
            "Loaded brif5s.align\n",
            "Loaded swwc7a.align\n",
            "Loaded pgid7a.align\n",
            "Loaded sbia3a.align\n",
            "Loaded bris3s.align\n",
            "Loaded lrar2p.align\n",
            "Loaded bgwb6p.align\n",
            "Loaded lrbr5s.align\n",
            "Loaded sgwd1s.align\n",
            "Loaded bgia4p.align\n",
            "Loaded bgia2n.align\n",
            "Loaded sbag9s.align\n",
            "Loaded swih8p.align\n",
            "Loaded lrak8p.align\n",
            "Loaded lbiq3a.align\n",
            "Loaded srbu8p.align\n",
            "Loaded bwwu2p.align\n",
            "Loaded priv6p.align\n",
            "Loaded sgwd3a.align\n",
            "Loaded pgae1a.align\n",
            "Loaded pwid1a.align\n",
            "Loaded brimzp.align\n",
            "Loaded prav9s.align\n",
            "Loaded bwbn3s.align\n",
            "Loaded bgig7s.align\n",
            "Loaded bbwg1s.align\n",
            "Loaded bbir9a.align\n",
            "Loaded bbal9a.align\n",
            "Loaded swbv2n.align\n",
            "Loaded swib3s.align\n",
            "Loaded swiu7a.align\n",
            "Loaded lrwz2n.align\n",
            "Loaded prbj6p.align\n",
            "Loaded sbbuzn.align\n",
            "Loaded brwa3s.align\n",
            "Loaded brif7a.align\n",
            "Loaded swao7a.align\n",
            "Loaded sgwx4p.align\n",
            "Loaded lgwm7s.align\n",
            "Loaded bgbu2n.align\n",
            "Loaded prwx7s.align\n",
            "Loaded lray7a.align\n",
            "Loaded srwv3a.align\n",
            "Loaded lwiy6n.align\n",
            "Loaded lwae8n.align\n",
            "Loaded pgwl1s.align\n",
            "Loaded pgik1a.align\n",
            "Loaded pwidzp.align\n",
            "Loaded bgbb3a.align\n",
            "Loaded pgay3a.align\n",
            "Loaded lrie1a.align\n",
            "Loaded prav8n.align\n",
            "Loaded sgai7s.align\n",
            "Loaded sbim9s.align\n",
            "Loaded brbg3s.align\n",
            "Loaded lgaz8p.align\n",
            "Loaded lbakzn.align\n",
            "Loaded bbbs5s.align\n",
            "Loaded lgbgzp.align\n",
            "Loaded pbav3s.align\n",
            "Loaded sbat9a.align\n",
            "Loaded pgwr6p.align\n",
            "Loaded lgbs6n.align\n",
            "Loaded sgai6n.align\n",
            "Loaded sbbu2p.align\n",
            "Loaded lbix7a.align\n",
            "Loaded lgwg2n.align\n",
            "Loaded prbj4n.align\n",
            "Loaded bwwh5a.align\n",
            "Loaded lgiz3s.align\n",
            "Loaded pbai5s.align\n",
            "Loaded srwv1s.align\n",
            "Loaded lwwf7s.align\n",
            "Loaded lbiqzn.align\n",
            "Loaded lgil5s.align\n",
            "Loaded pbao9s.align\n",
            "Loaded bwbh1a.align\n",
            "Loaded bras9a.align\n",
            "Loaded sbbu1s.align\n",
            "Loaded swau9s.align\n",
            "Loaded lrbl3a.align\n",
            "Loaded pbwc9s.align\n",
            "Loaded lbid5a.align\n",
            "Loaded bwag6p.align\n",
            "Loaded lgif3a.align\n",
            "Loaded bbaz7a.align\n",
            "Loaded sgbv9s.align\n",
            "Loaded briz6n.align\n",
            "Loaded pbac2p.align\n",
            "Loaded sgiv1s.align\n",
            "Loaded sgwx2n.align\n",
            "Loaded bbiz3a.align\n",
            "Loaded pwix3a.align\n",
            "Loaded lrwszp.align\n",
            "Loaded lbbk5s.align\n",
            "Loaded lwbf5a.align\n",
            "Loaded lrae2n.align\n",
            "Loaded lrik2n.align\n",
            "Loaded prbp8n.align\n",
            "Loaded lbad6n.align\n",
            "Loaded lbwe7a.align\n",
            "Loaded bbws9s.align\n",
            "Loaded bwitzp.align\n",
            "Loaded srbb7a.align\n",
            "Loaded pbwc8n.align\n",
            "Loaded swih9a.align\n",
            "Loaded lgbm3s.align\n",
            "Loaded sgwj6p.align\n",
            "Loaded sbah1a.align\n",
            "Loaded lbij6n.align\n",
            "Loaded pwaj7s.align\n",
            "Loaded lwwm2p.align\n",
            "Loaded lriq6n.align\n",
            "Loaded bginzn.align\n",
            "Loaded sgapzn.align\n",
            "Loaded pwic8n.align\n",
            "Loaded bram4p.align\n",
            "Loaded sgbj2p.align\n",
            "Loaded lgwt1s.align\n",
            "Loaded pwwy2n.align\n",
            "Loaded bgwizp.align\n",
            "Loaded srwv2p.align\n",
            "Loaded briz9a.align\n",
            "Loaded prwq4p.align\n",
            "Loaded swao6p.align\n",
            "Loaded sgai9a.align\n",
            "Loaded bris5a.align\n",
            "Loaded lgaz7s.align\n",
            "Loaded sgap1s.align\n",
            "Loaded lwbl7s.align\n",
            "Loaded bgan7a.align\n",
            "Loaded bbil4p.align\n",
            "Loaded bgan4n.align\n",
            "Loaded pbio5s.align\n",
            "Loaded sgav7a.align\n",
            "Loaded pbbv6n.align\n",
            "Loaded lgwazp.align\n",
            "Loaded lgir8n.align\n",
            "Loaded sgwd2p.align\n",
            "Loaded lbbq9s.align\n",
            "Loaded lwws4n.align\n",
            "Loaded bbiz2p.align\n",
            "Loaded bgbh7a.align\n",
            "Loaded lwar8p.align\n",
            "Loaded lgas4p.align\n",
            "Loaded swbczn.align\n",
            "Loaded swwi9s.align\n",
            "Loaded lwal4p.align\n",
            "Loaded brbm8p.align\n",
            "Loaded srau5a.align\n",
            "Loaded srab3a.align\n",
            "Loaded bbwt1a.align\n",
            "Loaded pwij2n.align\n",
            "Loaded pbao8n.align\n",
            "Loaded brbg2n.align\n",
            "Loaded brwt7a.align\n",
            "Loaded swwv6n.align\n",
            "Loaded lgwtzn.align\n",
            "Loaded bwag5s.align\n",
            "Loaded priv7a.align\n",
            "Loaded bril9s.align\n",
            "Loaded lbbe1s.align\n",
            "Loaded srwb8n.align\n",
            "Loaded srwczp.align\n",
            "Loaded sgai8p.align\n",
            "Loaded lbby4p.align\n",
            "Loaded lbij9a.align\n",
            "Loaded pwwezn.align\n",
            "Loaded swwc4n.align\n",
            "Loaded pwad4p.align\n",
            "Loaded lwal5a.align\n",
            "Loaded brwg6n.align\n",
            "Loaded prbx3s.align\n",
            "Loaded bgwh9s.align\n",
            "Loaded lgir9s.align\n",
            "Loaded bras6n.align\n",
            "Loaded pwax4n.align\n",
            "Loaded pgaezp.align\n",
            "Loaded bgbozp.align\n",
            "Loaded srih2p.align\n",
            "Loaded prbp9s.align\n",
            "Loaded pbib7s.align\n",
            "Loaded lwbz5s.align\n",
            "Loaded bram3s.align\n",
            "Loaded lrae4p.align\n",
            "Loaded pgix6n.align\n",
            "Loaded pwwk5s.align\n",
            "Loaded bgaa8p.align\n",
            "Loaded bgwu7s.align\n",
            "Loaded pgbr3a.align\n",
            "Loaded sbwb3s.align\n",
            "Loaded bgwh8n.align\n",
            "Loaded bbaz5s.align\n",
            "Loaded lgaf7a.align\n",
            "Loaded braf9s.align\n",
            "Loaded lrby8n.align\n",
            "Loaded srit9s.align\n",
            "Loaded pwbk1s.align\n",
            "Loaded lrbe8p.align\n",
            "Loaded bbil2n.align\n",
            "Loaded sgwqzp.align\n",
            "Loaded lrws1a.align\n",
            "Loaded srit8n.align\n",
            "Loaded sbwu7a.align\n",
            "Loaded pgaq8p.align\n",
            "Loaded pbbv9a.align\n",
            "Loaded sbwb5a.align\n",
            "Loaded pgby4n.align\n",
            "Loaded pbwp8p.align\n",
            "Loaded lgal9s.align\n",
            "Loaded prbq1a.align\n",
            "Loaded lgil6p.align\n",
            "Loaded pric2n.align\n",
            "Loaded bwam8n.align\n",
            "Loaded bgah1s.align\n",
            "Loaded bwwa9s.align\n",
            "Loaded pgaq6n.align\n",
            "Loaded sbwb2n.align\n",
            "Loaded lbwe5s.align\n",
            "Loaded swbc1s.align\n",
            "Loaded srin4n.align\n",
            "Loaded pbib6n.align\n",
            "Loaded lbak1s.align\n",
            "Loaded lwwm1s.align\n",
            "Loaded pgwr4n.align\n",
            "Loaded srih1s.align\n",
            "Loaded sgbp6p.align\n",
            "Loaded sgiv3a.align\n",
            "Loaded bwwh2n.align\n",
            "Loaded swwp4p.align\n",
            "Loaded prwd4n.align\n",
            "Loaded srihzn.align\n",
            "Loaded brbtzn.align\n",
            "Loaded sbig6p.align\n",
            "Loaded sbwu6p.align\n",
            "Loaded lrbe6n.align\n",
            "Loaded bbiz1s.align\n",
            "Loaded lbak3a.align\n",
            "Loaded brwt4n.align\n",
            "Loaded bgit7a.align\n",
            "Loaded lrbe7s.align\n",
            "Loaded bwig1s.align\n",
            "Loaded pbav2n.align\n",
            "Loaded bgauzp.align\n",
            "Loaded lgiz4p.align\n",
            "Loaded sgbc8p.align\n",
            "Loaded lbaq4n.align\n",
            "Loaded lbbk4n.align\n",
            "Loaded lrbr6p.align\n",
            "Loaded pgiq3s.align\n",
            "Loaded swab9a.align\n",
            "Loaded pgak5a.align\n",
            "Loaded bgit5s.align\n",
            "Loaded pbapzp.align\n",
            "Loaded lgif1s.align\n",
            "Loaded pbwj2n.align\n",
            "Loaded pwwk7a.align\n",
            "Loaded lwbl6n.align\n",
            "Loaded bgbbzn.align\n",
            "Loaded prii6n.align\n",
            "Loaded sgbj3a.align\n",
            "Loaded pwad3s.align\n",
            "Loaded pbav4p.align\n",
            "Loaded bwis8n.align\n",
            "Loaded bbwg3a.align\n",
            "Loaded brbm6n.align\n",
            "Loaded bbif1a.align\n",
            "Loaded pbii3a.align\n",
            "Loaded lbbk7a.align\n",
            "Loaded swih6n.align\n",
            "Loaded pbai4n.align\n",
            "Loaded brwt5s.align\n",
            "Loaded pbbv8p.align\n",
            "Loaded lray6p.align\n",
            "Loaded lwie5s.align\n",
            "Loaded pbbc4n.align\n",
            "Loaded srbo2n.align\n",
            "Loaded srwb9s.align\n",
            "Loaded lbad9a.align\n",
            "Loaded sgwx5a.align\n",
            "Loaded prbdzn.align\n",
            "Loaded sbit4p.align\n",
            "Loaded srab2p.align\n",
            "Loaded praxzp.align\n",
            "Loaded pwbyzp.align\n",
            "Loaded lbwe4n.align\n",
            "Loaded brwt6p.align\n",
            "Loaded swwjzp.align\n",
            "Loaded brwg8p.align\n",
            "Loaded swiu5s.align\n",
            "Loaded pwip9a.align\n",
            "Loaded pgwz1a.align\n",
            "Loaded sgac4p.align\n",
            "Loaded lbax8n.align\n",
            "Loaded swio2p.align\n",
            "Loaded pbwd1a.align\n",
            "Loaded bbbf7s.align\n",
            "Loaded sbim8n.align\n",
            "Loaded lbwr3s.align\n",
            "Loaded sbwh9a.align\n",
            "Loaded pgbrzn.align\n",
            "Loaded bras7s.align\n",
            "Loaded lwwf9a.align\n",
            "Loaded sgii3s.align\n",
            "Loaded pbbi8n.align\n",
            "Loaded bbal8p.align\n",
            "Loaded srbizp.align\n",
            "Loaded lgifzn.align\n",
            "Loaded pbiizn.align\n",
            "Loaded swbv5a.align\n",
            "Loaded sbbn8p.align\n",
            "Loaded brwg9a.align\n",
            "Loaded brim1a.align\n",
            "Loaded bril8n.align\n",
            "Loaded pgbk8p.align\n",
            "Loaded lbaq7a.align\n",
            "Loaded lwbs2p.align\n",
            "Loaded lwar6n.align\n",
            "Loaded sgbp4n.align\n",
            "Loaded prwx9a.align\n",
            "Loaded bgbn9s.align\n",
            "Loaded lbbr1a.align\n",
            "Loaded srbb6p.align\n",
            "Loaded sgwx3s.align\n",
            "Loaded pbbp3s.align\n",
            "Loaded srau2n.align\n",
            "Loaded pgwy8n.align\n",
            "Loaded pbiu9s.align\n",
            "Loaded brbm9a.align\n",
            "Loaded sgwdzn.align\n",
            "Loaded srbb5s.align\n",
            "Loaded bbaf2n.align\n",
            "Loaded bwim6p.align\n",
            "Loaded bbas3a.align\n",
            "Loaded sgap2p.align\n",
            "Loaded swib5a.align\n",
            "Loaded sbaa6p.align\n",
            "Loaded pgad8n.align\n",
            "Loaded prap7a.align\n",
            "Loaded lwaz2p.align\n",
            "Loaded lwbl9a.align\n",
            "Loaded prip1s.align\n",
            "Loaded sgbp5s.align\n",
            "Loaded pgbe4p.align\n",
            "Loaded lgbg1a.align\n",
            "Loaded pbwj3s.align\n",
            "Loaded bbwtzp.align\n",
            "Loaded bwwb1a.align\n",
            "Loaded lgaz6n.align\n",
            "Loaded lwik9s.align\n",
            "Loaded bbaz6p.align\n",
            "Loaded bwba7a.align\n",
            "Loaded pbwj4p.align\n",
            "Loaded srbo5a.align\n",
            "Loaded bgig6n.align\n",
            "Loaded bwbhzp.align\n",
            "Loaded srin6p.align\n",
            "Loaded bbbz8n.align\n",
            "Loaded prwx6n.align\n",
            "Loaded sgbc6n.align\n",
            "Loaded bwbt6n.align\n",
            "Loaded srbi1a.align\n",
            "Loaded sgbp7a.align\n",
            "Loaded bgig8p.align\n",
            "Loaded bbaf4p.align\n",
            "Loaded lbwr5a.align\n",
            "Loaded srwo8p.align\n",
            "Loaded pbwp7s.align\n",
            "Loaded praj2p.align\n",
            "Loaded bgbu3s.align\n",
            "Loaded bbwm6p.align\n",
            "Loaded pbwx2p.align\n",
            "Loaded srwc1a.align\n",
            "Loaded pwaj8p.align\n",
            "Loaded pgwe9a.align\n",
            "Loaded sgic1a.align\n",
            "Loaded prii7s.align\n",
            "Loaded lbid3s.align\n",
            "Loaded lgbm5a.align\n",
            "Loaded lgiz5a.align\n",
            "Loaded pgbe5a.align\n",
            "Loaded lwaz3a.align\n",
            "Loaded pgaq9a.align\n",
            "Loaded lrwz3s.align\n",
            "Loaded lbayzp.align\n",
            "Loaded pbwdzp.align\n",
            "Loaded lrwr9s.align\n",
            "Loaded bbbm2p.align\n",
            "Loaded prbx5a.align\n",
            "Loaded bwwuzn.align\n",
            "Loaded pbbp2n.align\n",
            "Loaded bbir7s.align\n",
            "Loaded lwik8n.align\n",
            "Loaded bwit1a.align\n",
            "Loaded pbbc5s.align\n",
            "Loaded pgix9a.align\n",
            "Loaded swbv4p.align\n",
            "Loaded bbaz4n.align\n",
            "Loaded priv5s.align\n",
            "Loaded srao1a.align\n"
          ]
        }
      ],
      "source": [
        "# path_2 = \"./drive/MyDrive/Project/Lip_reading/raw_data/alignments/s1\"\n",
        "path_2 = \"../raw_data/alignments/s1\"\n",
        "\n",
        "\n",
        "alignments = []\n",
        "\n",
        "for file in os.listdir(path_2):\n",
        "  alignment = load_alignments(os.path.join(path_2, file))\n",
        "  alignments.append(alignment)\n",
        "  print(f\"Loaded {file}\")"
      ]
    },
    {
      "cell_type": "code",
      "execution_count": 38,
      "id": "DD-OxgsmoGfa",
      "metadata": {
        "colab": {
          "base_uri": "https://localhost:8080/"
        },
        "id": "DD-OxgsmoGfa",
        "outputId": "e64b20b2-0ba2-4271-a7bb-7f4c08576662"
      },
      "outputs": [
        {
          "name": "stdout",
          "output_type": "stream",
          "text": [
            "Longest alignment length: 31\n"
          ]
        }
      ],
      "source": [
        "max_len = max([tf.shape(tensor)[0].numpy() for tensor in alignments])\n",
        "print(\"Longest alignment length:\", max_len)"
      ]
    },
    {
      "cell_type": "markdown",
      "id": "fP9GgYzkYhEc",
      "metadata": {
        "id": "fP9GgYzkYhEc"
      },
      "source": [
        "## Load Data Function"
      ]
    },
    {
      "cell_type": "code",
      "execution_count": 39,
      "id": "X4yy5tJXudC0",
      "metadata": {
        "colab": {
          "base_uri": "https://localhost:8080/",
          "height": 35
        },
        "id": "X4yy5tJXudC0",
        "outputId": "6a660049-0749-4245-805a-fc8d88e4882e"
      },
      "outputs": [
        {
          "data": {
            "text/plain": [
              "'./drive/MyDrive/Project/Lip_reading/raw_data/alignments/s1'"
            ]
          },
          "execution_count": 39,
          "metadata": {},
          "output_type": "execute_result"
        }
      ],
      "source": [
        "tf.convert_to_tensor(path).numpy().decode('utf-8')"
      ]
    },
    {
      "cell_type": "code",
      "execution_count": 42,
      "id": "AKak79fwYkDO",
      "metadata": {
        "id": "AKak79fwYkDO"
      },
      "outputs": [],
      "source": [
        "def load_data(path: tf.Tensor):\n",
        "  '''\n",
        "  Take a path as a tensor, load the video and corresponding alignments,\n",
        "  and return two tensors, one for the processed frames,\n",
        "  one for the encoded tokens.\n",
        "  '''\n",
        "  # Convert the path back into a string\n",
        "  path = bytes.decode(path.numpy())\n",
        "\n",
        "  # Get file name from path\n",
        "  file_name = path.split('/')[-1].split('.')[0]\n",
        "\n",
        "  # Get path from file name\n",
        "  video_path = os.path.join('../raw_data/videos/s1',f'{file_name}.mpg')\n",
        "  alignment_path = os.path.join('../raw_data/alignments/s1',f'{file_name}.align')\n",
        "\n",
        "  # Load data\n",
        "  frames = load_video(video_path)\n",
        "  alignments = load_alignments(alignment_path)\n",
        "\n",
        "  return frames, alignments"
      ]
    },
    {
      "cell_type": "markdown",
      "id": "q5-QaFwyeD-y",
      "metadata": {
        "id": "q5-QaFwyeD-y"
      },
      "source": [
        "### Load Test"
      ]
    },
    {
      "cell_type": "code",
      "execution_count": 43,
      "id": "E9AS5g17bXx_",
      "metadata": {
        "id": "E9AS5g17bXx_"
      },
      "outputs": [],
      "source": [
        "path_3 = \"../raw_data/videos/s1/bbaf2n.mpg\"\n",
        "path_3 = tf.convert_to_tensor(path_3)\n",
        "f, a = load_data(path_3)"
      ]
    },
    {
      "cell_type": "code",
      "execution_count": 44,
      "id": "3p2VgxV-zIy5",
      "metadata": {
        "colab": {
          "base_uri": "https://localhost:8080/",
          "height": 244
        },
        "id": "3p2VgxV-zIy5",
        "outputId": "5936dcc2-7d9c-409a-c40b-c54fce6c9c5c"
      },
      "outputs": [
        {
          "data": {
            "text/plain": [
              "<matplotlib.image.AxesImage at 0x7f4e70f010f0>"
            ]
          },
          "execution_count": 44,
          "metadata": {},
          "output_type": "execute_result"
        },
        {
          "data": {
            "image/png": "[encoded data removed]",
            "text/plain": [
              "<Figure size 640x480 with 1 Axes>"
            ]
          },
          "metadata": {},
          "output_type": "display_data"
        }
      ],
      "source": [
        "plt.imshow(f[0])"
      ]
    },
    {
      "cell_type": "code",
      "execution_count": 45,
      "id": "xIzEyjV0cwaB",
      "metadata": {
        "colab": {
          "base_uri": "https://localhost:8080/"
        },
        "id": "xIzEyjV0cwaB",
        "outputId": "bbf4e856-f889-49f6-d782-e31d0489532a"
      },
      "outputs": [
        {
          "data": {
            "text/plain": [
              "<tf.Tensor: shape=(21,), dtype=int64, numpy=\n",
              "array([ 2,  9, 14, 39,  2, 12, 21,  5, 39,  1, 20, 39,  6, 39, 20, 23, 15,\n",
              "       39, 14, 15, 23])>"
            ]
          },
          "execution_count": 45,
          "metadata": {},
          "output_type": "execute_result"
        }
      ],
      "source": [
        "a"
      ]
    },
    {
      "cell_type": "code",
      "execution_count": 46,
      "id": "ffdbe21d",
      "metadata": {},
      "outputs": [],
      "source": [
        "def map_function(path: tf.Tensor):\n",
        "    result = tf.py_function(load_data, [path], (tf.float32, tf.int64))"
      ]
    },
    {
      "cell_type": "markdown",
      "id": "pUVS5Mh1eF6Z",
      "metadata": {
        "id": "pUVS5Mh1eF6Z"
      },
      "source": [
        "# Pipeline"
      ]
    },
    {
      "cell_type": "code",
      "execution_count": 59,
      "id": "3a3388a6",
      "metadata": {},
      "outputs": [
        {
          "data": {
            "text/plain": [
              "0"
            ]
          },
          "execution_count": 59,
          "metadata": {},
          "output_type": "execute_result"
        }
      ],
      "source": [
        "data = 0\n",
        "data"
      ]
    },
    {
      "cell_type": "code",
      "execution_count": 60,
      "id": "-LPgFgNSeVUu",
      "metadata": {
        "id": "-LPgFgNSeVUu"
      },
      "outputs": [],
      "source": [
        "data = tf.data.Dataset.list_files(\n",
        "    # './drive/MyDrive/Project/Lip_reading/raw_data/videos/s1/*.mpg'\n",
        "    '../raw_data/videos/s1/*.mpg'\n",
        ")"
      ]
    },
    {
      "cell_type": "code",
      "execution_count": 61,
      "id": "9daba981",
      "metadata": {},
      "outputs": [
        {
          "data": {
            "text/plain": [
              "<_ShuffleDataset element_spec=TensorSpec(shape=(), dtype=tf.string, name=None)>"
            ]
          },
          "execution_count": 61,
          "metadata": {},
          "output_type": "execute_result"
        }
      ],
      "source": [
        "data"
      ]
    },
    {
      "cell_type": "code",
      "execution_count": 62,
      "id": "X05Ik1-IimvX",
      "metadata": {
        "id": "X05Ik1-IimvX"
      },
      "outputs": [],
      "source": [
        "data = data.shuffle(500, reshuffle_each_iteration=False)"
      ]
    },
    {
      "cell_type": "code",
      "execution_count": 63,
      "id": "6vCKdSKSk40r",
      "metadata": {
        "colab": {
          "base_uri": "https://localhost:8080/"
        },
        "id": "6vCKdSKSk40r",
        "outputId": "ec3721bb-dc08-4439-814b-42e88e89bf37"
      },
      "outputs": [
        {
          "ename": "InvalidArgumentError",
          "evalue": "Length for attr 'output_types' of 0 must be at least minimum 1\n\t; NodeDef: {{node MapDataset}}; Op<name=MapDataset; signature=input_dataset:variant, other_arguments: -> handle:variant; attr=f:func; attr=Targuments:list(type),min=0; attr=output_types:list(type),min=1; attr=output_shapes:list(shape),min=1; attr=use_inter_op_parallelism:bool,default=true; attr=preserve_cardinality:bool,default=false; attr=force_synchronous:bool,default=false; attr=metadata:string,default=\"\"> [Op:MapDataset] name: ",
          "output_type": "error",
          "traceback": [
            "\u001b[0;31m---------------------------------------------------------------------------\u001b[0m",
            "\u001b[0;31mInvalidArgumentError\u001b[0m                      Traceback (most recent call last)",
            "Cell \u001b[0;32mIn[63], line 1\u001b[0m\n\u001b[0;32m----> 1\u001b[0m data \u001b[38;5;241m=\u001b[39m \u001b[43mdata\u001b[49m\u001b[38;5;241;43m.\u001b[39;49m\u001b[43mmap\u001b[49m\u001b[43m(\u001b[49m\u001b[43mmap_function\u001b[49m\u001b[43m)\u001b[49m\n",
            "File \u001b[0;32m~/.pyenv/versions/lip_reading-env/lib/python3.10/site-packages/tensorflow/python/data/ops/dataset_ops.py:2341\u001b[0m, in \u001b[0;36mDatasetV2.map\u001b[0;34m(self, map_func, num_parallel_calls, deterministic, synchronous, use_unbounded_threadpool, name)\u001b[0m\n\u001b[1;32m   2336\u001b[0m \u001b[38;5;66;03m# Loaded lazily due to a circular dependency (dataset_ops -> map_op ->\u001b[39;00m\n\u001b[1;32m   2337\u001b[0m \u001b[38;5;66;03m# dataset_ops).\u001b[39;00m\n\u001b[1;32m   2338\u001b[0m \u001b[38;5;66;03m# pylint: disable=g-import-not-at-top,protected-access\u001b[39;00m\n\u001b[1;32m   2339\u001b[0m \u001b[38;5;28;01mfrom\u001b[39;00m\u001b[38;5;250m \u001b[39m\u001b[38;5;21;01mtensorflow\u001b[39;00m\u001b[38;5;21;01m.\u001b[39;00m\u001b[38;5;21;01mpython\u001b[39;00m\u001b[38;5;21;01m.\u001b[39;00m\u001b[38;5;21;01mdata\u001b[39;00m\u001b[38;5;21;01m.\u001b[39;00m\u001b[38;5;21;01mops\u001b[39;00m\u001b[38;5;250m \u001b[39m\u001b[38;5;28;01mimport\u001b[39;00m map_op\n\u001b[0;32m-> 2341\u001b[0m \u001b[38;5;28;01mreturn\u001b[39;00m \u001b[43mmap_op\u001b[49m\u001b[38;5;241;43m.\u001b[39;49m\u001b[43m_map_v2\u001b[49m\u001b[43m(\u001b[49m\n\u001b[1;32m   2342\u001b[0m \u001b[43m    \u001b[49m\u001b[38;5;28;43mself\u001b[39;49m\u001b[43m,\u001b[49m\n\u001b[1;32m   2343\u001b[0m \u001b[43m    \u001b[49m\u001b[43mmap_func\u001b[49m\u001b[43m,\u001b[49m\n\u001b[1;32m   2344\u001b[0m \u001b[43m    \u001b[49m\u001b[43mnum_parallel_calls\u001b[49m\u001b[38;5;241;43m=\u001b[39;49m\u001b[43mnum_parallel_calls\u001b[49m\u001b[43m,\u001b[49m\n\u001b[1;32m   2345\u001b[0m \u001b[43m    \u001b[49m\u001b[43mdeterministic\u001b[49m\u001b[38;5;241;43m=\u001b[39;49m\u001b[43mdeterministic\u001b[49m\u001b[43m,\u001b[49m\n\u001b[1;32m   2346\u001b[0m \u001b[43m    \u001b[49m\u001b[43msynchronous\u001b[49m\u001b[38;5;241;43m=\u001b[39;49m\u001b[43msynchronous\u001b[49m\u001b[43m,\u001b[49m\n\u001b[1;32m   2347\u001b[0m \u001b[43m    \u001b[49m\u001b[43muse_unbounded_threadpool\u001b[49m\u001b[38;5;241;43m=\u001b[39;49m\u001b[43muse_unbounded_threadpool\u001b[49m\u001b[43m,\u001b[49m\n\u001b[1;32m   2348\u001b[0m \u001b[43m    \u001b[49m\u001b[43mname\u001b[49m\u001b[38;5;241;43m=\u001b[39;49m\u001b[43mname\u001b[49m\u001b[43m,\u001b[49m\n\u001b[1;32m   2349\u001b[0m \u001b[43m\u001b[49m\u001b[43m)\u001b[49m\n",
            "File \u001b[0;32m~/.pyenv/versions/lip_reading-env/lib/python3.10/site-packages/tensorflow/python/data/ops/map_op.py:43\u001b[0m, in \u001b[0;36m_map_v2\u001b[0;34m(input_dataset, map_func, num_parallel_calls, deterministic, synchronous, use_unbounded_threadpool, name)\u001b[0m\n\u001b[1;32m     38\u001b[0m   \u001b[38;5;28;01mif\u001b[39;00m deterministic \u001b[38;5;129;01mis\u001b[39;00m \u001b[38;5;129;01mnot\u001b[39;00m \u001b[38;5;28;01mNone\u001b[39;00m \u001b[38;5;129;01mand\u001b[39;00m \u001b[38;5;129;01mnot\u001b[39;00m debug_mode\u001b[38;5;241m.\u001b[39mDEBUG_MODE:\n\u001b[1;32m     39\u001b[0m     warnings\u001b[38;5;241m.\u001b[39mwarn(\n\u001b[1;32m     40\u001b[0m         \u001b[38;5;124m\"\u001b[39m\u001b[38;5;124mThe `deterministic` argument has no effect unless the \u001b[39m\u001b[38;5;124m\"\u001b[39m\n\u001b[1;32m     41\u001b[0m         \u001b[38;5;124m\"\u001b[39m\u001b[38;5;124m`num_parallel_calls` argument is specified.\u001b[39m\u001b[38;5;124m\"\u001b[39m\n\u001b[1;32m     42\u001b[0m     )\n\u001b[0;32m---> 43\u001b[0m   \u001b[38;5;28;01mreturn\u001b[39;00m \u001b[43m_MapDataset\u001b[49m\u001b[43m(\u001b[49m\n\u001b[1;32m     44\u001b[0m \u001b[43m      \u001b[49m\u001b[43minput_dataset\u001b[49m\u001b[43m,\u001b[49m\n\u001b[1;32m     45\u001b[0m \u001b[43m      \u001b[49m\u001b[43mmap_func\u001b[49m\u001b[43m,\u001b[49m\n\u001b[1;32m     46\u001b[0m \u001b[43m      \u001b[49m\u001b[43mpreserve_cardinality\u001b[49m\u001b[38;5;241;43m=\u001b[39;49m\u001b[38;5;28;43;01mTrue\u001b[39;49;00m\u001b[43m,\u001b[49m\n\u001b[1;32m     47\u001b[0m \u001b[43m      \u001b[49m\u001b[43mforce_synchronous\u001b[49m\u001b[38;5;241;43m=\u001b[39;49m\u001b[38;5;28;43;01mFalse\u001b[39;49;00m\u001b[43m \u001b[49m\u001b[38;5;28;43;01mif\u001b[39;49;00m\u001b[43m \u001b[49m\u001b[43msynchronous\u001b[49m\u001b[43m \u001b[49m\u001b[38;5;129;43;01mis\u001b[39;49;00m\u001b[43m \u001b[49m\u001b[38;5;28;43;01mNone\u001b[39;49;00m\u001b[43m \u001b[49m\u001b[38;5;28;43;01melse\u001b[39;49;00m\u001b[43m \u001b[49m\u001b[43msynchronous\u001b[49m\u001b[43m,\u001b[49m\n\u001b[1;32m     48\u001b[0m \u001b[43m      \u001b[49m\u001b[43mname\u001b[49m\u001b[38;5;241;43m=\u001b[39;49m\u001b[43mname\u001b[49m\u001b[43m,\u001b[49m\n\u001b[1;32m     49\u001b[0m \u001b[43m  \u001b[49m\u001b[43m)\u001b[49m\n\u001b[1;32m     50\u001b[0m \u001b[38;5;28;01melse\u001b[39;00m:\n\u001b[1;32m     51\u001b[0m   \u001b[38;5;28;01mif\u001b[39;00m synchronous:\n",
            "File \u001b[0;32m~/.pyenv/versions/lip_reading-env/lib/python3.10/site-packages/tensorflow/python/data/ops/map_op.py:164\u001b[0m, in \u001b[0;36m_MapDataset.__init__\u001b[0;34m(self, input_dataset, map_func, force_synchronous, use_inter_op_parallelism, preserve_cardinality, use_legacy_function, name)\u001b[0m\n\u001b[1;32m    162\u001b[0m \u001b[38;5;28mself\u001b[39m\u001b[38;5;241m.\u001b[39m_force_synchronous \u001b[38;5;241m=\u001b[39m force_synchronous\n\u001b[1;32m    163\u001b[0m \u001b[38;5;28mself\u001b[39m\u001b[38;5;241m.\u001b[39m_name \u001b[38;5;241m=\u001b[39m name\n\u001b[0;32m--> 164\u001b[0m variant_tensor \u001b[38;5;241m=\u001b[39m \u001b[43mgen_dataset_ops\u001b[49m\u001b[38;5;241;43m.\u001b[39;49m\u001b[43mmap_dataset\u001b[49m\u001b[43m(\u001b[49m\n\u001b[1;32m    165\u001b[0m \u001b[43m    \u001b[49m\u001b[43minput_dataset\u001b[49m\u001b[38;5;241;43m.\u001b[39;49m\u001b[43m_variant_tensor\u001b[49m\u001b[43m,\u001b[49m\u001b[43m  \u001b[49m\u001b[38;5;66;43;03m# pylint: disable=protected-access\u001b[39;49;00m\n\u001b[1;32m    166\u001b[0m \u001b[43m    \u001b[49m\u001b[38;5;28;43mself\u001b[39;49m\u001b[38;5;241;43m.\u001b[39;49m\u001b[43m_map_func\u001b[49m\u001b[38;5;241;43m.\u001b[39;49m\u001b[43mfunction\u001b[49m\u001b[38;5;241;43m.\u001b[39;49m\u001b[43mcaptured_inputs\u001b[49m\u001b[43m,\u001b[49m\n\u001b[1;32m    167\u001b[0m \u001b[43m    \u001b[49m\u001b[43mf\u001b[49m\u001b[38;5;241;43m=\u001b[39;49m\u001b[38;5;28;43mself\u001b[39;49m\u001b[38;5;241;43m.\u001b[39;49m\u001b[43m_map_func\u001b[49m\u001b[38;5;241;43m.\u001b[39;49m\u001b[43mfunction\u001b[49m\u001b[43m,\u001b[49m\n\u001b[1;32m    168\u001b[0m \u001b[43m    \u001b[49m\u001b[43muse_inter_op_parallelism\u001b[49m\u001b[38;5;241;43m=\u001b[39;49m\u001b[38;5;28;43mself\u001b[39;49m\u001b[38;5;241;43m.\u001b[39;49m\u001b[43m_use_inter_op_parallelism\u001b[49m\u001b[43m,\u001b[49m\n\u001b[1;32m    169\u001b[0m \u001b[43m    \u001b[49m\u001b[43mpreserve_cardinality\u001b[49m\u001b[38;5;241;43m=\u001b[39;49m\u001b[38;5;28;43mself\u001b[39;49m\u001b[38;5;241;43m.\u001b[39;49m\u001b[43m_preserve_cardinality\u001b[49m\u001b[43m,\u001b[49m\n\u001b[1;32m    170\u001b[0m \u001b[43m    \u001b[49m\u001b[43mforce_synchronous\u001b[49m\u001b[38;5;241;43m=\u001b[39;49m\u001b[38;5;28;43mself\u001b[39;49m\u001b[38;5;241;43m.\u001b[39;49m\u001b[43m_force_synchronous\u001b[49m\u001b[43m,\u001b[49m\n\u001b[1;32m    171\u001b[0m \u001b[43m    \u001b[49m\u001b[38;5;241;43m*\u001b[39;49m\u001b[38;5;241;43m*\u001b[39;49m\u001b[38;5;28;43mself\u001b[39;49m\u001b[38;5;241;43m.\u001b[39;49m\u001b[43m_common_args\u001b[49m\n\u001b[1;32m    172\u001b[0m \u001b[43m\u001b[49m\u001b[43m)\u001b[49m\n\u001b[1;32m    173\u001b[0m \u001b[38;5;28msuper\u001b[39m()\u001b[38;5;241m.\u001b[39m\u001b[38;5;21m__init__\u001b[39m(input_dataset, variant_tensor)\n",
            "File \u001b[0;32m~/.pyenv/versions/lip_reading-env/lib/python3.10/site-packages/tensorflow/python/ops/gen_dataset_ops.py:3538\u001b[0m, in \u001b[0;36mmap_dataset\u001b[0;34m(input_dataset, other_arguments, f, output_types, output_shapes, use_inter_op_parallelism, preserve_cardinality, force_synchronous, metadata, name)\u001b[0m\n\u001b[1;32m   3536\u001b[0m   \u001b[38;5;28;01mreturn\u001b[39;00m _result\n\u001b[1;32m   3537\u001b[0m \u001b[38;5;28;01mexcept\u001b[39;00m _core\u001b[38;5;241m.\u001b[39m_NotOkStatusException \u001b[38;5;28;01mas\u001b[39;00m e:\n\u001b[0;32m-> 3538\u001b[0m   \u001b[43m_ops\u001b[49m\u001b[38;5;241;43m.\u001b[39;49m\u001b[43mraise_from_not_ok_status\u001b[49m\u001b[43m(\u001b[49m\u001b[43me\u001b[49m\u001b[43m,\u001b[49m\u001b[43m \u001b[49m\u001b[43mname\u001b[49m\u001b[43m)\u001b[49m\n\u001b[1;32m   3539\u001b[0m \u001b[38;5;28;01mexcept\u001b[39;00m _core\u001b[38;5;241m.\u001b[39m_FallbackException:\n\u001b[1;32m   3540\u001b[0m   \u001b[38;5;28;01mpass\u001b[39;00m\n",
            "File \u001b[0;32m~/.pyenv/versions/lip_reading-env/lib/python3.10/site-packages/tensorflow/python/framework/ops.py:6006\u001b[0m, in \u001b[0;36mraise_from_not_ok_status\u001b[0;34m(e, name)\u001b[0m\n\u001b[1;32m   6004\u001b[0m \u001b[38;5;28;01mdef\u001b[39;00m\u001b[38;5;250m \u001b[39m\u001b[38;5;21mraise_from_not_ok_status\u001b[39m(e, name) \u001b[38;5;241m-\u001b[39m\u001b[38;5;241m>\u001b[39m NoReturn:\n\u001b[1;32m   6005\u001b[0m   e\u001b[38;5;241m.\u001b[39mmessage \u001b[38;5;241m+\u001b[39m\u001b[38;5;241m=\u001b[39m (\u001b[38;5;124m\"\u001b[39m\u001b[38;5;124m name: \u001b[39m\u001b[38;5;124m\"\u001b[39m \u001b[38;5;241m+\u001b[39m \u001b[38;5;28mstr\u001b[39m(name \u001b[38;5;28;01mif\u001b[39;00m name \u001b[38;5;129;01mis\u001b[39;00m \u001b[38;5;129;01mnot\u001b[39;00m \u001b[38;5;28;01mNone\u001b[39;00m \u001b[38;5;28;01melse\u001b[39;00m \u001b[38;5;124m\"\u001b[39m\u001b[38;5;124m\"\u001b[39m))\n\u001b[0;32m-> 6006\u001b[0m   \u001b[38;5;28;01mraise\u001b[39;00m core\u001b[38;5;241m.\u001b[39m_status_to_exception(e) \u001b[38;5;28;01mfrom\u001b[39;00m\u001b[38;5;250m \u001b[39m\u001b[38;5;28;01mNone\u001b[39;00m\n",
            "\u001b[0;31mInvalidArgumentError\u001b[0m: Length for attr 'output_types' of 0 must be at least minimum 1\n\t; NodeDef: {{node MapDataset}}; Op<name=MapDataset; signature=input_dataset:variant, other_arguments: -> handle:variant; attr=f:func; attr=Targuments:list(type),min=0; attr=output_types:list(type),min=1; attr=output_shapes:list(shape),min=1; attr=use_inter_op_parallelism:bool,default=true; attr=preserve_cardinality:bool,default=false; attr=force_synchronous:bool,default=false; attr=metadata:string,default=\"\"> [Op:MapDataset] name: "
          ]
        }
      ],
      "source": [
        "data = data.map(map_function)"
      ]
    },
    {
      "cell_type": "code",
      "execution_count": 50,
      "id": "91bbc099",
      "metadata": {},
      "outputs": [
        {
          "ename": "ValueError",
          "evalue": "Can't convert Python sequence with mixed types to Tensor.",
          "output_type": "error",
          "traceback": [
            "\u001b[0;31m---------------------------------------------------------------------------\u001b[0m",
            "\u001b[0;31mTypeError\u001b[0m                                 Traceback (most recent call last)",
            "File \u001b[0;32m~/.pyenv/versions/lip_reading-env/lib/python3.10/site-packages/tensorflow/python/data/ops/padded_batch_op.py:98\u001b[0m, in \u001b[0;36m_padded_shape_to_tensor\u001b[0;34m(padded_shape, input_component_shape)\u001b[0m\n\u001b[1;32m     96\u001b[0m \u001b[38;5;28;01mtry\u001b[39;00m:\n\u001b[1;32m     97\u001b[0m   \u001b[38;5;66;03m# Try to convert the `padded_shape` to a `tf.TensorShape`\u001b[39;00m\n\u001b[0;32m---> 98\u001b[0m   padded_shape_as_shape \u001b[38;5;241m=\u001b[39m \u001b[43mtensor_shape\u001b[49m\u001b[38;5;241;43m.\u001b[39;49m\u001b[43mas_shape\u001b[49m\u001b[43m(\u001b[49m\u001b[43mpadded_shape\u001b[49m\u001b[43m)\u001b[49m\n\u001b[1;32m     99\u001b[0m   \u001b[38;5;66;03m# We will return the \"canonical\" tensor representation, which uses\u001b[39;00m\n\u001b[1;32m    100\u001b[0m   \u001b[38;5;66;03m# `-1` in place of `None`.\u001b[39;00m\n",
            "File \u001b[0;32m~/.pyenv/versions/lip_reading-env/lib/python3.10/site-packages/tensorflow/python/framework/tensor_shape.py:1550\u001b[0m, in \u001b[0;36mas_shape\u001b[0;34m(shape)\u001b[0m\n\u001b[1;32m   1549\u001b[0m \u001b[38;5;28;01melse\u001b[39;00m:\n\u001b[0;32m-> 1550\u001b[0m   \u001b[38;5;28;01mreturn\u001b[39;00m \u001b[43mTensorShape\u001b[49m\u001b[43m(\u001b[49m\u001b[43mshape\u001b[49m\u001b[43m)\u001b[49m\n",
            "File \u001b[0;32m~/.pyenv/versions/lip_reading-env/lib/python3.10/site-packages/tensorflow/python/framework/tensor_shape.py:830\u001b[0m, in \u001b[0;36mTensorShape.__init__\u001b[0;34m(self, dims)\u001b[0m\n\u001b[1;32m    829\u001b[0m \u001b[38;5;28;01mif\u001b[39;00m \u001b[38;5;28misinstance\u001b[39m(dims, (\u001b[38;5;28mtuple\u001b[39m, \u001b[38;5;28mlist\u001b[39m)):  \u001b[38;5;66;03m# Most common case.\u001b[39;00m\n\u001b[0;32m--> 830\u001b[0m   \u001b[38;5;28mself\u001b[39m\u001b[38;5;241m.\u001b[39m_dims \u001b[38;5;241m=\u001b[39m \u001b[38;5;28;43mtuple\u001b[39;49m\u001b[43m(\u001b[49m\u001b[43mas_dimension\u001b[49m\u001b[43m(\u001b[49m\u001b[43md\u001b[49m\u001b[43m)\u001b[49m\u001b[38;5;241;43m.\u001b[39;49m\u001b[43mvalue\u001b[49m\u001b[43m \u001b[49m\u001b[38;5;28;43;01mfor\u001b[39;49;00m\u001b[43m \u001b[49m\u001b[43md\u001b[49m\u001b[43m \u001b[49m\u001b[38;5;129;43;01min\u001b[39;49;00m\u001b[43m \u001b[49m\u001b[43mdims\u001b[49m\u001b[43m)\u001b[49m\n\u001b[1;32m    831\u001b[0m \u001b[38;5;28;01melif\u001b[39;00m dims \u001b[38;5;129;01mis\u001b[39;00m \u001b[38;5;28;01mNone\u001b[39;00m:\n",
            "File \u001b[0;32m~/.pyenv/versions/lip_reading-env/lib/python3.10/site-packages/tensorflow/python/framework/tensor_shape.py:830\u001b[0m, in \u001b[0;36m<genexpr>\u001b[0;34m(.0)\u001b[0m\n\u001b[1;32m    829\u001b[0m \u001b[38;5;28;01mif\u001b[39;00m \u001b[38;5;28misinstance\u001b[39m(dims, (\u001b[38;5;28mtuple\u001b[39m, \u001b[38;5;28mlist\u001b[39m)):  \u001b[38;5;66;03m# Most common case.\u001b[39;00m\n\u001b[0;32m--> 830\u001b[0m   \u001b[38;5;28mself\u001b[39m\u001b[38;5;241m.\u001b[39m_dims \u001b[38;5;241m=\u001b[39m \u001b[38;5;28mtuple\u001b[39m(\u001b[43mas_dimension\u001b[49m\u001b[43m(\u001b[49m\u001b[43md\u001b[49m\u001b[43m)\u001b[49m\u001b[38;5;241m.\u001b[39mvalue \u001b[38;5;28;01mfor\u001b[39;00m d \u001b[38;5;129;01min\u001b[39;00m dims)\n\u001b[1;32m    831\u001b[0m \u001b[38;5;28;01melif\u001b[39;00m dims \u001b[38;5;129;01mis\u001b[39;00m \u001b[38;5;28;01mNone\u001b[39;00m:\n",
            "File \u001b[0;32m~/.pyenv/versions/lip_reading-env/lib/python3.10/site-packages/tensorflow/python/framework/tensor_shape.py:744\u001b[0m, in \u001b[0;36mas_dimension\u001b[0;34m(value)\u001b[0m\n\u001b[1;32m    743\u001b[0m \u001b[38;5;28;01melse\u001b[39;00m:\n\u001b[0;32m--> 744\u001b[0m   \u001b[38;5;28;01mreturn\u001b[39;00m \u001b[43mDimension\u001b[49m\u001b[43m(\u001b[49m\u001b[43mvalue\u001b[49m\u001b[43m)\u001b[49m\n",
            "File \u001b[0;32m~/.pyenv/versions/lip_reading-env/lib/python3.10/site-packages/tensorflow/python/framework/tensor_shape.py:220\u001b[0m, in \u001b[0;36mDimension.__init__\u001b[0;34m(self, value)\u001b[0m\n\u001b[1;32m    219\u001b[0m \u001b[38;5;28;01mexcept\u001b[39;00m \u001b[38;5;167;01mAttributeError\u001b[39;00m:\n\u001b[0;32m--> 220\u001b[0m   \u001b[38;5;28;01mraise\u001b[39;00m \u001b[38;5;167;01mTypeError\u001b[39;00m(\n\u001b[1;32m    221\u001b[0m       \u001b[38;5;124m\"\u001b[39m\u001b[38;5;124mDimension value must be integer or None or have \u001b[39m\u001b[38;5;124m\"\u001b[39m\n\u001b[1;32m    222\u001b[0m       \u001b[38;5;124m\"\u001b[39m\u001b[38;5;124man __index__ method, got value \u001b[39m\u001b[38;5;124m'\u001b[39m\u001b[38;5;132;01m{0!r}\u001b[39;00m\u001b[38;5;124m'\u001b[39m\u001b[38;5;124m with type \u001b[39m\u001b[38;5;124m'\u001b[39m\u001b[38;5;132;01m{1!r}\u001b[39;00m\u001b[38;5;124m'\u001b[39m\u001b[38;5;124m\"\u001b[39m\u001b[38;5;241m.\u001b[39mformat(\n\u001b[1;32m    223\u001b[0m           value, \u001b[38;5;28mtype\u001b[39m(value))) \u001b[38;5;28;01mfrom\u001b[39;00m\u001b[38;5;250m \u001b[39m\u001b[38;5;28;01mNone\u001b[39;00m\n\u001b[1;32m    224\u001b[0m \u001b[38;5;28;01mif\u001b[39;00m \u001b[38;5;28mself\u001b[39m\u001b[38;5;241m.\u001b[39m_value \u001b[38;5;241m<\u001b[39m \u001b[38;5;241m0\u001b[39m:\n",
            "\u001b[0;31mTypeError\u001b[0m: Dimension value must be integer or None or have an __index__ method, got value '[75, None, None, None]' with type '<class 'list'>'",
            "\nDuring handling of the above exception, another exception occurred:\n",
            "\u001b[0;31mValueError\u001b[0m                                Traceback (most recent call last)",
            "Cell \u001b[0;32mIn[50], line 1\u001b[0m\n\u001b[0;32m----> 1\u001b[0m data \u001b[38;5;241m=\u001b[39m \u001b[43mdata\u001b[49m\u001b[38;5;241;43m.\u001b[39;49m\u001b[43mpadded_batch\u001b[49m\u001b[43m(\u001b[49m\u001b[38;5;241;43m2\u001b[39;49m\u001b[43m,\u001b[49m\u001b[43m \u001b[49m\u001b[43mpadded_shapes\u001b[49m\u001b[38;5;241;43m=\u001b[39;49m\u001b[43m(\u001b[49m\u001b[43m[\u001b[49m\u001b[38;5;241;43m75\u001b[39;49m\u001b[43m,\u001b[49m\u001b[43m \u001b[49m\u001b[38;5;28;43;01mNone\u001b[39;49;00m\u001b[43m,\u001b[49m\u001b[43m \u001b[49m\u001b[38;5;28;43;01mNone\u001b[39;49;00m\u001b[43m,\u001b[49m\u001b[43m \u001b[49m\u001b[38;5;28;43;01mNone\u001b[39;49;00m\u001b[43m]\u001b[49m\u001b[43m,\u001b[49m\u001b[43m \u001b[49m\u001b[43m[\u001b[49m\u001b[38;5;241;43m40\u001b[39;49m\u001b[43m]\u001b[49m\u001b[43m)\u001b[49m\u001b[43m)\u001b[49m\n",
            "File \u001b[0;32m~/.pyenv/versions/lip_reading-env/lib/python3.10/site-packages/tensorflow/python/data/ops/dataset_ops.py:2045\u001b[0m, in \u001b[0;36mDatasetV2.padded_batch\u001b[0;34m(self, batch_size, padded_shapes, padding_values, drop_remainder, name)\u001b[0m\n\u001b[1;32m   2041\u001b[0m \u001b[38;5;66;03m# Loaded lazily due to a circular dependency (dataset_ops ->\u001b[39;00m\n\u001b[1;32m   2042\u001b[0m \u001b[38;5;66;03m# padded_batch_op -> dataset_ops).\u001b[39;00m\n\u001b[1;32m   2043\u001b[0m \u001b[38;5;66;03m# pylint: disable=g-import-not-at-top,protected-access\u001b[39;00m\n\u001b[1;32m   2044\u001b[0m \u001b[38;5;28;01mfrom\u001b[39;00m\u001b[38;5;250m \u001b[39m\u001b[38;5;21;01mtensorflow\u001b[39;00m\u001b[38;5;21;01m.\u001b[39;00m\u001b[38;5;21;01mpython\u001b[39;00m\u001b[38;5;21;01m.\u001b[39;00m\u001b[38;5;21;01mdata\u001b[39;00m\u001b[38;5;21;01m.\u001b[39;00m\u001b[38;5;21;01mops\u001b[39;00m\u001b[38;5;250m \u001b[39m\u001b[38;5;28;01mimport\u001b[39;00m padded_batch_op\n\u001b[0;32m-> 2045\u001b[0m \u001b[38;5;28;01mreturn\u001b[39;00m \u001b[43mpadded_batch_op\u001b[49m\u001b[38;5;241;43m.\u001b[39;49m\u001b[43m_padded_batch\u001b[49m\u001b[43m(\u001b[49m\u001b[38;5;28;43mself\u001b[39;49m\u001b[43m,\u001b[49m\u001b[43m \u001b[49m\u001b[43mbatch_size\u001b[49m\u001b[43m,\u001b[49m\u001b[43m \u001b[49m\u001b[43mpadded_shapes\u001b[49m\u001b[43m,\u001b[49m\n\u001b[1;32m   2046\u001b[0m \u001b[43m                                     \u001b[49m\u001b[43mpadding_values\u001b[49m\u001b[43m,\u001b[49m\u001b[43m \u001b[49m\u001b[43mdrop_remainder\u001b[49m\u001b[43m,\u001b[49m\u001b[43m \u001b[49m\u001b[43mname\u001b[49m\u001b[43m)\u001b[49m\n",
            "File \u001b[0;32m~/.pyenv/versions/lip_reading-env/lib/python3.10/site-packages/tensorflow/python/data/ops/padded_batch_op.py:46\u001b[0m, in \u001b[0;36m_padded_batch\u001b[0;34m(input_dataset, batch_size, padded_shapes, padding_values, drop_remainder, name)\u001b[0m\n\u001b[1;32m     43\u001b[0m     \u001b[38;5;28;01mif\u001b[39;00m \u001b[38;5;129;01mnot\u001b[39;00m shape:\n\u001b[1;32m     44\u001b[0m       \u001b[38;5;28;01mraise\u001b[39;00m \u001b[38;5;167;01mValueError\u001b[39;00m(\u001b[38;5;124mf\u001b[39m\u001b[38;5;124m\"\u001b[39m\u001b[38;5;124mYou must provide `padded_shapes` argument because \u001b[39m\u001b[38;5;124m\"\u001b[39m\n\u001b[1;32m     45\u001b[0m                        \u001b[38;5;124mf\u001b[39m\u001b[38;5;124m\"\u001b[39m\u001b[38;5;124mcomponent \u001b[39m\u001b[38;5;132;01m{\u001b[39;00mi\u001b[38;5;132;01m}\u001b[39;00m\u001b[38;5;124m has unknown rank.\u001b[39m\u001b[38;5;124m\"\u001b[39m)\n\u001b[0;32m---> 46\u001b[0m \u001b[38;5;28;01mreturn\u001b[39;00m \u001b[43m_PaddedBatchDataset\u001b[49m\u001b[43m(\u001b[49m\n\u001b[1;32m     47\u001b[0m \u001b[43m    \u001b[49m\u001b[43minput_dataset\u001b[49m\u001b[43m,\u001b[49m\n\u001b[1;32m     48\u001b[0m \u001b[43m    \u001b[49m\u001b[43mbatch_size\u001b[49m\u001b[43m,\u001b[49m\n\u001b[1;32m     49\u001b[0m \u001b[43m    \u001b[49m\u001b[43mpadded_shapes\u001b[49m\u001b[43m,\u001b[49m\n\u001b[1;32m     50\u001b[0m \u001b[43m    \u001b[49m\u001b[43mpadding_values\u001b[49m\u001b[43m,\u001b[49m\n\u001b[1;32m     51\u001b[0m \u001b[43m    \u001b[49m\u001b[43mdrop_remainder\u001b[49m\u001b[43m,\u001b[49m\n\u001b[1;32m     52\u001b[0m \u001b[43m    \u001b[49m\u001b[43mname\u001b[49m\u001b[38;5;241;43m=\u001b[39;49m\u001b[43mname\u001b[49m\u001b[43m)\u001b[49m\n",
            "File \u001b[0;32m~/.pyenv/versions/lip_reading-env/lib/python3.10/site-packages/tensorflow/python/data/ops/padded_batch_op.py:216\u001b[0m, in \u001b[0;36m_PaddedBatchDataset.__init__\u001b[0;34m(self, input_dataset, batch_size, padded_shapes, padding_values, drop_remainder, name)\u001b[0m\n\u001b[1;32m    211\u001b[0m flat_padded_shapes_as_tensors \u001b[38;5;241m=\u001b[39m []\n\u001b[1;32m    213\u001b[0m \u001b[38;5;28;01mfor\u001b[39;00m input_component_shape, padded_shape \u001b[38;5;129;01min\u001b[39;00m \u001b[38;5;28mzip\u001b[39m(\n\u001b[1;32m    214\u001b[0m     nest\u001b[38;5;241m.\u001b[39mflatten(input_shapes), flat_padded_shapes):\n\u001b[1;32m    215\u001b[0m   flat_padded_shapes_as_tensors\u001b[38;5;241m.\u001b[39mappend(\n\u001b[0;32m--> 216\u001b[0m       \u001b[43m_padded_shape_to_tensor\u001b[49m\u001b[43m(\u001b[49m\u001b[43mpadded_shape\u001b[49m\u001b[43m,\u001b[49m\u001b[43m \u001b[49m\u001b[43minput_component_shape\u001b[49m\u001b[43m)\u001b[49m)\n\u001b[1;32m    218\u001b[0m \u001b[38;5;28mself\u001b[39m\u001b[38;5;241m.\u001b[39m_padded_shapes \u001b[38;5;241m=\u001b[39m nest\u001b[38;5;241m.\u001b[39mpack_sequence_as(input_shapes,\n\u001b[1;32m    219\u001b[0m                                             flat_padded_shapes_as_tensors)\n\u001b[1;32m    221\u001b[0m \u001b[38;5;66;03m# If padding_values is a single element and input_shapes is a structure,\u001b[39;00m\n\u001b[1;32m    222\u001b[0m \u001b[38;5;66;03m# \"broadcast\" padding_values to the same structure as input_shapes.\u001b[39;00m\n",
            "File \u001b[0;32m~/.pyenv/versions/lip_reading-env/lib/python3.10/site-packages/tensorflow/python/data/ops/padded_batch_op.py:110\u001b[0m, in \u001b[0;36m_padded_shape_to_tensor\u001b[0;34m(padded_shape, input_component_shape)\u001b[0m\n\u001b[1;32m    101\u001b[0m   ret \u001b[38;5;241m=\u001b[39m ops\u001b[38;5;241m.\u001b[39mconvert_to_tensor([\n\u001b[1;32m    102\u001b[0m       dim \u001b[38;5;28;01mif\u001b[39;00m dim \u001b[38;5;129;01mis\u001b[39;00m \u001b[38;5;129;01mnot\u001b[39;00m \u001b[38;5;28;01mNone\u001b[39;00m \u001b[38;5;28;01melse\u001b[39;00m \u001b[38;5;241m-\u001b[39m\u001b[38;5;241m1\u001b[39m\n\u001b[1;32m    103\u001b[0m       \u001b[38;5;28;01mfor\u001b[39;00m dim \u001b[38;5;129;01min\u001b[39;00m padded_shape_as_shape\u001b[38;5;241m.\u001b[39mas_list()\n\u001b[1;32m    104\u001b[0m   ],\n\u001b[1;32m    105\u001b[0m                               dtype\u001b[38;5;241m=\u001b[39mdtypes\u001b[38;5;241m.\u001b[39mint64)\n\u001b[1;32m    106\u001b[0m \u001b[38;5;28;01mexcept\u001b[39;00m (\u001b[38;5;167;01mTypeError\u001b[39;00m, \u001b[38;5;167;01mValueError\u001b[39;00m) \u001b[38;5;28;01mas\u001b[39;00m e:\n\u001b[1;32m    107\u001b[0m   \u001b[38;5;66;03m# The argument was not trivially convertible to a\u001b[39;00m\n\u001b[1;32m    108\u001b[0m   \u001b[38;5;66;03m# `tf.TensorShape`, so fall back on the conversion to tensor\u001b[39;00m\n\u001b[1;32m    109\u001b[0m   \u001b[38;5;66;03m# machinery.\u001b[39;00m\n\u001b[0;32m--> 110\u001b[0m   ret \u001b[38;5;241m=\u001b[39m \u001b[43mops\u001b[49m\u001b[38;5;241;43m.\u001b[39;49m\u001b[43mconvert_to_tensor\u001b[49m\u001b[43m(\u001b[49m\u001b[43mpadded_shape\u001b[49m\u001b[43m,\u001b[49m\u001b[43m \u001b[49m\u001b[43mpreferred_dtype\u001b[49m\u001b[38;5;241;43m=\u001b[39;49m\u001b[43mdtypes\u001b[49m\u001b[38;5;241;43m.\u001b[39;49m\u001b[43mint64\u001b[49m\u001b[43m)\u001b[49m\n\u001b[1;32m    111\u001b[0m   \u001b[38;5;28;01mif\u001b[39;00m ret\u001b[38;5;241m.\u001b[39mshape\u001b[38;5;241m.\u001b[39mdims \u001b[38;5;129;01mis\u001b[39;00m \u001b[38;5;129;01mnot\u001b[39;00m \u001b[38;5;28;01mNone\u001b[39;00m \u001b[38;5;129;01mand\u001b[39;00m \u001b[38;5;28mlen\u001b[39m(ret\u001b[38;5;241m.\u001b[39mshape\u001b[38;5;241m.\u001b[39mdims) \u001b[38;5;241m!=\u001b[39m \u001b[38;5;241m1\u001b[39m:\n\u001b[1;32m    112\u001b[0m     \u001b[38;5;28;01mraise\u001b[39;00m \u001b[38;5;167;01mValueError\u001b[39;00m(\n\u001b[1;32m    113\u001b[0m         \u001b[38;5;124mf\u001b[39m\u001b[38;5;124m\"\u001b[39m\u001b[38;5;124mPadded shape \u001b[39m\u001b[38;5;132;01m{\u001b[39;00mpadded_shape\u001b[38;5;132;01m}\u001b[39;00m\u001b[38;5;124m must be a `tf.int64` vector tensor, \u001b[39m\u001b[38;5;124m\"\u001b[39m\n\u001b[1;32m    114\u001b[0m         \u001b[38;5;124mf\u001b[39m\u001b[38;5;124m\"\u001b[39m\u001b[38;5;124mbut its shape was \u001b[39m\u001b[38;5;132;01m{\u001b[39;00mret\u001b[38;5;241m.\u001b[39mshape\u001b[38;5;132;01m}\u001b[39;00m\u001b[38;5;124m.\u001b[39m\u001b[38;5;124m\"\u001b[39m) \u001b[38;5;28;01mfrom\u001b[39;00m\u001b[38;5;250m \u001b[39m\u001b[38;5;21;01me\u001b[39;00m\n",
            "File \u001b[0;32m~/.pyenv/versions/lip_reading-env/lib/python3.10/site-packages/tensorflow/python/profiler/trace.py:183\u001b[0m, in \u001b[0;36mtrace_wrapper.<locals>.inner_wrapper.<locals>.wrapped\u001b[0;34m(*args, **kwargs)\u001b[0m\n\u001b[1;32m    181\u001b[0m   \u001b[38;5;28;01mwith\u001b[39;00m Trace(trace_name, \u001b[38;5;241m*\u001b[39m\u001b[38;5;241m*\u001b[39mtrace_kwargs):\n\u001b[1;32m    182\u001b[0m     \u001b[38;5;28;01mreturn\u001b[39;00m func(\u001b[38;5;241m*\u001b[39margs, \u001b[38;5;241m*\u001b[39m\u001b[38;5;241m*\u001b[39mkwargs)\n\u001b[0;32m--> 183\u001b[0m \u001b[38;5;28;01mreturn\u001b[39;00m \u001b[43mfunc\u001b[49m\u001b[43m(\u001b[49m\u001b[38;5;241;43m*\u001b[39;49m\u001b[43margs\u001b[49m\u001b[43m,\u001b[49m\u001b[43m \u001b[49m\u001b[38;5;241;43m*\u001b[39;49m\u001b[38;5;241;43m*\u001b[39;49m\u001b[43mkwargs\u001b[49m\u001b[43m)\u001b[49m\n",
            "File \u001b[0;32m~/.pyenv/versions/lip_reading-env/lib/python3.10/site-packages/tensorflow/python/framework/ops.py:736\u001b[0m, in \u001b[0;36mconvert_to_tensor\u001b[0;34m(value, dtype, name, as_ref, preferred_dtype, dtype_hint, ctx, accepted_result_types)\u001b[0m\n\u001b[1;32m    734\u001b[0m \u001b[38;5;66;03m# TODO(b/142518781): Fix all call-sites and remove redundant arg\u001b[39;00m\n\u001b[1;32m    735\u001b[0m preferred_dtype \u001b[38;5;241m=\u001b[39m preferred_dtype \u001b[38;5;129;01mor\u001b[39;00m dtype_hint\n\u001b[0;32m--> 736\u001b[0m \u001b[38;5;28;01mreturn\u001b[39;00m \u001b[43mtensor_conversion_registry\u001b[49m\u001b[38;5;241;43m.\u001b[39;49m\u001b[43mconvert\u001b[49m\u001b[43m(\u001b[49m\n\u001b[1;32m    737\u001b[0m \u001b[43m    \u001b[49m\u001b[43mvalue\u001b[49m\u001b[43m,\u001b[49m\u001b[43m \u001b[49m\u001b[43mdtype\u001b[49m\u001b[43m,\u001b[49m\u001b[43m \u001b[49m\u001b[43mname\u001b[49m\u001b[43m,\u001b[49m\u001b[43m \u001b[49m\u001b[43mas_ref\u001b[49m\u001b[43m,\u001b[49m\u001b[43m \u001b[49m\u001b[43mpreferred_dtype\u001b[49m\u001b[43m,\u001b[49m\u001b[43m \u001b[49m\u001b[43maccepted_result_types\u001b[49m\n\u001b[1;32m    738\u001b[0m \u001b[43m\u001b[49m\u001b[43m)\u001b[49m\n",
            "File \u001b[0;32m~/.pyenv/versions/lip_reading-env/lib/python3.10/site-packages/tensorflow/python/framework/tensor_conversion_registry.py:234\u001b[0m, in \u001b[0;36mconvert\u001b[0;34m(value, dtype, name, as_ref, preferred_dtype, accepted_result_types)\u001b[0m\n\u001b[1;32m    225\u001b[0m       \u001b[38;5;28;01mraise\u001b[39;00m \u001b[38;5;167;01mRuntimeError\u001b[39;00m(\n\u001b[1;32m    226\u001b[0m           _add_error_prefix(\n\u001b[1;32m    227\u001b[0m               \u001b[38;5;124mf\u001b[39m\u001b[38;5;124m\"\u001b[39m\u001b[38;5;124mConversion function \u001b[39m\u001b[38;5;132;01m{\u001b[39;00mconversion_func\u001b[38;5;132;01m!r}\u001b[39;00m\u001b[38;5;124m for type \u001b[39m\u001b[38;5;124m\"\u001b[39m\n\u001b[0;32m   (...)\u001b[0m\n\u001b[1;32m    230\u001b[0m               \u001b[38;5;124mf\u001b[39m\u001b[38;5;124m\"\u001b[39m\u001b[38;5;124mactual = \u001b[39m\u001b[38;5;132;01m{\u001b[39;00mret\u001b[38;5;241m.\u001b[39mdtype\u001b[38;5;241m.\u001b[39mbase_dtype\u001b[38;5;241m.\u001b[39mname\u001b[38;5;132;01m}\u001b[39;00m\u001b[38;5;124m\"\u001b[39m,\n\u001b[1;32m    231\u001b[0m               name\u001b[38;5;241m=\u001b[39mname))\n\u001b[1;32m    233\u001b[0m \u001b[38;5;28;01mif\u001b[39;00m ret \u001b[38;5;129;01mis\u001b[39;00m \u001b[38;5;28;01mNone\u001b[39;00m:\n\u001b[0;32m--> 234\u001b[0m   ret \u001b[38;5;241m=\u001b[39m \u001b[43mconversion_func\u001b[49m\u001b[43m(\u001b[49m\u001b[43mvalue\u001b[49m\u001b[43m,\u001b[49m\u001b[43m \u001b[49m\u001b[43mdtype\u001b[49m\u001b[38;5;241;43m=\u001b[39;49m\u001b[43mdtype\u001b[49m\u001b[43m,\u001b[49m\u001b[43m \u001b[49m\u001b[43mname\u001b[49m\u001b[38;5;241;43m=\u001b[39;49m\u001b[43mname\u001b[49m\u001b[43m,\u001b[49m\u001b[43m \u001b[49m\u001b[43mas_ref\u001b[49m\u001b[38;5;241;43m=\u001b[39;49m\u001b[43mas_ref\u001b[49m\u001b[43m)\u001b[49m\n\u001b[1;32m    236\u001b[0m \u001b[38;5;28;01mif\u001b[39;00m ret \u001b[38;5;129;01mis\u001b[39;00m \u001b[38;5;28mNotImplemented\u001b[39m:\n\u001b[1;32m    237\u001b[0m   \u001b[38;5;28;01mcontinue\u001b[39;00m\n",
            "File \u001b[0;32m~/.pyenv/versions/lip_reading-env/lib/python3.10/site-packages/tensorflow/python/framework/constant_tensor_conversion.py:29\u001b[0m, in \u001b[0;36m_constant_tensor_conversion_function\u001b[0;34m(v, dtype, name, as_ref)\u001b[0m\n\u001b[1;32m     26\u001b[0m \u001b[38;5;28;01mfrom\u001b[39;00m\u001b[38;5;250m \u001b[39m\u001b[38;5;21;01mtensorflow\u001b[39;00m\u001b[38;5;21;01m.\u001b[39;00m\u001b[38;5;21;01mpython\u001b[39;00m\u001b[38;5;21;01m.\u001b[39;00m\u001b[38;5;21;01mframework\u001b[39;00m\u001b[38;5;250m \u001b[39m\u001b[38;5;28;01mimport\u001b[39;00m constant_op  \u001b[38;5;66;03m# pylint: disable=g-import-not-at-top\u001b[39;00m\n\u001b[1;32m     28\u001b[0m _ \u001b[38;5;241m=\u001b[39m as_ref\n\u001b[0;32m---> 29\u001b[0m \u001b[38;5;28;01mreturn\u001b[39;00m \u001b[43mconstant_op\u001b[49m\u001b[38;5;241;43m.\u001b[39;49m\u001b[43mconstant\u001b[49m\u001b[43m(\u001b[49m\u001b[43mv\u001b[49m\u001b[43m,\u001b[49m\u001b[43m \u001b[49m\u001b[43mdtype\u001b[49m\u001b[38;5;241;43m=\u001b[39;49m\u001b[43mdtype\u001b[49m\u001b[43m,\u001b[49m\u001b[43m \u001b[49m\u001b[43mname\u001b[49m\u001b[38;5;241;43m=\u001b[39;49m\u001b[43mname\u001b[49m\u001b[43m)\u001b[49m\n",
            "File \u001b[0;32m~/.pyenv/versions/lip_reading-env/lib/python3.10/site-packages/tensorflow/python/ops/weak_tensor_ops.py:142\u001b[0m, in \u001b[0;36mweak_tensor_binary_op_wrapper.<locals>.wrapper\u001b[0;34m(*args, **kwargs)\u001b[0m\n\u001b[1;32m    140\u001b[0m \u001b[38;5;28;01mdef\u001b[39;00m\u001b[38;5;250m \u001b[39m\u001b[38;5;21mwrapper\u001b[39m(\u001b[38;5;241m*\u001b[39margs, \u001b[38;5;241m*\u001b[39m\u001b[38;5;241m*\u001b[39mkwargs):\n\u001b[1;32m    141\u001b[0m   \u001b[38;5;28;01mif\u001b[39;00m \u001b[38;5;129;01mnot\u001b[39;00m ops\u001b[38;5;241m.\u001b[39mis_auto_dtype_conversion_enabled():\n\u001b[0;32m--> 142\u001b[0m     \u001b[38;5;28;01mreturn\u001b[39;00m \u001b[43mop\u001b[49m\u001b[43m(\u001b[49m\u001b[38;5;241;43m*\u001b[39;49m\u001b[43margs\u001b[49m\u001b[43m,\u001b[49m\u001b[43m \u001b[49m\u001b[38;5;241;43m*\u001b[39;49m\u001b[38;5;241;43m*\u001b[39;49m\u001b[43mkwargs\u001b[49m\u001b[43m)\u001b[49m\n\u001b[1;32m    143\u001b[0m   bound_arguments \u001b[38;5;241m=\u001b[39m signature\u001b[38;5;241m.\u001b[39mbind(\u001b[38;5;241m*\u001b[39margs, \u001b[38;5;241m*\u001b[39m\u001b[38;5;241m*\u001b[39mkwargs)\n\u001b[1;32m    144\u001b[0m   bound_arguments\u001b[38;5;241m.\u001b[39mapply_defaults()\n",
            "File \u001b[0;32m~/.pyenv/versions/lip_reading-env/lib/python3.10/site-packages/tensorflow/python/framework/constant_op.py:276\u001b[0m, in \u001b[0;36mconstant\u001b[0;34m(value, dtype, shape, name)\u001b[0m\n\u001b[1;32m    177\u001b[0m \u001b[38;5;129m@tf_export\u001b[39m(\u001b[38;5;124m\"\u001b[39m\u001b[38;5;124mconstant\u001b[39m\u001b[38;5;124m\"\u001b[39m, v1\u001b[38;5;241m=\u001b[39m[])\n\u001b[1;32m    178\u001b[0m \u001b[38;5;28;01mdef\u001b[39;00m\u001b[38;5;250m \u001b[39m\u001b[38;5;21mconstant\u001b[39m(\n\u001b[1;32m    179\u001b[0m     value, dtype\u001b[38;5;241m=\u001b[39m\u001b[38;5;28;01mNone\u001b[39;00m, shape\u001b[38;5;241m=\u001b[39m\u001b[38;5;28;01mNone\u001b[39;00m, name\u001b[38;5;241m=\u001b[39m\u001b[38;5;124m\"\u001b[39m\u001b[38;5;124mConst\u001b[39m\u001b[38;5;124m\"\u001b[39m\n\u001b[1;32m    180\u001b[0m ) \u001b[38;5;241m-\u001b[39m\u001b[38;5;241m>\u001b[39m Union[ops\u001b[38;5;241m.\u001b[39mOperation, ops\u001b[38;5;241m.\u001b[39m_EagerTensorBase]:\n\u001b[1;32m    181\u001b[0m \u001b[38;5;250m  \u001b[39m\u001b[38;5;124;03m\"\"\"Creates a constant tensor from a tensor-like object.\u001b[39;00m\n\u001b[1;32m    182\u001b[0m \n\u001b[1;32m    183\u001b[0m \u001b[38;5;124;03m  Note: All eager `tf.Tensor` values are immutable (in contrast to\u001b[39;00m\n\u001b[0;32m   (...)\u001b[0m\n\u001b[1;32m    274\u001b[0m \u001b[38;5;124;03m    ValueError: if called on a symbolic tensor.\u001b[39;00m\n\u001b[1;32m    275\u001b[0m \u001b[38;5;124;03m  \"\"\"\u001b[39;00m\n\u001b[0;32m--> 276\u001b[0m   \u001b[38;5;28;01mreturn\u001b[39;00m \u001b[43m_constant_impl\u001b[49m\u001b[43m(\u001b[49m\u001b[43mvalue\u001b[49m\u001b[43m,\u001b[49m\u001b[43m \u001b[49m\u001b[43mdtype\u001b[49m\u001b[43m,\u001b[49m\u001b[43m \u001b[49m\u001b[43mshape\u001b[49m\u001b[43m,\u001b[49m\u001b[43m \u001b[49m\u001b[43mname\u001b[49m\u001b[43m,\u001b[49m\u001b[43m \u001b[49m\u001b[43mverify_shape\u001b[49m\u001b[38;5;241;43m=\u001b[39;49m\u001b[38;5;28;43;01mFalse\u001b[39;49;00m\u001b[43m,\u001b[49m\n\u001b[1;32m    277\u001b[0m \u001b[43m                        \u001b[49m\u001b[43mallow_broadcast\u001b[49m\u001b[38;5;241;43m=\u001b[39;49m\u001b[38;5;28;43;01mTrue\u001b[39;49;00m\u001b[43m)\u001b[49m\n",
            "File \u001b[0;32m~/.pyenv/versions/lip_reading-env/lib/python3.10/site-packages/tensorflow/python/framework/constant_op.py:289\u001b[0m, in \u001b[0;36m_constant_impl\u001b[0;34m(value, dtype, shape, name, verify_shape, allow_broadcast)\u001b[0m\n\u001b[1;32m    287\u001b[0m     \u001b[38;5;28;01mwith\u001b[39;00m trace\u001b[38;5;241m.\u001b[39mTrace(\u001b[38;5;124m\"\u001b[39m\u001b[38;5;124mtf.constant\u001b[39m\u001b[38;5;124m\"\u001b[39m):\n\u001b[1;32m    288\u001b[0m       \u001b[38;5;28;01mreturn\u001b[39;00m _constant_eager_impl(ctx, value, dtype, shape, verify_shape)\n\u001b[0;32m--> 289\u001b[0m   \u001b[38;5;28;01mreturn\u001b[39;00m \u001b[43m_constant_eager_impl\u001b[49m\u001b[43m(\u001b[49m\u001b[43mctx\u001b[49m\u001b[43m,\u001b[49m\u001b[43m \u001b[49m\u001b[43mvalue\u001b[49m\u001b[43m,\u001b[49m\u001b[43m \u001b[49m\u001b[43mdtype\u001b[49m\u001b[43m,\u001b[49m\u001b[43m \u001b[49m\u001b[43mshape\u001b[49m\u001b[43m,\u001b[49m\u001b[43m \u001b[49m\u001b[43mverify_shape\u001b[49m\u001b[43m)\u001b[49m\n\u001b[1;32m    291\u001b[0m const_tensor \u001b[38;5;241m=\u001b[39m ops\u001b[38;5;241m.\u001b[39m_create_graph_constant(  \u001b[38;5;66;03m# pylint: disable=protected-access\u001b[39;00m\n\u001b[1;32m    292\u001b[0m     value, dtype, shape, name, verify_shape, allow_broadcast\n\u001b[1;32m    293\u001b[0m )\n\u001b[1;32m    294\u001b[0m \u001b[38;5;28;01mreturn\u001b[39;00m const_tensor\n",
            "File \u001b[0;32m~/.pyenv/versions/lip_reading-env/lib/python3.10/site-packages/tensorflow/python/framework/constant_op.py:301\u001b[0m, in \u001b[0;36m_constant_eager_impl\u001b[0;34m(ctx, value, dtype, shape, verify_shape)\u001b[0m\n\u001b[1;32m    297\u001b[0m \u001b[38;5;28;01mdef\u001b[39;00m\u001b[38;5;250m \u001b[39m\u001b[38;5;21m_constant_eager_impl\u001b[39m(\n\u001b[1;32m    298\u001b[0m     ctx, value, dtype, shape, verify_shape\n\u001b[1;32m    299\u001b[0m ) \u001b[38;5;241m-\u001b[39m\u001b[38;5;241m>\u001b[39m ops\u001b[38;5;241m.\u001b[39m_EagerTensorBase:\n\u001b[1;32m    300\u001b[0m \u001b[38;5;250m  \u001b[39m\u001b[38;5;124;03m\"\"\"Creates a constant on the current device.\"\"\"\u001b[39;00m\n\u001b[0;32m--> 301\u001b[0m   t \u001b[38;5;241m=\u001b[39m \u001b[43mconvert_to_eager_tensor\u001b[49m\u001b[43m(\u001b[49m\u001b[43mvalue\u001b[49m\u001b[43m,\u001b[49m\u001b[43m \u001b[49m\u001b[43mctx\u001b[49m\u001b[43m,\u001b[49m\u001b[43m \u001b[49m\u001b[43mdtype\u001b[49m\u001b[43m)\u001b[49m\n\u001b[1;32m    302\u001b[0m   \u001b[38;5;28;01mif\u001b[39;00m shape \u001b[38;5;129;01mis\u001b[39;00m \u001b[38;5;28;01mNone\u001b[39;00m:\n\u001b[1;32m    303\u001b[0m     \u001b[38;5;28;01mreturn\u001b[39;00m t\n",
            "File \u001b[0;32m~/.pyenv/versions/lip_reading-env/lib/python3.10/site-packages/tensorflow/python/framework/constant_op.py:108\u001b[0m, in \u001b[0;36mconvert_to_eager_tensor\u001b[0;34m(value, ctx, dtype)\u001b[0m\n\u001b[1;32m    106\u001b[0m     dtype \u001b[38;5;241m=\u001b[39m dtypes\u001b[38;5;241m.\u001b[39mas_dtype(dtype)\u001b[38;5;241m.\u001b[39mas_datatype_enum\n\u001b[1;32m    107\u001b[0m ctx\u001b[38;5;241m.\u001b[39mensure_initialized()\n\u001b[0;32m--> 108\u001b[0m \u001b[38;5;28;01mreturn\u001b[39;00m \u001b[43mops\u001b[49m\u001b[38;5;241;43m.\u001b[39;49m\u001b[43mEagerTensor\u001b[49m\u001b[43m(\u001b[49m\u001b[43mvalue\u001b[49m\u001b[43m,\u001b[49m\u001b[43m \u001b[49m\u001b[43mctx\u001b[49m\u001b[38;5;241;43m.\u001b[39;49m\u001b[43mdevice_name\u001b[49m\u001b[43m,\u001b[49m\u001b[43m \u001b[49m\u001b[43mdtype\u001b[49m\u001b[43m)\u001b[49m\n",
            "\u001b[0;31mValueError\u001b[0m: Can't convert Python sequence with mixed types to Tensor."
          ]
        }
      ],
      "source": [
        "data = data.padded_batch(2, padded_shapes=([75, None, None, None], [40]))"
      ]
    }
  ],
  "metadata": {
    "colab": {
      "collapsed_sections": [
        "F_7e-sSyo-ap",
        "Kx_GQXWFpDGl",
        "cEat8wvxrXwk",
        "sK11OrQas5U6",
        "o0l5jCmwYeYg"
      ],
      "provenance": []
    },
    "kernelspec": {
      "display_name": "lip_reading-env",
      "language": "python",
      "name": "python3"
    },
    "language_info": {
      "codemirror_mode": {
        "name": "ipython",
        "version": 3
      },
      "file_extension": ".py",
      "mimetype": "text/x-python",
      "name": "python",
      "nbconvert_exporter": "python",
      "pygments_lexer": "ipython3",
      "version": "3.10.6"
    }
  },
  "nbformat": 4,
  "nbformat_minor": 5
}
