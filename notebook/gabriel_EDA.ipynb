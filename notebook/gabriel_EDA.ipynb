{
  "cells": [
    {
      "cell_type": "code",
      "execution_count": null,
      "id": "TNNbfnD-1ztw",
      "metadata": {
        "id": "TNNbfnD-1ztw"
      },
      "outputs": [],
      "source": [
        "# from google.colab import runtime\n",
        "# runtime.unassign()"
      ]
    },
    {
      "cell_type": "code",
      "execution_count": null,
      "id": "krCiQiZgsP_h",
      "metadata": {
        "collapsed": true,
        "id": "krCiQiZgsP_h"
      },
      "outputs": [],
      "source": [
        "# ! pip list"
      ]
    },
    {
      "cell_type": "code",
      "execution_count": null,
      "id": "62094cc5",
      "metadata": {
        "id": "62094cc5"
      },
      "outputs": [],
      "source": [
        "# ! pip install imageio opencv-python"
      ]
    },
    {
      "cell_type": "code",
      "execution_count": 55,
      "id": "a56d63c4",
      "metadata": {
        "id": "a56d63c4"
      },
      "outputs": [],
      "source": [
        "import os\n",
        "import cv2\n",
        "import tensorflow as tf\n",
        "import numpy as np\n",
        "from typing import List\n",
        "from matplotlib import pyplot as plt\n",
        "\n",
        "from tensorflow.keras.models import Sequential\n",
        "from tensorflow.keras.layers import Conv3D, LSTM, Dense, Dropout, Bidirectional, MaxPool3D, Activation, Reshape, SpatialDropout3D, BatchNormalization, TimeDistributed, Flatten\n",
        "from tensorflow.keras.optimizers import Adam\n",
        "from tensorflow.keras.callbacks import ModelCheckpoint, LearningRateScheduler"
      ]
    },
    {
      "cell_type": "markdown",
      "id": "WlFEkhfOs60v",
      "metadata": {
        "id": "WlFEkhfOs60v"
      },
      "source": [
        "# Load Data"
      ]
    },
    {
      "cell_type": "code",
      "execution_count": 102,
      "id": "94SROilDvhae",
      "metadata": {
        "id": "94SROilDvhae",
        "outputId": "44c20855-4867-4d0e-afd0-c7c8de2fe273",
        "colab": {
          "base_uri": "https://localhost:8080/"
        }
      },
      "outputs": [
        {
          "output_type": "stream",
          "name": "stdout",
          "text": [
            "Drive already mounted at /content/drive; to attempt to forcibly remount, call drive.mount(\"/content/drive\", force_remount=True).\n"
          ]
        }
      ],
      "source": [
        "# Connect to Google Drive\n",
        "from google.colab import drive\n",
        "drive.mount('/content/drive')\n",
        "# Google path\n",
        "path = \"./drive/MyDrive/Project/Lip_reading/raw_data/\"\n",
        "test_path = \"./drive/MyDrive/Project/Lip_reading/raw_data/videos/s1/bbal6n.mpg\"\n",
        "al_path = \"./drive/MyDrive/Project/Lip_reading/raw_data/alignments/s1/bbal6n.align\"\n",
        "models_path = \"./drive/MyDrive/Project/Lip_reading/models/\"\n",
        "\n",
        "\n",
        "# Local path\n",
        "# path = \"../raw_data/\"\n",
        "# test_path = \"../raw_data/videos/s1/bbal6n.mpg\"\n",
        "# al_path = \"../raw_data/alignments/s1/bbal6n.align\"\n"
      ]
    },
    {
      "cell_type": "markdown",
      "id": "F_7e-sSyo-ap",
      "metadata": {
        "id": "F_7e-sSyo-ap"
      },
      "source": [
        "## Video Loading Test"
      ]
    },
    {
      "cell_type": "code",
      "execution_count": 4,
      "id": "ChAkm7l7hwVn",
      "metadata": {
        "id": "ChAkm7l7hwVn"
      },
      "outputs": [],
      "source": [
        "# Get the video\n",
        "cap = cv2.VideoCapture(test_path)\n"
      ]
    },
    {
      "cell_type": "code",
      "execution_count": 5,
      "id": "eU6tzPwxiskp",
      "metadata": {
        "colab": {
          "base_uri": "https://localhost:8080/",
          "height": 328
        },
        "id": "eU6tzPwxiskp",
        "outputId": "ee5dfc98-ae56-4b59-e508-ca353b827f31"
      },
      "outputs": [
        {
          "output_type": "execute_result",
          "data": {
            "text/plain": [
              "array([[[ 88,  65,  56],\n",
              "        [ 89,  66,  57],\n",
              "        [106,  64,  58],\n",
              "        ...,\n",
              "        [ 55,  30,  21],\n",
              "        [ 54,  29,  22],\n",
              "        [ 54,  29,  22]],\n",
              "\n",
              "       [[212, 189, 180],\n",
              "        [212, 189, 180],\n",
              "        [231, 189, 183],\n",
              "        ...,\n",
              "        [118,  93,  84],\n",
              "        [117,  92,  85],\n",
              "        [117,  92,  85]],\n",
              "\n",
              "       [[240, 216, 109],\n",
              "        [241, 217, 110],\n",
              "        [255, 217, 110],\n",
              "        ...,\n",
              "        [129, 111,  40],\n",
              "        [127, 109,  39],\n",
              "        [127, 109,  39]],\n",
              "\n",
              "       ...,\n",
              "\n",
              "       [[151, 122,  19],\n",
              "        [151, 122,  19],\n",
              "        [160, 120,  22],\n",
              "        ...,\n",
              "        [102,  83,   4],\n",
              "        [101,  81,   5],\n",
              "        [101,  81,   5]],\n",
              "\n",
              "       [[150, 122,  17],\n",
              "        [151, 123,  18],\n",
              "        [160, 121,  20],\n",
              "        ...,\n",
              "        [101,  82,   3],\n",
              "        [101,  81,   5],\n",
              "        [100,  80,   4]],\n",
              "\n",
              "       [[150, 122,  17],\n",
              "        [151, 123,  18],\n",
              "        [159, 120,  19],\n",
              "        ...,\n",
              "        [101,  82,   3],\n",
              "        [100,  80,   4],\n",
              "        [100,  80,   4]]], dtype=uint8)"
            ],
            "text/html": [
              "<style>\n",
              "      .ndarray_repr .ndarray_raw_data {\n",
              "        display: none;\n",
              "      }\n",
              "      .ndarray_repr.show_array .ndarray_raw_data {\n",
              "        display: block;\n",
              "      }\n",
              "      .ndarray_repr.show_array .ndarray_image_preview {\n",
              "        display: none;\n",
              "      }\n",
              "      </style>\n",
              "      <div id=\"id-328238d9-6c97-4ff9-8096-c2903ba553a2\" class=\"ndarray_repr\"><pre>ndarray (288, 360, 3) <button style=\"padding: 0 2px;\">show data</button></pre><img src=\"data:image/png;base64,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\" class=\"ndarray_image_preview\" /><pre class=\"ndarray_raw_data\">array([[[ 88,  65,  56],\n",
              "        [ 89,  66,  57],\n",
              "        [106,  64,  58],\n",
              "        ...,\n",
              "        [ 55,  30,  21],\n",
              "        [ 54,  29,  22],\n",
              "        [ 54,  29,  22]],\n",
              "\n",
              "       [[212, 189, 180],\n",
              "        [212, 189, 180],\n",
              "        [231, 189, 183],\n",
              "        ...,\n",
              "        [118,  93,  84],\n",
              "        [117,  92,  85],\n",
              "        [117,  92,  85]],\n",
              "\n",
              "       [[240, 216, 109],\n",
              "        [241, 217, 110],\n",
              "        [255, 217, 110],\n",
              "        ...,\n",
              "        [129, 111,  40],\n",
              "        [127, 109,  39],\n",
              "        [127, 109,  39]],\n",
              "\n",
              "       ...,\n",
              "\n",
              "       [[151, 122,  19],\n",
              "        [151, 122,  19],\n",
              "        [160, 120,  22],\n",
              "        ...,\n",
              "        [102,  83,   4],\n",
              "        [101,  81,   5],\n",
              "        [101,  81,   5]],\n",
              "\n",
              "       [[150, 122,  17],\n",
              "        [151, 123,  18],\n",
              "        [160, 121,  20],\n",
              "        ...,\n",
              "        [101,  82,   3],\n",
              "        [101,  81,   5],\n",
              "        [100,  80,   4]],\n",
              "\n",
              "       [[150, 122,  17],\n",
              "        [151, 123,  18],\n",
              "        [159, 120,  19],\n",
              "        ...,\n",
              "        [101,  82,   3],\n",
              "        [100,  80,   4],\n",
              "        [100,  80,   4]]], dtype=uint8)</pre></div><script>\n",
              "      (() => {\n",
              "      const titles = ['show data', 'hide data'];\n",
              "      let index = 0\n",
              "      document.querySelector('#id-328238d9-6c97-4ff9-8096-c2903ba553a2 button').onclick = (e) => {\n",
              "        document.querySelector('#id-328238d9-6c97-4ff9-8096-c2903ba553a2').classList.toggle('show_array');\n",
              "        index = (++index) % 2;\n",
              "        document.querySelector('#id-328238d9-6c97-4ff9-8096-c2903ba553a2 button').textContent = titles[index];\n",
              "        e.preventDefault();\n",
              "        e.stopPropagation();\n",
              "      }\n",
              "      })();\n",
              "    </script>"
            ]
          },
          "metadata": {},
          "execution_count": 5
        }
      ],
      "source": [
        "# Get 1 frame with each iteration\n",
        "ret, frame = cap.read()\n",
        "# Display the frame\n",
        "frame\n"
      ]
    },
    {
      "cell_type": "code",
      "execution_count": 6,
      "id": "TRRaYi57o8A9",
      "metadata": {
        "id": "TRRaYi57o8A9"
      },
      "outputs": [],
      "source": [
        "gray = cv2.cvtColor(frame, cv2.COLOR_BGR2GRAY)"
      ]
    },
    {
      "cell_type": "code",
      "execution_count": 7,
      "id": "fvpGr5_HpMX6",
      "metadata": {
        "colab": {
          "base_uri": "https://localhost:8080/",
          "height": 86
        },
        "id": "fvpGr5_HpMX6",
        "outputId": "833edf4c-bc80-4ab5-ba68-ebb493c7b887"
      },
      "outputs": [
        {
          "output_type": "execute_result",
          "data": {
            "text/plain": [
              "array([[146, 146, 147, ..., 121, 120, 117],\n",
              "       [146, 146, 147, ..., 121, 117, 116],\n",
              "       [146, 146, 145, ..., 118, 118, 118],\n",
              "       ...,\n",
              "       [137, 137, 137, ..., 112, 111, 111],\n",
              "       [137, 137, 137, ..., 111, 110, 110],\n",
              "       [137, 137, 137, ..., 111, 110, 110]], dtype=uint8)"
            ],
            "text/html": [
              "<style>\n",
              "      .ndarray_repr .ndarray_raw_data {\n",
              "        display: none;\n",
              "      }\n",
              "      .ndarray_repr.show_array .ndarray_raw_data {\n",
              "        display: block;\n",
              "      }\n",
              "      .ndarray_repr.show_array .ndarray_image_preview {\n",
              "        display: none;\n",
              "      }\n",
              "      </style>\n",
              "      <div id=\"id-8cb95da2-7852-4e8d-889f-d589465bfdcb\" class=\"ndarray_repr\"><pre>ndarray (46, 140) <button style=\"padding: 0 2px;\">show data</button></pre><img src=\"data:image/png;base64,iVBORw0KGgoAAAANSUhEUgAAAIwAAAAuCAAAAADff64HAAAJZ0lEQVR4nJVYwXIryY3MBKqblN7zeCJs3/zV/j/7srERG7sRG/NGI4ndVcj0oZqSKGl2tHUg2U2yC5UAEgnwHyAMogAAhCks99+z8ON5nP/+874Aq0bYdtkG4BpDHntJ5QQA033s25Ch8tIAbxUDa979+XRal+gXq8rMPDMyMliG1Pfxz07s2ZhwNbxbS1H9Ny2JPjqHQYCw3/+OiCKIBS4TPKHWVI2AYNrNSS4AgOKy5BNE3zzHsI1YONraBl1ugAADni8QDPdfMdpQ7P99/s5K5/JslzyxA5gcEJAhGg0ulSKrtAxGVZADPjXmEt64eMHdIIUIMiIAt70uZPyH4EwUB8iGD2d+c3iomyTptzfffs7r565SDQMu2YyTcm2M5YpAIZ3vAX53Gf54D4BtA8R4HIwbA0mCtGWDEbTn31U2gAAsSQUGSUKypDFkBkkYJCDNPS2AL+drOJz0CTAMjad+YgCmNLFIzRCaxhKyAjOwmcnkiLIZcjVDooGRUMg2eMQD519svd2x/a4tQoDj8fk+FMdTCABRMCzJFuGyHVZVidHYdsJyHBgCENy6nRpiZACKFxdJt8Z87iYgJhDj6WcaAA9cCcAuCbBNuGDYpbGN1gIVIcuWEIZRYXjQxigTAXNaIgDGB2Rg4PjNjTEC0rqMtHkNVAKyLRXkaZAAq7Rv+ylbacVSBAkwp+UQBeHFLVYQM8mtwy1+MeZTbGgoyOpXX79xoC3PfWzZlC2PsTCgE1UQuURb2nSqIQggGTNiXo9uvU2PdsXJx8F9NYwBCPnjl79iP6ELDIOQyoxQ3yrakEzI5uL779mWzDq1cy/Vd7TTKWFVlSVjODLbOpLh6aZW6//gynOE8YGBPyC01/pq4fVmEFHHRWKoO7i0JZPhSYuRyaFkpkfv4CY016izEvBBXO94p713kHCw7HXfp+0E5TQfnHgHkyY1SYaN4ZUMencHwGVB0lt35Om0JDkocQIPixRMwFU3e/8hMvF8+eldSQHJMGxY7ohsawIeve977ZEtW/A3qHcz2rdvd4nAZohAePKplQL0BWNeahAA9sd9vaJ0jT/AqpGsckFkJH6rfdv3shgMIp4lRwD1eHd/vwazemc0LNcHAIbqht7/EBnocmmhN+kku1SSzBoOkB6X+i/XMMB+HMcSk5C335a7+7vWXIUQv8FWTJZBjVtkblgH1yQnrvfL2/M3OuZ3k7EsqUrkkDgE1rb9gmCQfMZkxhBcVi3ufjjdn+5GZ2baVniyDmjxbcz+ITJG7eYrJ9KwXZIMW3raL8O17QuDYfsaBT0aqgDRtW3b+VdxPa1X+veVy2+RMUAEcH3Ieyb2Wv979xfsAiNCLh/KJrVtvfQ4at8lLDUED7QjIKIGLKNZhXH59ZvB0/fUHm0wWsQTy8+96SWAvoCMShqjUW/VhixYZQT/yvB+ufTFslUYU6FhOY5235r7QDupiwvKUAKAoqAeN2dvs968BrXfv8vj0gFDtAxfiwGmoPm+rFmXx012ydaGyVUrySD5UzYPMbP2rSIBw7TRE9gueWvMvHofxq+LQD0/k54etjClF4mIjJYk213WwxFI18p7Pow5uUfLQCo4kFk0TLhS3vfboPjjckDW5bmlQOZRG2GZkRnRcjYXS7vIoXqtG3cgEeZWykajsRkI2laAdGlslTcR3OJQFr9vTahvdzBgz1Sa1R+xIJYYSapGnSRVHtkUUwVCxnMsrYFoDpdhKwwrUN73d/u2yQivN97HzIhUdaM46cGHm0oIRkTAgqpaDAAF0Ai8ZqdtsAXCihyWJ9M4Okan3wfw/70kEABfpMe0B2MWTAQJNFa3SpJgU1Oazfahnkc0SjZm5M2nsGKIt7HabkvVx7XoYdET1wvZe2bIY+z7qJBJCmNa6l2WyhZk22YpWtiI1mogys7ZqpjhGgMPDz0ThwT1l5A58CEE5lFDSTIAhMsigzDlGqOrXH2UiTRyaTBDABETVsIuOgLuw/ExZub6vRAmCFpEmTMXAEbYEYA1KhYEqEUouNTVd4lIoEFAm2L5RUkCHsyg9t1xVKjryxeQCQAjAsVKomAwAiIJVW4LMmDcqZZ9KW2yVbLJSMKnWNZlbcEXW2wD0bfdtPlqyifGvK9NcACuaNWLjMl9ZEQwYI5tZhTCkeuwLyh5lCszCeDMJbMlfc2DI6H2odlY0YyjeH8BGZoYsWjstUcAkEE0kwSyxxKJikKAAWftu0DGsmYguTAi4rWFnQ3pwFY8Tv6Jm64x86Fqm4bE1WOMamlwNtW2wcCZSSJNO1zmWjAQaOupkREEgwxOlXg0UCpvDCM9OS70uZs+X2arpEBehX2WDRjrcYSTXUUpGMuo4dNyCs/2Jo9Bhu1AAXCVquUw4kbRfDDmAwMrwtUfTliRT5flRPehzA4AbDQJlTzIbHIte0XWOZfIjJzznqOncFWJo7L8839SoDroQ3J8qW8Kw0LVAmBg7MGpx4+AZABgIgZApgNAAmxLRAuCdZ2Z4BA8cOfplD1mkzlwaAZ/qWrb0NiYdmvolwjIEjDjoMkyEkUmAHSSFDMiSQKkPJska4xhV/n87T5nD8UcR0v5NZ4hCqhNZS6nrj1nbQSdhlFWGYxEHDzCKwyROKZRsMMaNVRSLee75tn866oZDMCNL3t+vuZcqHamjOUuHgompEnwIlUGqICOnspwuZFTiCVmrbdGjRoeyrs/rdqNgD3dPUvoF2IGgEErw2W2WqyAS45Iz4maCcGY7qgpTUei0kc6A8Lw6KVCsZ1PsT33toZnbv0/BDkAZECZQUY7jTn1LExRHSAEOTWpWTrKmWMOjzGHt0+qoTJ4WsOuxx/n7+dE6oomAH+JZ0h6XxlMo0MGZoNECTtJzAEeHKCEhnAKpiELAdLcXEMCWktXuv/omUzkOHAh3nSUOpTieGeIyPSqf/3lbwWEc21t9MEc1SUAZ2SQwCMAIKBAcQI0WbEQgV5P0DDX/H7XxqK7+LH1xz/9tBoDmeWoDzHzYZgGAA7sTw8FguZVzJgkaKAgMOKQmYJrtgUH1UGW6BrH8CpbRgJYPLbI+JZpHWLyNmZ8nTLcrtHi6ZeHbXKcw0EG0QEUjGED0ThwVQJBKnidu1Nlu2sAZstsrZHAeRuSaqw/tRrFxIds+kxgkbKfHy7PBugcAUcbcBKOY7iIUOgFV5Fp9pc0UUklE4hoy7JEgr5/PMGlnnlu6sfg+98CpLywc1j9xQAAAABJRU5ErkJggg==\" class=\"ndarray_image_preview\" /><pre class=\"ndarray_raw_data\">array([[146, 146, 147, ..., 121, 120, 117],\n",
              "       [146, 146, 147, ..., 121, 117, 116],\n",
              "       [146, 146, 145, ..., 118, 118, 118],\n",
              "       ...,\n",
              "       [137, 137, 137, ..., 112, 111, 111],\n",
              "       [137, 137, 137, ..., 111, 110, 110],\n",
              "       [137, 137, 137, ..., 111, 110, 110]], dtype=uint8)</pre></div><script>\n",
              "      (() => {\n",
              "      const titles = ['show data', 'hide data'];\n",
              "      let index = 0\n",
              "      document.querySelector('#id-8cb95da2-7852-4e8d-889f-d589465bfdcb button').onclick = (e) => {\n",
              "        document.querySelector('#id-8cb95da2-7852-4e8d-889f-d589465bfdcb').classList.toggle('show_array');\n",
              "        index = (++index) % 2;\n",
              "        document.querySelector('#id-8cb95da2-7852-4e8d-889f-d589465bfdcb button').textContent = titles[index];\n",
              "        e.preventDefault();\n",
              "        e.stopPropagation();\n",
              "      }\n",
              "      })();\n",
              "    </script>"
            ]
          },
          "metadata": {},
          "execution_count": 7
        }
      ],
      "source": [
        "gray[190:236,80:220]"
      ]
    },
    {
      "cell_type": "code",
      "execution_count": 8,
      "id": "Ck9pz4Y7phrv",
      "metadata": {
        "id": "Ck9pz4Y7phrv"
      },
      "outputs": [],
      "source": [
        "gray = tf.image.rgb_to_grayscale(frame)"
      ]
    },
    {
      "cell_type": "code",
      "execution_count": 9,
      "id": "x-PSytSljD0c",
      "metadata": {
        "id": "x-PSytSljD0c"
      },
      "outputs": [],
      "source": [
        "# Release the video\n",
        "cap.release()"
      ]
    },
    {
      "cell_type": "markdown",
      "id": "Kx_GQXWFpDGl",
      "metadata": {
        "id": "Kx_GQXWFpDGl"
      },
      "source": [
        "## Video Loading Function"
      ]
    },
    {
      "cell_type": "code",
      "execution_count": 10,
      "id": "9e20de29",
      "metadata": {
        "id": "9e20de29"
      },
      "outputs": [],
      "source": [
        "def load_video(path: str) -> tf.Tensor:\n",
        "    '''\n",
        "    Load a video from a path, convert it to grayscale, crop it to the face,\n",
        "    normalize it with z-score normalization, and return a numpy array of the frames.\n",
        "    '''\n",
        "    cap = cv2.VideoCapture(path)\n",
        "    frames = []\n",
        "    for _ in range(int(cap.get(cv2.CAP_PROP_FRAME_COUNT))):\n",
        "      # Get one frame as a numpy array\n",
        "      ret, frame = cap.read()\n",
        "      # Grayscale conversion\n",
        "      #gray = cv2.cvtColor(frame, cv2.COLOR_BGR2GRAY) # => Returns 2D image\n",
        "      gray = tf.image.rgb_to_grayscale(frame) # => Returns 3D tensor\n",
        "      # Add the frame to the list\n",
        "      frames.append(gray[190:236, 80:220, :])\n",
        "    # Release the video\n",
        "    cap.release()\n",
        "\n",
        "    # Normalize the data with z-score normalization\n",
        "    mean = tf.math.reduce_mean(frames)\n",
        "    std = tf.math.reduce_std(tf.cast(frames, tf.float32))\n",
        "\n",
        "    return tf.cast((frames - mean), tf.float32) / std\n"
      ]
    },
    {
      "cell_type": "code",
      "execution_count": null,
      "id": "U99_u1-9okR2",
      "metadata": {
        "id": "U99_u1-9okR2"
      },
      "outputs": [],
      "source": [
        "frames_test = load_video(test_path)"
      ]
    },
    {
      "cell_type": "code",
      "execution_count": null,
      "id": "3WI5wmICpSwx",
      "metadata": {
        "colab": {
          "base_uri": "https://localhost:8080/"
        },
        "id": "3WI5wmICpSwx",
        "outputId": "9dbda0c5-e54c-4aab-c4ac-0a461a7714a6"
      },
      "outputs": [
        {
          "data": {
            "text/plain": [
              "tensorflow.python.framework.ops.EagerTensor"
            ]
          },
          "execution_count": 20,
          "metadata": {},
          "output_type": "execute_result"
        }
      ],
      "source": [
        "type(frames_test)"
      ]
    },
    {
      "cell_type": "markdown",
      "id": "cEat8wvxrXwk",
      "metadata": {
        "id": "cEat8wvxrXwk"
      },
      "source": [
        "## Char Encoding"
      ]
    },
    {
      "cell_type": "code",
      "execution_count": 11,
      "id": "HIqnYi6DSCuw",
      "metadata": {
        "id": "HIqnYi6DSCuw"
      },
      "outputs": [],
      "source": [
        "# Vocabulary to encode\n",
        "vocab = [x for x in \"abcdefghijklmnopqrstuvwxyz'?!123456789 \"]"
      ]
    },
    {
      "cell_type": "code",
      "execution_count": 12,
      "id": "7rVmzIGvrf1U",
      "metadata": {
        "id": "7rVmzIGvrf1U"
      },
      "outputs": [],
      "source": [
        "# Char to num converter\n",
        "char_to_num = tf.keras.layers.StringLookup(vocabulary=vocab, oov_token=\"\")\n",
        "# Num to char converter\n",
        "num_to_char = tf.keras.layers.StringLookup(vocabulary=char_to_num.get_vocabulary(), oov_token=\"\", invert=True)"
      ]
    },
    {
      "cell_type": "markdown",
      "id": "eBSRU1ylhFRz",
      "metadata": {
        "id": "eBSRU1ylhFRz"
      },
      "source": [
        "### Conversion Test"
      ]
    },
    {
      "cell_type": "code",
      "execution_count": null,
      "id": "9bnqDcPvO2t0",
      "metadata": {
        "colab": {
          "base_uri": "https://localhost:8080/"
        },
        "id": "9bnqDcPvO2t0",
        "outputId": "4732ac66-321a-430e-8147-6132ec85fa7a"
      },
      "outputs": [
        {
          "data": {
            "text/plain": [
              "<tf.Tensor: shape=(4,), dtype=int64, numpy=array([7, 1, 2, 5])>"
            ]
          },
          "execution_count": 23,
          "metadata": {},
          "output_type": "execute_result"
        }
      ],
      "source": [
        "# Conversion test\n",
        "char_to_num(['g', 'a', 'b', 'e'])"
      ]
    },
    {
      "cell_type": "code",
      "execution_count": null,
      "id": "qF2h_zfWS6Iu",
      "metadata": {
        "colab": {
          "base_uri": "https://localhost:8080/"
        },
        "id": "qF2h_zfWS6Iu",
        "outputId": "182ef35b-10ff-4066-d25f-f9efb74ac9b0"
      },
      "outputs": [
        {
          "data": {
            "text/plain": [
              "<tf.Tensor: shape=(4,), dtype=string, numpy=array([b'g', b'a', b'b', b'e'], dtype=object)>"
            ]
          },
          "execution_count": 24,
          "metadata": {},
          "output_type": "execute_result"
        }
      ],
      "source": [
        "# Retrieving chars test\n",
        "num_to_char([7, 1, 2, 5])"
      ]
    },
    {
      "cell_type": "markdown",
      "id": "sK11OrQas5U6",
      "metadata": {
        "id": "sK11OrQas5U6"
      },
      "source": [
        "## Alignments Loading Test"
      ]
    },
    {
      "cell_type": "code",
      "execution_count": null,
      "id": "U97BY18utPOZ",
      "metadata": {
        "id": "U97BY18utPOZ"
      },
      "outputs": [],
      "source": [
        "# Open align file\n",
        "with open(al_path, \"r\") as f:\n",
        "    lines = f.readlines()"
      ]
    },
    {
      "cell_type": "code",
      "execution_count": null,
      "id": "q82mI0K0wqD6",
      "metadata": {
        "colab": {
          "base_uri": "https://localhost:8080/"
        },
        "id": "q82mI0K0wqD6",
        "outputId": "e749666e-98e0-461c-f9e8-29722e0909f9"
      },
      "outputs": [
        {
          "data": {
            "text/plain": [
              "['0 16000 sil\\n',\n",
              " '16000 21250 bin\\n',\n",
              " '21250 26750 blue\\n',\n",
              " '26750 27750 at\\n',\n",
              " '27750 31500 l\\n',\n",
              " '31500 39250 six\\n',\n",
              " '39250 45250 now\\n',\n",
              " '45250 74500 sil\\n']"
            ]
          },
          "execution_count": 27,
          "metadata": {},
          "output_type": "execute_result"
        }
      ],
      "source": [
        "lines"
      ]
    },
    {
      "cell_type": "code",
      "execution_count": null,
      "id": "5aNJu0xCwzJ_",
      "metadata": {
        "colab": {
          "base_uri": "https://localhost:8080/"
        },
        "id": "5aNJu0xCwzJ_",
        "outputId": "bb914268-7d3a-4ad5-c474-9b1c043e0907"
      },
      "outputs": [
        {
          "data": {
            "text/plain": [
              "[' ', 'bin', ' ', 'blue', ' ', 'at', ' ', 'l', ' ', 'six', ' ', 'now']"
            ]
          },
          "execution_count": 28,
          "metadata": {},
          "output_type": "execute_result"
        }
      ],
      "source": [
        "# Tokienize alignments\n",
        "tokens = []\n",
        "for line in lines:\n",
        "    line = line.split()\n",
        "    # Ignore silence tokens\n",
        "    if line[2] != \"sil\":\n",
        "        tokens = [*tokens, ' ', line[2]]\n",
        "\n",
        "tokens"
      ]
    },
    {
      "cell_type": "markdown",
      "id": "7B6zNt0bTqpe",
      "metadata": {
        "id": "7B6zNt0bTqpe"
      },
      "source": [
        "## Alignments Loading Function"
      ]
    },
    {
      "cell_type": "code",
      "execution_count": 13,
      "id": "Z08JND6ETqMd",
      "metadata": {
        "id": "Z08JND6ETqMd"
      },
      "outputs": [],
      "source": [
        "def load_alignments(path: str) -> tf.Tensor:\n",
        "  '''\n",
        "  Load alignments from a path, tokenize them,\n",
        "  and return the encoded characters as a 1D tensor.\n",
        "  '''\n",
        "  # Open align file\n",
        "  with open(path, \"r\") as f:\n",
        "    lines = f.readlines()\n",
        "\n",
        "  # Tokenize alignments\n",
        "  tokens = []\n",
        "  for line in lines:\n",
        "      line = line.split()\n",
        "      # Ignore silence tokens\n",
        "      if line[2] != \"sil\":\n",
        "          tokens = [*tokens, ' ', line[2]]\n",
        "\n",
        "  return char_to_num(tf.reshape(tf.strings.unicode_split(tokens, input_encoding='UTF-8'), (-1)))[1:]"
      ]
    },
    {
      "cell_type": "markdown",
      "id": "o0l5jCmwYeYg",
      "metadata": {
        "id": "o0l5jCmwYeYg"
      },
      "source": [
        "### Test"
      ]
    },
    {
      "cell_type": "code",
      "execution_count": null,
      "id": "VRtF6pveU_Ii",
      "metadata": {
        "id": "VRtF6pveU_Ii"
      },
      "outputs": [],
      "source": [
        "x = load_alignments(al_path)"
      ]
    },
    {
      "cell_type": "code",
      "execution_count": null,
      "id": "SdR6tLtiVL2o",
      "metadata": {
        "colab": {
          "base_uri": "https://localhost:8080/"
        },
        "id": "SdR6tLtiVL2o",
        "outputId": "55113be8-9ecf-43cb-fff9-b1e1ad42ee59"
      },
      "outputs": [
        {
          "data": {
            "text/plain": [
              "<tf.Tensor: shape=(21,), dtype=int64, numpy=\n",
              "array([ 2,  9, 14, 39,  2, 12, 21,  5, 39,  1, 20, 39, 12, 39, 19,  9, 24,\n",
              "       39, 14, 15, 23])>"
            ]
          },
          "execution_count": 31,
          "metadata": {},
          "output_type": "execute_result"
        }
      ],
      "source": [
        "x"
      ]
    },
    {
      "cell_type": "code",
      "execution_count": null,
      "id": "R83RrvlpVZ14",
      "metadata": {
        "colab": {
          "base_uri": "https://localhost:8080/"
        },
        "id": "R83RrvlpVZ14",
        "outputId": "ec734a3c-fedd-4300-b16c-96bb8ed4ae2f"
      },
      "outputs": [
        {
          "data": {
            "text/plain": [
              "<tf.Tensor: shape=(21,), dtype=string, numpy=\n",
              "array([b'b', b'i', b'n', b' ', b'b', b'l', b'u', b'e', b' ', b'a', b't',\n",
              "       b' ', b'l', b' ', b's', b'i', b'x', b' ', b'n', b'o', b'w'],\n",
              "      dtype=object)>"
            ]
          },
          "execution_count": 32,
          "metadata": {},
          "output_type": "execute_result"
        }
      ],
      "source": [
        "num_to_char(x)"
      ]
    },
    {
      "cell_type": "code",
      "execution_count": null,
      "id": "ZAOhmsoRntnz",
      "metadata": {
        "colab": {
          "base_uri": "https://localhost:8080/"
        },
        "collapsed": true,
        "id": "ZAOhmsoRntnz",
        "outputId": "ed9d5d23-9532-445c-a4f8-f392c8055a48"
      },
      "outputs": [
        {
          "name": "stdout",
          "output_type": "stream",
          "text": [
            "Loaded sran8n.align\n",
            "Loaded bgbu4p.align\n",
            "Loaded lgiszp.align\n",
            "Loaded lwws5s.align\n",
            "Loaded lgwm6n.align\n",
            "Loaded lgwg3s.align\n",
            "Loaded braf8n.align\n",
            "Loaded lgwm9a.align\n",
            "Loaded swbi6p.align\n",
            "Loaded bgah3a.align\n",
            "Loaded bwat4p.align\n",
            "Loaded sbia1s.align\n",
            "Loaded pwbx9s.align\n",
            "Loaded bgaa9a.align\n",
            "Loaded sgac2n.align\n",
            "Loaded lbby5a.align\n",
            "Loaded bgwo2n.align\n",
            "Loaded prii8p.align\n",
            "Loaded brwa5a.align\n",
            "Loaded bram2n.align\n",
            "Loaded pwax5s.align\n",
            "Loaded swiu4n.align\n",
            "Loaded sban2n.align\n",
            "Loaded bbws8n.align\n",
            "Loaded brwnzn.align\n",
            "Loaded srah5s.align\n",
            "Loaded bwba5s.align\n",
            "Loaded pbiv1a.align\n",
            "Loaded lgbm2n.align\n",
            "Loaded lwir2n.align\n",
            "Loaded lgal8n.align\n",
            "Loaded sbwh7s.align\n",
            "Loaded bwanzp.align\n",
            "Loaded lray5s.align\n",
            "Loaded bwaazn.align\n",
            "Loaded brwn1s.align\n",
            "Loaded swwp3s.align\n",
            "Loaded bbal6n.align\n",
            "Loaded swab8p.align\n",
            "Loaded pbac3a.align\n",
            "Loaded pbii1s.align\n",
            "Loaded lrwf2p.align\n",
            "Loaded sgbc7s.align\n",
            "Loaded swbv3s.align\n",
            "Loaded lwal3s.align\n",
            "Loaded pgbe3s.align\n",
            "Loaded pwix2p.align\n",
            "Loaded bgwb5s.align\n",
            "Loaded sbig5s.align\n",
            "Loaded sbat6n.align\n",
            "Loaded lrak6n.align\n",
            "Loaded lgwg5a.align\n",
            "Loaded bbbs6p.align\n",
            "Loaded bbbmzn.align\n",
            "Loaded brbt1s.align\n",
            "Loaded pbio7a.align\n",
            "Loaded bwan1a.align\n",
            "Loaded lbax9s.align\n",
            "Loaded bwwn7s.align\n",
            "Loaded lbak2p.align\n",
            "Loaded prwq5a.align\n",
            "Loaded srah7a.align\n",
            "Loaded sgwq1a.align\n",
            "Loaded swaizn.align\n",
            "Loaded lbix5s.align\n",
            "Loaded srin7a.align\n",
            "Loaded srau4p.align\n",
            "Loaded pgbr1s.align\n",
            "Loaded pwax7a.align\n",
            "Loaded lgbm4p.align\n",
            "Loaded sgav6p.align\n",
            "Loaded bwag4n.align\n",
            "Loaded bwbt8p.align\n",
            "Loaded bbie9s.align\n",
            "Loaded lwafzp.align\n",
            "Loaded pgbk6n.align\n",
            "Loaded pbii2p.align\n",
            "Loaded bwbn4p.align\n",
            "Loaded prax1a.align\n",
            "Loaded lrbr4n.align\n",
            "Loaded bgwi1a.align\n",
            "Loaded bbir8p.align\n",
            "Loaded prwq3s.align\n",
            "Loaded pgby5s.align\n",
            "Loaded prwj8n.align\n",
            "Loaded lrwf1s.align\n",
            "Loaded bbwm5s.align\n",
            "Loaded pwaq2p.align\n",
            "Loaded bgin3a.align\n",
            "Loaded bwbg9s.align\n",
            "Loaded sriuzp.align\n",
            "Loaded lwbz6p.align\n",
            "Loaded lwbl8p.align\n",
            "Loaded pgix7s.align\n",
            "Loaded lbbe2p.align\n",
            "Loaded sgiczp.align\n",
            "Loaded lriq7s.align\n",
            "Loaded bwba4n.align\n",
            "Loaded swwc6p.align\n",
            "Loaded swbo8n.align\n",
            "Loaded brbazp.align\n",
            "Loaded pwbq5s.align\n",
            "Loaded lbbe3a.align\n",
            "Loaded brif4n.align\n",
            "Loaded bbizzn.align\n",
            "Loaded pbwp9a.align\n",
            "Loaded lgaf6p.align\n",
            "Loaded lwie6p.align\n",
            "Loaded pbbv7s.align\n",
            "Loaded lwal2n.align\n",
            "Loaded pwbx8n.align\n",
            "Loaded bgbh6p.align\n",
            "Loaded sbwu5s.align\n",
            "Loaded lwar7s.align\n",
            "Loaded bwbg8n.align\n",
            "Loaded bragzp.align\n",
            "Loaded bwbt9a.align\n",
            "Loaded bgat8n.align\n",
            "Loaded srab1s.align\n",
            "Loaded pwwy3s.align\n",
            "Loaded lwil1a.align\n",
            "Loaded bbas1s.align\n",
            "Loaded swwi8n.align\n",
            "Loaded lbwy7s.align\n",
            "Loaded prac9a.align\n",
            "Loaded prajzn.align\n",
            "Loaded prbx2n.align\n",
            "Loaded sbit2n.align\n",
            "Loaded bgaa7s.align\n",
            "Loaded prwd5s.align\n",
            "Loaded swab6n.align\n",
            "Loaded pbwxzn.align\n",
            "Loaded sgav4n.align\n",
            "Loaded lrik3s.align\n",
            "Loaded lwbs1s.align\n",
            "Loaded bgbu5a.align\n",
            "Loaded lwiy9a.align\n",
            "Loaded pwwe2p.align\n",
            "Loaded lbaq5s.align\n",
            "Loaded sgwp9s.align\n",
            "Loaded pgiq2n.align\n",
            "Loaded swwj1a.align\n",
            "Loaded praj3a.align\n",
            "Loaded pric4p.align\n",
            "Loaded pwwk4n.align\n",
            "Loaded priv4n.align\n",
            "Loaded pwwrzp.align\n",
            "Loaded bwim7a.align\n",
            "Loaded lbwk9s.align\n",
            "Loaded bbie8n.align\n",
            "Loaded bgbh4n.align\n",
            "Loaded pwax6p.align\n",
            "Loaded prbqzp.align\n",
            "Loaded srwi5a.align\n",
            "Loaded lbbezn.align\n",
            "Loaded sbbn6n.align\n",
            "Loaded bris4p.align\n",
            "Loaded lgis1a.align\n",
            "Loaded lwbszn.align\n",
            "Loaded bwwn8p.align\n",
            "Loaded pgij8n.align\n",
            "Loaded lrwz5a.align\n",
            "Loaded bwwu3a.align\n",
            "Loaded sgac5a.align\n",
            "Loaded bgahzn.align\n",
            "Loaded pgak2n.align\n",
            "Loaded bgit4n.align\n",
            "Loaded prbd3a.align\n",
            "Loaded prwd7a.align\n",
            "Loaded pwij5a.align\n",
            "Loaded lbix4n.align\n",
            "Loaded praj1s.align\n",
            "Loaded swai3a.align\n",
            "Loaded swio1s.align\n",
            "Loaded sbat8p.align\n",
            "Loaded lbwr4p.align\n",
            "Loaded srah6p.align\n",
            "Loaded lbad8p.align\n",
            "Loaded swai1s.align\n",
            "Loaded pgwr5s.align\n",
            "Loaded bgau1a.align\n",
            "Loaded pwad5a.align\n",
            "Loaded bbbz9s.align\n",
            "Loaded lrik4p.align\n",
            "Loaded bwbt7s.align\n",
            "Loaded lwar9a.align\n",
            "Loaded sria7s.align\n",
            "Loaded lrwl7a.align\n",
            "Loaded lriq9a.align\n",
            "Loaded brbt3a.align\n",
            "Loaded pbap1a.align\n",
            "Loaded sbin1a.align\n",
            "Loaded bwat3s.align\n",
            "Loaded lbwy6n.align\n",
            "Loaded lbid2n.align\n",
            "Loaded prip2p.align\n",
            "Loaded pbac1s.align\n",
            "Loaded brbt2p.align\n",
            "Loaded lgwm8p.align\n",
            "Loaded lrar1s.align\n",
            "Loaded bgbo1a.align\n",
            "Loaded brbg4p.align\n",
            "Loaded swbc2p.align\n",
            "Loaded lrwr8n.align\n",
            "Loaded lbij8p.align\n",
            "Loaded bwaa3a.align\n",
            "Loaded pric3s.align\n",
            "Loaded bwwh3s.align\n",
            "Loaded bbifzp.align\n",
            "Loaded pwix1s.align\n",
            "Loaded pbai6p.align\n",
            "Loaded srwi2n.align\n",
            "Loaded prwq2n.align\n",
            "Loaded prwk1a.align\n",
            "Loaded sgbj1s.align\n",
            "Loaded lriy3a.align\n",
            "Loaded sbwu4n.align\n",
            "Loaded lriezp.align\n",
            "Loaded sbbb1a.align\n",
            "Loaded bris2n.align\n",
            "Loaded lrbe9a.align\n",
            "Loaded pwwy5a.align\n",
            "Loaded brwa4p.align\n",
            "Loaded bbas2p.align\n",
            "Loaded bgbb2p.align\n",
            "Loaded pwij4p.align\n",
            "Loaded lwws6p.align\n",
            "Loaded lwazzn.align\n",
            "Loaded pbwp6n.align\n",
            "Loaded swwv9a.align\n",
            "Loaded srwo9a.align\n",
            "Loaded lgamzp.align\n",
            "Loaded lgas3s.align\n",
            "Loaded sgii5a.align\n",
            "Loaded pwbd6n.align\n",
            "Loaded pgbk7s.align\n",
            "Loaded srih3a.align\n",
            "Loaded lwie4n.align\n",
            "Loaded pgwe7s.align\n",
            "Loaded lwiy7s.align\n",
            "Loaded lbad7s.align\n",
            "Loaded lrid8n.align\n",
            "Loaded pwwq8n.align\n",
            "Loaded sbia2p.align\n",
            "Loaded sgio6n.align\n",
            "Loaded lray4n.align\n",
            "Loaded lgiz2n.align\n",
            "Loaded bgwu6n.align\n",
            "Loaded prbj5s.align\n",
            "Loaded sbwh6n.align\n",
            "Loaded sbwb4p.align\n",
            "Loaded prac8p.align\n",
            "Loaded swbi5s.align\n",
            "Loaded bbbf9a.align\n",
            "Loaded pgix8p.align\n",
            "Loaded swao4n.align\n",
            "Loaded bbbf6n.align\n",
            "Loaded swai2p.align\n",
            "Loaded lbix6p.align\n",
            "Loaded lbiq2p.align\n",
            "Loaded swiu6p.align\n",
            "Loaded lriy1s.align\n",
            "Loaded bgan5s.align\n",
            "Loaded pgid4n.align\n",
            "Loaded pwbd7s.align\n",
            "Loaded swbpzp.align\n",
            "Loaded bgwb7a.align\n",
            "Loaded bwwbzp.align\n",
            "Loaded sbwh8p.align\n",
            "Loaded lwiy8p.align\n",
            "Loaded lgbs9a.align\n",
            "Loaded pwby1a.align\n",
            "Loaded lgwa1a.align\n",
            "Loaded sbwo2p.align\n",
            "Loaded pgwr7a.align\n",
            "Loaded sgwj4n.align\n",
            "Loaded pgwy9s.align\n",
            "Loaded bgwu9a.align\n",
            "Loaded pwbq4n.align\n",
            "Loaded pgiq5a.align\n",
            "Loaded bbil3s.align\n",
            "Loaded sgib9s.align\n",
            "Loaded lbij7s.align\n",
            "Loaded pbivzp.align\n",
            "Loaded lrarzn.align\n",
            "Loaded pbbc7a.align\n",
            "Loaded swbi7a.align\n",
            "Loaded bwis9s.align\n",
            "Loaded brif6p.align\n",
            "Loaded sbba8n.align\n",
            "Loaded lwbf2n.align\n",
            "Loaded brwn3a.align\n",
            "Loaded bwwn6n.align\n",
            "Loaded sgap3a.align\n",
            "Loaded pgad9s.align\n",
            "Loaded lwbf4p.align\n",
            "Loaded bbbf8p.align\n",
            "Loaded bbwgzn.align\n",
            "Loaded lgwg4p.align\n",
            "Loaded srbu9a.align\n",
            "Loaded lwaf1a.align\n",
            "Loaded pwbd9a.align\n",
            "Loaded prip3a.align\n",
            "Loaded pripzn.align\n",
            "Loaded swwp5a.align\n",
            "Loaded srbu6n.align\n",
            "Loaded pwaqzn.align\n",
            "Loaded lgam1a.align\n",
            "Loaded sbwo1s.align\n",
            "Loaded bgbh5s.align\n",
            "Loaded srwvzn.align\n",
            "Loaded sgav5s.align\n",
            "Loaded pwbq7a.align\n",
            "Loaded pwbk3a.align\n",
            "Loaded lbwy8p.align\n",
            "Loaded lwbz4n.align\n",
            "Loaded prbj7a.align\n",
            "Loaded lwbf3s.align\n",
            "Loaded pgikzp.align\n",
            "Loaded lgbs7s.align\n",
            "Loaded bwwa8n.align\n",
            "Loaded pwij3s.align\n",
            "Loaded sbat7s.align\n",
            "Loaded srin5s.align\n",
            "Loaded sbbh2n.align\n",
            "Loaded sraozp.align\n",
            "Loaded bgwb4n.align\n",
            "Loaded swib2n.align\n",
            "Loaded lgif2p.align\n",
            "Loaded swbc3a.align\n",
            "Loaded bbwm4n.align\n",
            "Loaded swbo9s.align\n",
            "Loaded sbit3s.align\n",
            "Loaded lrbr7a.align\n",
            "Loaded prap6p.align\n",
            "Loaded lrae5a.align\n",
            "Loaded lgas2n.align\n",
            "Loaded pgby6p.align\n",
            "Loaded bbaszn.align\n",
            "Loaded lbwk8n.align\n",
            "Loaded srbb4n.align\n",
            "Loaded sbbh5a.align\n",
            "Loaded lwbs3a.align\n",
            "Loaded bwwh4p.align\n",
            "Loaded sbwo3a.align\n",
            "Loaded lwbz7a.align\n",
            "Loaded brwn2p.align\n",
            "Loaded pgij9s.align\n",
            "Loaded pbaczn.align\n",
            "Loaded lbby2n.align\n",
            "Loaded lrwl4n.align\n",
            "Loaded lrak9a.align\n",
            "Loaded pwip8p.align\n",
            "Loaded sgbv8n.align\n",
            "Loaded swiozn.align\n",
            "Loaded pwbkzn.align\n",
            "Loaded lrby9s.align\n",
            "Loaded srwo6n.align\n",
            "Loaded brba1a.align\n",
            "Loaded sbbn9a.align\n",
            "Loaded prwj9s.align\n",
            "Loaded lgaf4n.align\n",
            "Loaded sbbh4p.align\n",
            "Loaded swib4p.align\n",
            "Loaded pgak4p.align\n",
            "Loaded pgbk9a.align\n",
            "Loaded pbbjzp.align\n",
            "Loaded pbib9a.align\n",
            "Loaded sbinzp.align\n",
            "Loaded bwat5a.align\n",
            "Loaded sban4p.align\n",
            "Loaded lwws7a.align\n",
            "Loaded sria8p.align\n",
            "Loaded sbig4n.align\n",
            "Loaded pbbp4p.align\n",
            "Loaded bwbn2n.align\n",
            "Loaded pwbq6p.align\n",
            "Loaded lgbs8p.align\n",
            "Loaded srwo7s.align\n",
            "Loaded lgbf8n.align\n",
            "Loaded pgid5s.align\n",
            "Loaded lgil4n.align\n",
            "Loaded pric5a.align\n",
            "Loaded lwae9s.align\n",
            "Loaded srabzn.align\n",
            "Loaded bwaa1s.align\n",
            "Loaded pgay2p.align\n",
            "Loaded lrwf3a.align\n",
            "Loaded sgac3s.align\n",
            "Loaded pbiu8n.align\n",
            "Loaded sbwozn.align\n",
            "Loaded pgwl3a.align\n",
            "Loaded bwat2n.align\n",
            "Loaded pgiq4p.align\n",
            "Loaded pwwe3a.align\n",
            "Loaded pgayzn.align\n",
            "Loaded briz8p.align\n",
            "Loaded pwwq9s.align\n",
            "Loaded srwi3s.align\n",
            "Loaded lgwt2p.align\n",
            "Loaded bbbm3a.align\n",
            "Loaded srah4n.align\n",
            "Loaded lbbk6p.align\n",
            "Loaded lrblzn.align\n",
            "Loaded prac7s.align\n",
            "Loaded sgio8p.align\n",
            "Loaded bwig3a.align\n",
            "Loaded brbg5a.align\n",
            "Loaded sbig7a.align\n",
            "Loaded swwc5s.align\n",
            "Loaded bwwu1s.align\n",
            "Loaded bwwn9a.align\n",
            "Loaded lriy2p.align\n",
            "Loaded sgbjzn.align\n",
            "Loaded swih7s.align\n",
            "Loaded lriq8p.align\n",
            "Loaded swio3a.align\n",
            "Loaded pbio4n.align\n",
            "Loaded brwg7s.align\n",
            "Loaded prwd6p.align\n",
            "Loaded bwam9s.align\n",
            "Loaded bram5a.align\n",
            "Loaded bbil5a.align\n",
            "Loaded lbbrzp.align\n",
            "Loaded lbwe6p.align\n",
            "Loaded bbal7s.align\n",
            "Loaded pgid6p.align\n",
            "Loaded swav1a.align\n",
            "Loaded bgwo5a.align\n",
            "Loaded sbiazn.align\n",
            "Loaded prii9a.align\n",
            "Loaded bgah2p.align\n",
            "Loaded sgivzn.align\n",
            "Loaded srbo4p.align\n",
            "Loaded lrwl5s.align\n",
            "Loaded bgia3s.align\n",
            "Loaded sgwj5s.align\n",
            "Loaded swab7s.align\n",
            "Loaded pbbc6p.align\n",
            "Loaded swwv7s.align\n",
            "Loaded pgwe8p.align\n",
            "Loaded brbm7s.align\n",
            "Loaded sgio7s.align\n",
            "Loaded prbd2p.align\n",
            "Loaded prac6n.align\n",
            "Loaded sgii2n.align\n",
            "Loaded bwba6p.align\n",
            "Loaded pwixzn.align\n",
            "Loaded sgbx1a.align\n",
            "Loaded lrwfzn.align\n",
            "Loaded lrar3a.align\n",
            "Loaded bgwu8p.align\n",
            "Loaded pwaq3a.align\n",
            "Loaded bgia5a.align\n",
            "Loaded prbd1s.align\n",
            "Loaded bwim4n.align\n",
            "Loaded sria6n.align\n",
            "Loaded bgat9s.align\n",
            "Loaded pbwj5a.align\n",
            "Loaded sgio9a.align\n",
            "Loaded sbaa5s.align\n",
            "Loaded sgib8n.align\n",
            "Loaded lbwl1a.align\n",
            "Loaded lwwf8p.align\n",
            "Loaded lrid9s.align\n",
            "Loaded lgwt3a.align\n",
            "Loaded lwie7a.align\n",
            "Loaded lwir3s.align\n",
            "Loaded pwaq1s.align\n",
            "Loaded lrbzzp.align\n",
            "Loaded lrik5a.align\n",
            "Loaded prap5s.align\n",
            "Loaded bwim5s.align\n",
            "Loaded lbay1a.align\n",
            "Loaded lwwmzn.align\n",
            "Loaded bgaa6n.align\n",
            "Loaded prwx8p.align\n",
            "Loaded sbaa4n.align\n",
            "Loaded bbbs7a.align\n",
            "Loaded lwaz1s.align\n",
            "Loaded bgbb1s.align\n",
            "Loaded pwaj6n.align\n",
            "Loaded sbag8n.align\n",
            "Loaded lrbz1a.align\n",
            "Loaded swbp1a.align\n",
            "Loaded pwic9s.align\n",
            "Loaded sgii4p.align\n",
            "Loaded pgbr2p.align\n",
            "Loaded bbwm7a.align\n",
            "Loaded pgwlzn.align\n",
            "Loaded pgbe2n.align\n",
            "Loaded lriyzn.align\n",
            "Loaded bgan6p.align\n",
            "Loaded sbbn7s.align\n",
            "Loaded lbwr2n.align\n",
            "Loaded lwir4p.align\n",
            "Loaded prwkzp.align\n",
            "Loaded sbbh3s.align\n",
            "Loaded sriu1a.align\n",
            "Loaded srwi4p.align\n",
            "Loaded lgil7a.align\n",
            "Loaded swau8n.align\n",
            "Loaded swbi4n.align\n",
            "Loaded bgbn8n.align\n",
            "Loaded lrak7s.align\n",
            "Loaded pwwr1a.align\n",
            "Loaded lbwy9a.align\n",
            "Loaded lbwlzp.align\n",
            "Loaded lwwz9s.align\n",
            "Loaded sbba9s.align\n",
            "Loaded sbit5a.align\n",
            "Loaded sgwj7a.align\n",
            "Loaded bwag7a.align\n",
            "Loaded lwir5a.align\n",
            "Loaded sban5a.align\n",
            "Loaded prbx4p.align\n",
            "Loaded bgig9a.align\n",
            "Loaded bwbn5a.align\n",
            "Loaded lwwf6n.align\n",
            "Loaded lrbl2p.align\n",
            "Loaded sbbu3a.align\n",
            "Loaded bbbs4n.align\n",
            "Loaded bbbm1s.align\n",
            "Loaded pgaq7s.align\n",
            "Loaded srbo3s.align\n",
            "Loaded sgbxzp.align\n",
            "Loaded bbaf3s.align\n",
            "Loaded sban3s.align\n",
            "Loaded lgaz9a.align\n",
            "Loaded lgbf9s.align\n",
            "Loaded pwad2n.align\n",
            "Loaded lwwz8n.align\n",
            "Loaded sgiv2p.align\n",
            "Loaded lbiq1s.align\n",
            "Loaded bwig2p.align\n",
            "Loaded pgwe6n.align\n",
            "Loaded bgin2p.align\n",
            "Loaded pwwk6p.align\n",
            "Loaded sbahzp.align\n",
            "Loaded pbwx1s.align\n",
            "Loaded sbaa7a.align\n",
            "Loaded lgaf5s.align\n",
            "Loaded bras8p.align\n",
            "Loaded pwbk2p.align\n",
            "Loaded sran9s.align\n",
            "Loaded pwip7s.align\n",
            "Loaded prap4n.align\n",
            "Loaded brwa2n.align\n",
            "Loaded srbu7s.align\n",
            "Loaded lwilzp.align\n",
            "Loaded pbib8p.align\n",
            "Loaded pgwzzp.align\n",
            "Loaded pbbp5a.align\n",
            "Loaded lgas5a.align\n",
            "Loaded pwbd8p.align\n",
            "Loaded brag1a.align\n",
            "Loaded bbwg2p.align\n",
            "Loaded bwigzn.align\n",
            "Loaded swwv8p.align\n",
            "Loaded bgin1s.align\n",
            "Loaded pgwl2p.align\n",
            "Loaded srbh9s.align\n",
            "Loaded bbaf5a.align\n",
            "Loaded pwwy4p.align\n",
            "Loaded bgwo3s.align\n",
            "Loaded lrae3s.align\n",
            "Loaded bwaa2p.align\n",
            "Loaded bbir6n.align\n",
            "Loaded sbbbzp.align\n",
            "Loaded srau3s.align\n",
            "Loaded swavzp.align\n",
            "Loaded swwp2n.align\n",
            "Loaded sgbc9a.align\n",
            "Loaded pgay1s.align\n",
            "Loaded lrwz4p.align\n",
            "Loaded lrbl1s.align\n",
            "Loaded lwwm3a.align\n",
            "Loaded pbbj1a.align\n",
            "Loaded pgby7a.align\n",
            "Loaded pwaj9a.align\n",
            "Loaded sgwp8n.align\n",
            "Loaded lbaq6p.align\n",
            "Loaded srbh8n.align\n",
            "Loaded lbbq8n.align\n",
            "Loaded pwwe1s.align\n",
            "Loaded pbio6p.align\n",
            "Loaded lrwl6p.align\n",
            "Loaded pbav5a.align\n",
            "Loaded pwip6n.align\n",
            "Loaded bgit6p.align\n",
            "Loaded lbid4p.align\n",
            "Loaded pbwx3a.align\n",
            "Loaded lbby3s.align\n",
            "Loaded bgwo4p.align\n",
            "Loaded briz7s.align\n",
            "Loaded pbbi9s.align\n",
            "Loaded sria9a.align\n",
            "Loaded pbai7a.align\n",
            "Loaded pgak3s.align\n",
            "Loaded swao5s.align\n",
            "Loaded brif5s.align\n",
            "Loaded swwc7a.align\n",
            "Loaded pgid7a.align\n",
            "Loaded sbia3a.align\n",
            "Loaded bris3s.align\n",
            "Loaded lrar2p.align\n",
            "Loaded bgwb6p.align\n",
            "Loaded lrbr5s.align\n",
            "Loaded sgwd1s.align\n",
            "Loaded bgia4p.align\n",
            "Loaded bgia2n.align\n",
            "Loaded sbag9s.align\n",
            "Loaded swih8p.align\n",
            "Loaded lrak8p.align\n",
            "Loaded lbiq3a.align\n",
            "Loaded srbu8p.align\n",
            "Loaded bwwu2p.align\n",
            "Loaded priv6p.align\n",
            "Loaded sgwd3a.align\n",
            "Loaded pgae1a.align\n",
            "Loaded pwid1a.align\n",
            "Loaded brimzp.align\n",
            "Loaded prav9s.align\n",
            "Loaded bwbn3s.align\n",
            "Loaded bgig7s.align\n",
            "Loaded bbwg1s.align\n",
            "Loaded bbir9a.align\n",
            "Loaded bbal9a.align\n",
            "Loaded swbv2n.align\n",
            "Loaded swib3s.align\n",
            "Loaded swiu7a.align\n",
            "Loaded lrwz2n.align\n",
            "Loaded prbj6p.align\n",
            "Loaded sbbuzn.align\n",
            "Loaded brwa3s.align\n",
            "Loaded brif7a.align\n",
            "Loaded swao7a.align\n",
            "Loaded sgwx4p.align\n",
            "Loaded lgwm7s.align\n",
            "Loaded bgbu2n.align\n",
            "Loaded prwx7s.align\n",
            "Loaded lray7a.align\n",
            "Loaded srwv3a.align\n",
            "Loaded lwiy6n.align\n",
            "Loaded lwae8n.align\n",
            "Loaded pgwl1s.align\n",
            "Loaded pgik1a.align\n",
            "Loaded pwidzp.align\n",
            "Loaded bgbb3a.align\n",
            "Loaded pgay3a.align\n",
            "Loaded lrie1a.align\n",
            "Loaded prav8n.align\n",
            "Loaded sgai7s.align\n",
            "Loaded sbim9s.align\n",
            "Loaded brbg3s.align\n",
            "Loaded lgaz8p.align\n",
            "Loaded lbakzn.align\n",
            "Loaded bbbs5s.align\n",
            "Loaded lgbgzp.align\n",
            "Loaded pbav3s.align\n",
            "Loaded sbat9a.align\n",
            "Loaded pgwr6p.align\n",
            "Loaded lgbs6n.align\n",
            "Loaded sgai6n.align\n",
            "Loaded sbbu2p.align\n",
            "Loaded lbix7a.align\n",
            "Loaded lgwg2n.align\n",
            "Loaded prbj4n.align\n",
            "Loaded bwwh5a.align\n",
            "Loaded lgiz3s.align\n",
            "Loaded pbai5s.align\n",
            "Loaded srwv1s.align\n",
            "Loaded lwwf7s.align\n",
            "Loaded lbiqzn.align\n",
            "Loaded lgil5s.align\n",
            "Loaded pbao9s.align\n",
            "Loaded bwbh1a.align\n",
            "Loaded bras9a.align\n",
            "Loaded sbbu1s.align\n",
            "Loaded swau9s.align\n",
            "Loaded lrbl3a.align\n",
            "Loaded pbwc9s.align\n",
            "Loaded lbid5a.align\n",
            "Loaded bwag6p.align\n",
            "Loaded lgif3a.align\n",
            "Loaded bbaz7a.align\n",
            "Loaded sgbv9s.align\n",
            "Loaded briz6n.align\n",
            "Loaded pbac2p.align\n",
            "Loaded sgiv1s.align\n",
            "Loaded sgwx2n.align\n",
            "Loaded bbiz3a.align\n",
            "Loaded pwix3a.align\n",
            "Loaded lrwszp.align\n",
            "Loaded lbbk5s.align\n",
            "Loaded lwbf5a.align\n",
            "Loaded lrae2n.align\n",
            "Loaded lrik2n.align\n",
            "Loaded prbp8n.align\n",
            "Loaded lbad6n.align\n",
            "Loaded lbwe7a.align\n",
            "Loaded bbws9s.align\n",
            "Loaded bwitzp.align\n",
            "Loaded srbb7a.align\n",
            "Loaded pbwc8n.align\n",
            "Loaded swih9a.align\n",
            "Loaded lgbm3s.align\n",
            "Loaded sgwj6p.align\n",
            "Loaded sbah1a.align\n",
            "Loaded lbij6n.align\n",
            "Loaded pwaj7s.align\n",
            "Loaded lwwm2p.align\n",
            "Loaded lriq6n.align\n",
            "Loaded bginzn.align\n",
            "Loaded sgapzn.align\n",
            "Loaded pwic8n.align\n",
            "Loaded bram4p.align\n",
            "Loaded sgbj2p.align\n",
            "Loaded lgwt1s.align\n",
            "Loaded pwwy2n.align\n",
            "Loaded bgwizp.align\n",
            "Loaded srwv2p.align\n",
            "Loaded briz9a.align\n",
            "Loaded prwq4p.align\n",
            "Loaded swao6p.align\n",
            "Loaded sgai9a.align\n",
            "Loaded bris5a.align\n",
            "Loaded lgaz7s.align\n",
            "Loaded sgap1s.align\n",
            "Loaded lwbl7s.align\n",
            "Loaded bgan7a.align\n",
            "Loaded bbil4p.align\n",
            "Loaded bgan4n.align\n",
            "Loaded pbio5s.align\n",
            "Loaded sgav7a.align\n",
            "Loaded pbbv6n.align\n",
            "Loaded lgwazp.align\n",
            "Loaded lgir8n.align\n",
            "Loaded sgwd2p.align\n",
            "Loaded lbbq9s.align\n",
            "Loaded lwws4n.align\n",
            "Loaded bbiz2p.align\n",
            "Loaded bgbh7a.align\n",
            "Loaded lwar8p.align\n",
            "Loaded lgas4p.align\n",
            "Loaded swbczn.align\n",
            "Loaded swwi9s.align\n",
            "Loaded lwal4p.align\n",
            "Loaded brbm8p.align\n",
            "Loaded srau5a.align\n",
            "Loaded srab3a.align\n",
            "Loaded bbwt1a.align\n",
            "Loaded pwij2n.align\n",
            "Loaded pbao8n.align\n",
            "Loaded brbg2n.align\n",
            "Loaded brwt7a.align\n",
            "Loaded swwv6n.align\n",
            "Loaded lgwtzn.align\n",
            "Loaded bwag5s.align\n",
            "Loaded priv7a.align\n",
            "Loaded bril9s.align\n",
            "Loaded lbbe1s.align\n",
            "Loaded srwb8n.align\n",
            "Loaded srwczp.align\n",
            "Loaded sgai8p.align\n",
            "Loaded lbby4p.align\n",
            "Loaded lbij9a.align\n",
            "Loaded pwwezn.align\n",
            "Loaded swwc4n.align\n",
            "Loaded pwad4p.align\n",
            "Loaded lwal5a.align\n",
            "Loaded brwg6n.align\n",
            "Loaded prbx3s.align\n",
            "Loaded bgwh9s.align\n",
            "Loaded lgir9s.align\n",
            "Loaded bras6n.align\n",
            "Loaded pwax4n.align\n",
            "Loaded pgaezp.align\n",
            "Loaded bgbozp.align\n",
            "Loaded srih2p.align\n",
            "Loaded prbp9s.align\n",
            "Loaded pbib7s.align\n",
            "Loaded lwbz5s.align\n",
            "Loaded bram3s.align\n",
            "Loaded lrae4p.align\n",
            "Loaded pgix6n.align\n",
            "Loaded pwwk5s.align\n",
            "Loaded bgaa8p.align\n",
            "Loaded bgwu7s.align\n",
            "Loaded pgbr3a.align\n",
            "Loaded sbwb3s.align\n",
            "Loaded bgwh8n.align\n",
            "Loaded bbaz5s.align\n",
            "Loaded lgaf7a.align\n",
            "Loaded braf9s.align\n",
            "Loaded lrby8n.align\n",
            "Loaded srit9s.align\n",
            "Loaded pwbk1s.align\n",
            "Loaded lrbe8p.align\n",
            "Loaded bbil2n.align\n",
            "Loaded sgwqzp.align\n",
            "Loaded lrws1a.align\n",
            "Loaded srit8n.align\n",
            "Loaded sbwu7a.align\n",
            "Loaded pgaq8p.align\n",
            "Loaded pbbv9a.align\n",
            "Loaded sbwb5a.align\n",
            "Loaded pgby4n.align\n",
            "Loaded pbwp8p.align\n",
            "Loaded lgal9s.align\n",
            "Loaded prbq1a.align\n",
            "Loaded lgil6p.align\n",
            "Loaded pric2n.align\n",
            "Loaded bwam8n.align\n",
            "Loaded bgah1s.align\n",
            "Loaded bwwa9s.align\n",
            "Loaded pgaq6n.align\n",
            "Loaded sbwb2n.align\n",
            "Loaded lbwe5s.align\n",
            "Loaded swbc1s.align\n",
            "Loaded srin4n.align\n",
            "Loaded pbib6n.align\n",
            "Loaded lbak1s.align\n",
            "Loaded lwwm1s.align\n",
            "Loaded pgwr4n.align\n",
            "Loaded srih1s.align\n",
            "Loaded sgbp6p.align\n",
            "Loaded sgiv3a.align\n",
            "Loaded bwwh2n.align\n",
            "Loaded swwp4p.align\n",
            "Loaded prwd4n.align\n",
            "Loaded srihzn.align\n",
            "Loaded brbtzn.align\n",
            "Loaded sbig6p.align\n",
            "Loaded sbwu6p.align\n",
            "Loaded lrbe6n.align\n",
            "Loaded bbiz1s.align\n",
            "Loaded lbak3a.align\n",
            "Loaded brwt4n.align\n",
            "Loaded bgit7a.align\n",
            "Loaded lrbe7s.align\n",
            "Loaded bwig1s.align\n",
            "Loaded pbav2n.align\n",
            "Loaded bgauzp.align\n",
            "Loaded lgiz4p.align\n",
            "Loaded sgbc8p.align\n",
            "Loaded lbaq4n.align\n",
            "Loaded lbbk4n.align\n",
            "Loaded lrbr6p.align\n",
            "Loaded pgiq3s.align\n",
            "Loaded swab9a.align\n",
            "Loaded pgak5a.align\n",
            "Loaded bgit5s.align\n",
            "Loaded pbapzp.align\n",
            "Loaded lgif1s.align\n",
            "Loaded pbwj2n.align\n",
            "Loaded pwwk7a.align\n",
            "Loaded lwbl6n.align\n",
            "Loaded bgbbzn.align\n",
            "Loaded prii6n.align\n",
            "Loaded sgbj3a.align\n",
            "Loaded pwad3s.align\n",
            "Loaded pbav4p.align\n",
            "Loaded bwis8n.align\n",
            "Loaded bbwg3a.align\n",
            "Loaded brbm6n.align\n",
            "Loaded bbif1a.align\n",
            "Loaded pbii3a.align\n",
            "Loaded lbbk7a.align\n",
            "Loaded swih6n.align\n",
            "Loaded pbai4n.align\n",
            "Loaded brwt5s.align\n",
            "Loaded pbbv8p.align\n",
            "Loaded lray6p.align\n",
            "Loaded lwie5s.align\n",
            "Loaded pbbc4n.align\n",
            "Loaded srbo2n.align\n",
            "Loaded srwb9s.align\n",
            "Loaded lbad9a.align\n",
            "Loaded sgwx5a.align\n",
            "Loaded prbdzn.align\n",
            "Loaded sbit4p.align\n",
            "Loaded srab2p.align\n",
            "Loaded praxzp.align\n",
            "Loaded pwbyzp.align\n",
            "Loaded lbwe4n.align\n",
            "Loaded brwt6p.align\n",
            "Loaded swwjzp.align\n",
            "Loaded brwg8p.align\n",
            "Loaded swiu5s.align\n",
            "Loaded pwip9a.align\n",
            "Loaded pgwz1a.align\n",
            "Loaded sgac4p.align\n",
            "Loaded lbax8n.align\n",
            "Loaded swio2p.align\n",
            "Loaded pbwd1a.align\n",
            "Loaded bbbf7s.align\n",
            "Loaded sbim8n.align\n",
            "Loaded lbwr3s.align\n",
            "Loaded sbwh9a.align\n",
            "Loaded pgbrzn.align\n",
            "Loaded bras7s.align\n",
            "Loaded lwwf9a.align\n",
            "Loaded sgii3s.align\n",
            "Loaded pbbi8n.align\n",
            "Loaded bbal8p.align\n",
            "Loaded srbizp.align\n",
            "Loaded lgifzn.align\n",
            "Loaded pbiizn.align\n",
            "Loaded swbv5a.align\n",
            "Loaded sbbn8p.align\n",
            "Loaded brwg9a.align\n",
            "Loaded brim1a.align\n",
            "Loaded bril8n.align\n",
            "Loaded pgbk8p.align\n",
            "Loaded lbaq7a.align\n",
            "Loaded lwbs2p.align\n",
            "Loaded lwar6n.align\n",
            "Loaded sgbp4n.align\n",
            "Loaded prwx9a.align\n",
            "Loaded bgbn9s.align\n",
            "Loaded lbbr1a.align\n",
            "Loaded srbb6p.align\n",
            "Loaded sgwx3s.align\n",
            "Loaded pbbp3s.align\n",
            "Loaded srau2n.align\n",
            "Loaded pgwy8n.align\n",
            "Loaded pbiu9s.align\n",
            "Loaded brbm9a.align\n",
            "Loaded sgwdzn.align\n",
            "Loaded srbb5s.align\n",
            "Loaded bbaf2n.align\n",
            "Loaded bwim6p.align\n",
            "Loaded bbas3a.align\n",
            "Loaded sgap2p.align\n",
            "Loaded swib5a.align\n",
            "Loaded sbaa6p.align\n",
            "Loaded pgad8n.align\n",
            "Loaded prap7a.align\n",
            "Loaded lwaz2p.align\n",
            "Loaded lwbl9a.align\n",
            "Loaded prip1s.align\n",
            "Loaded sgbp5s.align\n",
            "Loaded pgbe4p.align\n",
            "Loaded lgbg1a.align\n",
            "Loaded pbwj3s.align\n",
            "Loaded bbwtzp.align\n",
            "Loaded bwwb1a.align\n",
            "Loaded lgaz6n.align\n",
            "Loaded lwik9s.align\n",
            "Loaded bbaz6p.align\n",
            "Loaded bwba7a.align\n",
            "Loaded pbwj4p.align\n",
            "Loaded srbo5a.align\n",
            "Loaded bgig6n.align\n",
            "Loaded bwbhzp.align\n",
            "Loaded srin6p.align\n",
            "Loaded bbbz8n.align\n",
            "Loaded prwx6n.align\n",
            "Loaded sgbc6n.align\n",
            "Loaded bwbt6n.align\n",
            "Loaded srbi1a.align\n",
            "Loaded sgbp7a.align\n",
            "Loaded bgig8p.align\n",
            "Loaded bbaf4p.align\n",
            "Loaded lbwr5a.align\n",
            "Loaded srwo8p.align\n",
            "Loaded pbwp7s.align\n",
            "Loaded praj2p.align\n",
            "Loaded bgbu3s.align\n",
            "Loaded bbwm6p.align\n",
            "Loaded pbwx2p.align\n",
            "Loaded srwc1a.align\n",
            "Loaded pwaj8p.align\n",
            "Loaded pgwe9a.align\n",
            "Loaded sgic1a.align\n",
            "Loaded prii7s.align\n",
            "Loaded lbid3s.align\n",
            "Loaded lgbm5a.align\n",
            "Loaded lgiz5a.align\n",
            "Loaded pgbe5a.align\n",
            "Loaded lwaz3a.align\n",
            "Loaded pgaq9a.align\n",
            "Loaded lrwz3s.align\n",
            "Loaded lbayzp.align\n",
            "Loaded pbwdzp.align\n",
            "Loaded lrwr9s.align\n",
            "Loaded bbbm2p.align\n",
            "Loaded prbx5a.align\n",
            "Loaded bwwuzn.align\n",
            "Loaded pbbp2n.align\n",
            "Loaded bbir7s.align\n",
            "Loaded lwik8n.align\n",
            "Loaded bwit1a.align\n",
            "Loaded pbbc5s.align\n",
            "Loaded pgix9a.align\n",
            "Loaded swbv4p.align\n",
            "Loaded bbaz4n.align\n",
            "Loaded priv5s.align\n",
            "Loaded srao1a.align\n"
          ]
        }
      ],
      "source": [
        "# path_2 = \"./drive/MyDrive/Project/Lip_reading/raw_data/alignments/s1\"\n",
        "path_2 = \"../raw_data/alignments/s1\"\n",
        "\n",
        "\n",
        "alignments = []\n",
        "\n",
        "for file in os.listdir(path_2):\n",
        "  alignment = load_alignments(os.path.join(path_2, file))\n",
        "  alignments.append(alignment)\n",
        "  print(f\"Loaded {file}\")"
      ]
    },
    {
      "cell_type": "code",
      "execution_count": null,
      "id": "DD-OxgsmoGfa",
      "metadata": {
        "colab": {
          "base_uri": "https://localhost:8080/"
        },
        "id": "DD-OxgsmoGfa",
        "outputId": "e64b20b2-0ba2-4271-a7bb-7f4c08576662"
      },
      "outputs": [
        {
          "name": "stdout",
          "output_type": "stream",
          "text": [
            "Longest alignment length: 31\n"
          ]
        }
      ],
      "source": [
        "max_len = max([tf.shape(tensor)[0].numpy() for tensor in alignments])\n",
        "print(\"Longest alignment length:\", max_len)"
      ]
    },
    {
      "cell_type": "code",
      "execution_count": null,
      "id": "X4yy5tJXudC0",
      "metadata": {
        "colab": {
          "base_uri": "https://localhost:8080/",
          "height": 35
        },
        "id": "X4yy5tJXudC0",
        "outputId": "6a660049-0749-4245-805a-fc8d88e4882e"
      },
      "outputs": [
        {
          "data": {
            "text/plain": [
              "'./drive/MyDrive/Project/Lip_reading/raw_data/alignments/s1'"
            ]
          },
          "execution_count": 39,
          "metadata": {},
          "output_type": "execute_result"
        }
      ],
      "source": [
        "tf.convert_to_tensor(path).numpy().decode('utf-8')"
      ]
    },
    {
      "cell_type": "markdown",
      "id": "fP9GgYzkYhEc",
      "metadata": {
        "id": "fP9GgYzkYhEc"
      },
      "source": [
        "## Load Data Function"
      ]
    },
    {
      "cell_type": "code",
      "execution_count": 23,
      "id": "AKak79fwYkDO",
      "metadata": {
        "id": "AKak79fwYkDO"
      },
      "outputs": [],
      "source": [
        "def load_data(path: tf.Tensor):\n",
        "  '''\n",
        "  Take a path as a tensor, load the video and corresponding alignments,\n",
        "  and return two tensors, one for the processed frames,\n",
        "  one for the encoded tokens.\n",
        "  '''\n",
        "  # Convert the path back into a string\n",
        "  path = bytes.decode(path.numpy())\n",
        "\n",
        "  # Get file name from path\n",
        "  file_name = path.split('/')[-1].split('.')[0]\n",
        "\n",
        "  # Get path from file name\n",
        "  # video_path = os.path.join('../raw_data/videos/s1',f'{file_name}.mpg')\n",
        "  # alignment_path = os.path.join('../raw_data/alignments/s1',f'{file_name}.align')\n",
        "\n",
        "   # Get path from file name\n",
        "  video_path = os.path.join('./drive/MyDrive/Project/Lip_reading/raw_data//videos/s1',f'{file_name}.mpg')\n",
        "  alignment_path = os.path.join('./drive/MyDrive/Project/Lip_reading/raw_data//alignments/s1',f'{file_name}.align')\n",
        "\n",
        "  # Load data\n",
        "  frames = load_video(video_path)\n",
        "  alignments = load_alignments(alignment_path)\n",
        "\n",
        "  return frames, alignments"
      ]
    },
    {
      "cell_type": "markdown",
      "id": "q5-QaFwyeD-y",
      "metadata": {
        "id": "q5-QaFwyeD-y"
      },
      "source": [
        "### Load Test"
      ]
    },
    {
      "cell_type": "code",
      "execution_count": 25,
      "id": "E9AS5g17bXx_",
      "metadata": {
        "id": "E9AS5g17bXx_"
      },
      "outputs": [],
      "source": [
        "path_3 = \"./drive/MyDrive/Project/Lip_reading/raw_data/videos/s1/bbaf2n.mpg\"\n",
        "path_3 = tf.convert_to_tensor(path_3)\n",
        "f, a = load_data(path_3)"
      ]
    },
    {
      "cell_type": "code",
      "execution_count": 26,
      "id": "3p2VgxV-zIy5",
      "metadata": {
        "colab": {
          "base_uri": "https://localhost:8080/",
          "height": 244
        },
        "id": "3p2VgxV-zIy5",
        "outputId": "7c8506cb-cf64-4c11-da7b-1b88ffc6b2f7"
      },
      "outputs": [
        {
          "output_type": "execute_result",
          "data": {
            "text/plain": [
              "<matplotlib.image.AxesImage at 0x7d211f243a90>"
            ]
          },
          "metadata": {},
          "execution_count": 26
        },
        {
          "output_type": "display_data",
          "data": {
            "text/plain": [
              "<Figure size 640x480 with 1 Axes>"
            ],
            "image/png": "[encoded data removed]"
          },
          "metadata": {}
        }
      ],
      "source": [
        "plt.imshow(f[0])"
      ]
    },
    {
      "cell_type": "code",
      "execution_count": 27,
      "id": "xIzEyjV0cwaB",
      "metadata": {
        "colab": {
          "base_uri": "https://localhost:8080/"
        },
        "id": "xIzEyjV0cwaB",
        "outputId": "f57bf5d0-0a0f-440f-ce17-02d11568cb94"
      },
      "outputs": [
        {
          "output_type": "execute_result",
          "data": {
            "text/plain": [
              "<tf.Tensor: shape=(21,), dtype=int64, numpy=\n",
              "array([ 2,  9, 14, 39,  2, 12, 21,  5, 39,  1, 20, 39,  6, 39, 20, 23, 15,\n",
              "       39, 14, 15, 23])>"
            ]
          },
          "metadata": {},
          "execution_count": 27
        }
      ],
      "source": [
        "a"
      ]
    },
    {
      "cell_type": "code",
      "execution_count": 35,
      "id": "ffdbe21d",
      "metadata": {
        "id": "ffdbe21d"
      },
      "outputs": [],
      "source": [
        "def map_function(path):\n",
        "    result = tf.py_function(load_data, [path], (tf.float32, tf.int64))\n",
        "    return result"
      ]
    },
    {
      "cell_type": "markdown",
      "id": "pUVS5Mh1eF6Z",
      "metadata": {
        "id": "pUVS5Mh1eF6Z"
      },
      "source": [
        "# Pipeline"
      ]
    },
    {
      "cell_type": "code",
      "execution_count": 56,
      "id": "-LPgFgNSeVUu",
      "metadata": {
        "id": "-LPgFgNSeVUu"
      },
      "outputs": [],
      "source": [
        "data = tf.data.Dataset.list_files(\n",
        "    './drive/MyDrive/Project/Lip_reading/raw_data/videos/s1/*.mpg'\n",
        "    # '../raw_data/videos/s1/*.mpg'\n",
        ")\n",
        "data = data.shuffle(500, reshuffle_each_iteration=False)\n",
        "data = data.map(map_function)\n",
        "data = data.padded_batch(2, padded_shapes=([75, None, None, None], [40]))\n",
        "data = data.prefetch(tf.data.AUTOTUNE)\n",
        "# Train Test Split\n",
        "train = data.take(450)\n",
        "test = data.skip(450)"
      ]
    },
    {
      "cell_type": "code",
      "source": [
        "len(train), len(test)"
      ],
      "metadata": {
        "id": "QTgZAI4SU-jn",
        "outputId": "5f54546f-0549-4ed4-db3c-73c692fff7da",
        "colab": {
          "base_uri": "https://localhost:8080/"
        }
      },
      "id": "QTgZAI4SU-jn",
      "execution_count": 57,
      "outputs": [
        {
          "output_type": "execute_result",
          "data": {
            "text/plain": [
              "(450, 50)"
            ]
          },
          "metadata": {},
          "execution_count": 57
        }
      ]
    },
    {
      "cell_type": "code",
      "source": [
        "frames, alignments = data.as_numpy_iterator().next()"
      ],
      "metadata": {
        "id": "dy1Pz8OEVM5_"
      },
      "id": "dy1Pz8OEVM5_",
      "execution_count": 58,
      "outputs": []
    },
    {
      "cell_type": "code",
      "source": [
        "frames.shape"
      ],
      "metadata": {
        "id": "pGrdHfSWVPNG",
        "outputId": "6ffc4517-e1f9-4e9b-d858-698139b59026",
        "colab": {
          "base_uri": "https://localhost:8080/"
        }
      },
      "id": "pGrdHfSWVPNG",
      "execution_count": 59,
      "outputs": [
        {
          "output_type": "execute_result",
          "data": {
            "text/plain": [
              "(2, 75, 46, 140, 1)"
            ]
          },
          "metadata": {},
          "execution_count": 59
        }
      ]
    },
    {
      "cell_type": "markdown",
      "source": [
        "# DNN"
      ],
      "metadata": {
        "id": "X6dgFWpuVmMK"
      },
      "id": "X6dgFWpuVmMK"
    },
    {
      "cell_type": "code",
      "source": [
        "# Initialize\n",
        "model = Sequential()\n",
        "model.add(Conv3D(128, 3, input_shape=(75,46,140,1), padding='same'))\n",
        "model.add(Activation('relu'))\n",
        "model.add(MaxPool3D((1,2,2)))\n",
        "\n",
        "model.add(Conv3D(256, 3, padding='same'))\n",
        "model.add(Activation('relu'))\n",
        "model.add(MaxPool3D((1,2,2)))\n",
        "\n",
        "model.add(Conv3D(75, 3, padding='same'))\n",
        "model.add(Activation('relu'))\n",
        "model.add(MaxPool3D((1,2,2)))\n",
        "\n",
        "model.add(TimeDistributed(Flatten()))\n",
        "\n",
        "model.add(Bidirectional(LSTM(128, kernel_initializer='Orthogonal', return_sequences=True)))\n",
        "model.add(Dropout(.5))\n",
        "\n",
        "model.add(Bidirectional(LSTM(128, kernel_initializer='Orthogonal', return_sequences=True)))\n",
        "model.add(Dropout(.5))\n",
        "\n",
        "model.add(Dense(char_to_num.vocabulary_size()+1, kernel_initializer='he_normal', activation='softmax'))"
      ],
      "metadata": {
        "id": "dncV1tO6VctB",
        "outputId": "3caf436f-0854-4653-84c5-b436a5e22041",
        "colab": {
          "base_uri": "https://localhost:8080/"
        }
      },
      "id": "dncV1tO6VctB",
      "execution_count": 60,
      "outputs": [
        {
          "output_type": "stream",
          "name": "stderr",
          "text": [
            "/usr/local/lib/python3.11/dist-packages/keras/src/layers/convolutional/base_conv.py:107: UserWarning: Do not pass an `input_shape`/`input_dim` argument to a layer. When using Sequential models, prefer using an `Input(shape)` object as the first layer in the model instead.\n",
            "  super().__init__(activity_regularizer=activity_regularizer, **kwargs)\n"
          ]
        }
      ]
    },
    {
      "cell_type": "code",
      "source": [
        "model.summary()"
      ],
      "metadata": {
        "id": "ljXuF1B3WT9c",
        "outputId": "9676720a-9be7-4d1e-bdca-37d927ab3ae0",
        "colab": {
          "base_uri": "https://localhost:8080/",
          "height": 765
        }
      },
      "id": "ljXuF1B3WT9c",
      "execution_count": 61,
      "outputs": [
        {
          "output_type": "display_data",
          "data": {
            "text/plain": [
              "\u001b[1mModel: \"sequential\"\u001b[0m\n"
            ],
            "text/html": [
              "<pre style=\"white-space:pre;overflow-x:auto;line-height:normal;font-family:Menlo,'DejaVu Sans Mono',consolas,'Courier New',monospace\"><span style=\"font-weight: bold\">Model: \"sequential\"</span>\n",
              "</pre>\n"
            ]
          },
          "metadata": {}
        },
        {
          "output_type": "display_data",
          "data": {
            "text/plain": [
              "┏━━━━━━━━━━━━━━━━━━━━━━━━━━━━━━━━━┳━━━━━━━━━━━━━━━━━━━━━━━━┳━━━━━━━━━━━━━━━┓\n",
              "┃\u001b[1m \u001b[0m\u001b[1mLayer (type)                   \u001b[0m\u001b[1m \u001b[0m┃\u001b[1m \u001b[0m\u001b[1mOutput Shape          \u001b[0m\u001b[1m \u001b[0m┃\u001b[1m \u001b[0m\u001b[1m      Param #\u001b[0m\u001b[1m \u001b[0m┃\n",
              "┡━━━━━━━━━━━━━━━━━━━━━━━━━━━━━━━━━╇━━━━━━━━━━━━━━━━━━━━━━━━╇━━━━━━━━━━━━━━━┩\n",
              "│ conv3d (\u001b[38;5;33mConv3D\u001b[0m)                 │ (\u001b[38;5;45mNone\u001b[0m, \u001b[38;5;34m75\u001b[0m, \u001b[38;5;34m46\u001b[0m, \u001b[38;5;34m140\u001b[0m,    │         \u001b[38;5;34m3,584\u001b[0m │\n",
              "│                                 │ \u001b[38;5;34m128\u001b[0m)                   │               │\n",
              "├─────────────────────────────────┼────────────────────────┼───────────────┤\n",
              "│ activation (\u001b[38;5;33mActivation\u001b[0m)         │ (\u001b[38;5;45mNone\u001b[0m, \u001b[38;5;34m75\u001b[0m, \u001b[38;5;34m46\u001b[0m, \u001b[38;5;34m140\u001b[0m,    │             \u001b[38;5;34m0\u001b[0m │\n",
              "│                                 │ \u001b[38;5;34m128\u001b[0m)                   │               │\n",
              "├─────────────────────────────────┼────────────────────────┼───────────────┤\n",
              "│ max_pooling3d (\u001b[38;5;33mMaxPooling3D\u001b[0m)    │ (\u001b[38;5;45mNone\u001b[0m, \u001b[38;5;34m75\u001b[0m, \u001b[38;5;34m23\u001b[0m, \u001b[38;5;34m70\u001b[0m,     │             \u001b[38;5;34m0\u001b[0m │\n",
              "│                                 │ \u001b[38;5;34m128\u001b[0m)                   │               │\n",
              "├─────────────────────────────────┼────────────────────────┼───────────────┤\n",
              "│ conv3d_1 (\u001b[38;5;33mConv3D\u001b[0m)               │ (\u001b[38;5;45mNone\u001b[0m, \u001b[38;5;34m75\u001b[0m, \u001b[38;5;34m23\u001b[0m, \u001b[38;5;34m70\u001b[0m,     │       \u001b[38;5;34m884,992\u001b[0m │\n",
              "│                                 │ \u001b[38;5;34m256\u001b[0m)                   │               │\n",
              "├─────────────────────────────────┼────────────────────────┼───────────────┤\n",
              "│ activation_1 (\u001b[38;5;33mActivation\u001b[0m)       │ (\u001b[38;5;45mNone\u001b[0m, \u001b[38;5;34m75\u001b[0m, \u001b[38;5;34m23\u001b[0m, \u001b[38;5;34m70\u001b[0m,     │             \u001b[38;5;34m0\u001b[0m │\n",
              "│                                 │ \u001b[38;5;34m256\u001b[0m)                   │               │\n",
              "├─────────────────────────────────┼────────────────────────┼───────────────┤\n",
              "│ max_pooling3d_1 (\u001b[38;5;33mMaxPooling3D\u001b[0m)  │ (\u001b[38;5;45mNone\u001b[0m, \u001b[38;5;34m75\u001b[0m, \u001b[38;5;34m11\u001b[0m, \u001b[38;5;34m35\u001b[0m,     │             \u001b[38;5;34m0\u001b[0m │\n",
              "│                                 │ \u001b[38;5;34m256\u001b[0m)                   │               │\n",
              "├─────────────────────────────────┼────────────────────────┼───────────────┤\n",
              "│ conv3d_2 (\u001b[38;5;33mConv3D\u001b[0m)               │ (\u001b[38;5;45mNone\u001b[0m, \u001b[38;5;34m75\u001b[0m, \u001b[38;5;34m11\u001b[0m, \u001b[38;5;34m35\u001b[0m, \u001b[38;5;34m75\u001b[0m) │       \u001b[38;5;34m518,475\u001b[0m │\n",
              "├─────────────────────────────────┼────────────────────────┼───────────────┤\n",
              "│ activation_2 (\u001b[38;5;33mActivation\u001b[0m)       │ (\u001b[38;5;45mNone\u001b[0m, \u001b[38;5;34m75\u001b[0m, \u001b[38;5;34m11\u001b[0m, \u001b[38;5;34m35\u001b[0m, \u001b[38;5;34m75\u001b[0m) │             \u001b[38;5;34m0\u001b[0m │\n",
              "├─────────────────────────────────┼────────────────────────┼───────────────┤\n",
              "│ max_pooling3d_2 (\u001b[38;5;33mMaxPooling3D\u001b[0m)  │ (\u001b[38;5;45mNone\u001b[0m, \u001b[38;5;34m75\u001b[0m, \u001b[38;5;34m5\u001b[0m, \u001b[38;5;34m17\u001b[0m, \u001b[38;5;34m75\u001b[0m)  │             \u001b[38;5;34m0\u001b[0m │\n",
              "├─────────────────────────────────┼────────────────────────┼───────────────┤\n",
              "│ time_distributed                │ (\u001b[38;5;45mNone\u001b[0m, \u001b[38;5;34m75\u001b[0m, \u001b[38;5;34m6375\u001b[0m)       │             \u001b[38;5;34m0\u001b[0m │\n",
              "│ (\u001b[38;5;33mTimeDistributed\u001b[0m)               │                        │               │\n",
              "├─────────────────────────────────┼────────────────────────┼───────────────┤\n",
              "│ bidirectional (\u001b[38;5;33mBidirectional\u001b[0m)   │ (\u001b[38;5;45mNone\u001b[0m, \u001b[38;5;34m75\u001b[0m, \u001b[38;5;34m256\u001b[0m)        │     \u001b[38;5;34m6,660,096\u001b[0m │\n",
              "├─────────────────────────────────┼────────────────────────┼───────────────┤\n",
              "│ dropout (\u001b[38;5;33mDropout\u001b[0m)               │ (\u001b[38;5;45mNone\u001b[0m, \u001b[38;5;34m75\u001b[0m, \u001b[38;5;34m256\u001b[0m)        │             \u001b[38;5;34m0\u001b[0m │\n",
              "├─────────────────────────────────┼────────────────────────┼───────────────┤\n",
              "│ bidirectional_1 (\u001b[38;5;33mBidirectional\u001b[0m) │ (\u001b[38;5;45mNone\u001b[0m, \u001b[38;5;34m75\u001b[0m, \u001b[38;5;34m256\u001b[0m)        │       \u001b[38;5;34m394,240\u001b[0m │\n",
              "├─────────────────────────────────┼────────────────────────┼───────────────┤\n",
              "│ dropout_1 (\u001b[38;5;33mDropout\u001b[0m)             │ (\u001b[38;5;45mNone\u001b[0m, \u001b[38;5;34m75\u001b[0m, \u001b[38;5;34m256\u001b[0m)        │             \u001b[38;5;34m0\u001b[0m │\n",
              "├─────────────────────────────────┼────────────────────────┼───────────────┤\n",
              "│ dense (\u001b[38;5;33mDense\u001b[0m)                   │ (\u001b[38;5;45mNone\u001b[0m, \u001b[38;5;34m75\u001b[0m, \u001b[38;5;34m41\u001b[0m)         │        \u001b[38;5;34m10,537\u001b[0m │\n",
              "└─────────────────────────────────┴────────────────────────┴───────────────┘\n"
            ],
            "text/html": [
              "<pre style=\"white-space:pre;overflow-x:auto;line-height:normal;font-family:Menlo,'DejaVu Sans Mono',consolas,'Courier New',monospace\">┏━━━━━━━━━━━━━━━━━━━━━━━━━━━━━━━━━┳━━━━━━━━━━━━━━━━━━━━━━━━┳━━━━━━━━━━━━━━━┓\n",
              "┃<span style=\"font-weight: bold\"> Layer (type)                    </span>┃<span style=\"font-weight: bold\"> Output Shape           </span>┃<span style=\"font-weight: bold\">       Param # </span>┃\n",
              "┡━━━━━━━━━━━━━━━━━━━━━━━━━━━━━━━━━╇━━━━━━━━━━━━━━━━━━━━━━━━╇━━━━━━━━━━━━━━━┩\n",
              "│ conv3d (<span style=\"color: #0087ff; text-decoration-color: #0087ff\">Conv3D</span>)                 │ (<span style=\"color: #00d7ff; text-decoration-color: #00d7ff\">None</span>, <span style=\"color: #00af00; text-decoration-color: #00af00\">75</span>, <span style=\"color: #00af00; text-decoration-color: #00af00\">46</span>, <span style=\"color: #00af00; text-decoration-color: #00af00\">140</span>,    │         <span style=\"color: #00af00; text-decoration-color: #00af00\">3,584</span> │\n",
              "│                                 │ <span style=\"color: #00af00; text-decoration-color: #00af00\">128</span>)                   │               │\n",
              "├─────────────────────────────────┼────────────────────────┼───────────────┤\n",
              "│ activation (<span style=\"color: #0087ff; text-decoration-color: #0087ff\">Activation</span>)         │ (<span style=\"color: #00d7ff; text-decoration-color: #00d7ff\">None</span>, <span style=\"color: #00af00; text-decoration-color: #00af00\">75</span>, <span style=\"color: #00af00; text-decoration-color: #00af00\">46</span>, <span style=\"color: #00af00; text-decoration-color: #00af00\">140</span>,    │             <span style=\"color: #00af00; text-decoration-color: #00af00\">0</span> │\n",
              "│                                 │ <span style=\"color: #00af00; text-decoration-color: #00af00\">128</span>)                   │               │\n",
              "├─────────────────────────────────┼────────────────────────┼───────────────┤\n",
              "│ max_pooling3d (<span style=\"color: #0087ff; text-decoration-color: #0087ff\">MaxPooling3D</span>)    │ (<span style=\"color: #00d7ff; text-decoration-color: #00d7ff\">None</span>, <span style=\"color: #00af00; text-decoration-color: #00af00\">75</span>, <span style=\"color: #00af00; text-decoration-color: #00af00\">23</span>, <span style=\"color: #00af00; text-decoration-color: #00af00\">70</span>,     │             <span style=\"color: #00af00; text-decoration-color: #00af00\">0</span> │\n",
              "│                                 │ <span style=\"color: #00af00; text-decoration-color: #00af00\">128</span>)                   │               │\n",
              "├─────────────────────────────────┼────────────────────────┼───────────────┤\n",
              "│ conv3d_1 (<span style=\"color: #0087ff; text-decoration-color: #0087ff\">Conv3D</span>)               │ (<span style=\"color: #00d7ff; text-decoration-color: #00d7ff\">None</span>, <span style=\"color: #00af00; text-decoration-color: #00af00\">75</span>, <span style=\"color: #00af00; text-decoration-color: #00af00\">23</span>, <span style=\"color: #00af00; text-decoration-color: #00af00\">70</span>,     │       <span style=\"color: #00af00; text-decoration-color: #00af00\">884,992</span> │\n",
              "│                                 │ <span style=\"color: #00af00; text-decoration-color: #00af00\">256</span>)                   │               │\n",
              "├─────────────────────────────────┼────────────────────────┼───────────────┤\n",
              "│ activation_1 (<span style=\"color: #0087ff; text-decoration-color: #0087ff\">Activation</span>)       │ (<span style=\"color: #00d7ff; text-decoration-color: #00d7ff\">None</span>, <span style=\"color: #00af00; text-decoration-color: #00af00\">75</span>, <span style=\"color: #00af00; text-decoration-color: #00af00\">23</span>, <span style=\"color: #00af00; text-decoration-color: #00af00\">70</span>,     │             <span style=\"color: #00af00; text-decoration-color: #00af00\">0</span> │\n",
              "│                                 │ <span style=\"color: #00af00; text-decoration-color: #00af00\">256</span>)                   │               │\n",
              "├─────────────────────────────────┼────────────────────────┼───────────────┤\n",
              "│ max_pooling3d_1 (<span style=\"color: #0087ff; text-decoration-color: #0087ff\">MaxPooling3D</span>)  │ (<span style=\"color: #00d7ff; text-decoration-color: #00d7ff\">None</span>, <span style=\"color: #00af00; text-decoration-color: #00af00\">75</span>, <span style=\"color: #00af00; text-decoration-color: #00af00\">11</span>, <span style=\"color: #00af00; text-decoration-color: #00af00\">35</span>,     │             <span style=\"color: #00af00; text-decoration-color: #00af00\">0</span> │\n",
              "│                                 │ <span style=\"color: #00af00; text-decoration-color: #00af00\">256</span>)                   │               │\n",
              "├─────────────────────────────────┼────────────────────────┼───────────────┤\n",
              "│ conv3d_2 (<span style=\"color: #0087ff; text-decoration-color: #0087ff\">Conv3D</span>)               │ (<span style=\"color: #00d7ff; text-decoration-color: #00d7ff\">None</span>, <span style=\"color: #00af00; text-decoration-color: #00af00\">75</span>, <span style=\"color: #00af00; text-decoration-color: #00af00\">11</span>, <span style=\"color: #00af00; text-decoration-color: #00af00\">35</span>, <span style=\"color: #00af00; text-decoration-color: #00af00\">75</span>) │       <span style=\"color: #00af00; text-decoration-color: #00af00\">518,475</span> │\n",
              "├─────────────────────────────────┼────────────────────────┼───────────────┤\n",
              "│ activation_2 (<span style=\"color: #0087ff; text-decoration-color: #0087ff\">Activation</span>)       │ (<span style=\"color: #00d7ff; text-decoration-color: #00d7ff\">None</span>, <span style=\"color: #00af00; text-decoration-color: #00af00\">75</span>, <span style=\"color: #00af00; text-decoration-color: #00af00\">11</span>, <span style=\"color: #00af00; text-decoration-color: #00af00\">35</span>, <span style=\"color: #00af00; text-decoration-color: #00af00\">75</span>) │             <span style=\"color: #00af00; text-decoration-color: #00af00\">0</span> │\n",
              "├─────────────────────────────────┼────────────────────────┼───────────────┤\n",
              "│ max_pooling3d_2 (<span style=\"color: #0087ff; text-decoration-color: #0087ff\">MaxPooling3D</span>)  │ (<span style=\"color: #00d7ff; text-decoration-color: #00d7ff\">None</span>, <span style=\"color: #00af00; text-decoration-color: #00af00\">75</span>, <span style=\"color: #00af00; text-decoration-color: #00af00\">5</span>, <span style=\"color: #00af00; text-decoration-color: #00af00\">17</span>, <span style=\"color: #00af00; text-decoration-color: #00af00\">75</span>)  │             <span style=\"color: #00af00; text-decoration-color: #00af00\">0</span> │\n",
              "├─────────────────────────────────┼────────────────────────┼───────────────┤\n",
              "│ time_distributed                │ (<span style=\"color: #00d7ff; text-decoration-color: #00d7ff\">None</span>, <span style=\"color: #00af00; text-decoration-color: #00af00\">75</span>, <span style=\"color: #00af00; text-decoration-color: #00af00\">6375</span>)       │             <span style=\"color: #00af00; text-decoration-color: #00af00\">0</span> │\n",
              "│ (<span style=\"color: #0087ff; text-decoration-color: #0087ff\">TimeDistributed</span>)               │                        │               │\n",
              "├─────────────────────────────────┼────────────────────────┼───────────────┤\n",
              "│ bidirectional (<span style=\"color: #0087ff; text-decoration-color: #0087ff\">Bidirectional</span>)   │ (<span style=\"color: #00d7ff; text-decoration-color: #00d7ff\">None</span>, <span style=\"color: #00af00; text-decoration-color: #00af00\">75</span>, <span style=\"color: #00af00; text-decoration-color: #00af00\">256</span>)        │     <span style=\"color: #00af00; text-decoration-color: #00af00\">6,660,096</span> │\n",
              "├─────────────────────────────────┼────────────────────────┼───────────────┤\n",
              "│ dropout (<span style=\"color: #0087ff; text-decoration-color: #0087ff\">Dropout</span>)               │ (<span style=\"color: #00d7ff; text-decoration-color: #00d7ff\">None</span>, <span style=\"color: #00af00; text-decoration-color: #00af00\">75</span>, <span style=\"color: #00af00; text-decoration-color: #00af00\">256</span>)        │             <span style=\"color: #00af00; text-decoration-color: #00af00\">0</span> │\n",
              "├─────────────────────────────────┼────────────────────────┼───────────────┤\n",
              "│ bidirectional_1 (<span style=\"color: #0087ff; text-decoration-color: #0087ff\">Bidirectional</span>) │ (<span style=\"color: #00d7ff; text-decoration-color: #00d7ff\">None</span>, <span style=\"color: #00af00; text-decoration-color: #00af00\">75</span>, <span style=\"color: #00af00; text-decoration-color: #00af00\">256</span>)        │       <span style=\"color: #00af00; text-decoration-color: #00af00\">394,240</span> │\n",
              "├─────────────────────────────────┼────────────────────────┼───────────────┤\n",
              "│ dropout_1 (<span style=\"color: #0087ff; text-decoration-color: #0087ff\">Dropout</span>)             │ (<span style=\"color: #00d7ff; text-decoration-color: #00d7ff\">None</span>, <span style=\"color: #00af00; text-decoration-color: #00af00\">75</span>, <span style=\"color: #00af00; text-decoration-color: #00af00\">256</span>)        │             <span style=\"color: #00af00; text-decoration-color: #00af00\">0</span> │\n",
              "├─────────────────────────────────┼────────────────────────┼───────────────┤\n",
              "│ dense (<span style=\"color: #0087ff; text-decoration-color: #0087ff\">Dense</span>)                   │ (<span style=\"color: #00d7ff; text-decoration-color: #00d7ff\">None</span>, <span style=\"color: #00af00; text-decoration-color: #00af00\">75</span>, <span style=\"color: #00af00; text-decoration-color: #00af00\">41</span>)         │        <span style=\"color: #00af00; text-decoration-color: #00af00\">10,537</span> │\n",
              "└─────────────────────────────────┴────────────────────────┴───────────────┘\n",
              "</pre>\n"
            ]
          },
          "metadata": {}
        },
        {
          "output_type": "display_data",
          "data": {
            "text/plain": [
              "\u001b[1m Total params: \u001b[0m\u001b[38;5;34m8,471,924\u001b[0m (32.32 MB)\n"
            ],
            "text/html": [
              "<pre style=\"white-space:pre;overflow-x:auto;line-height:normal;font-family:Menlo,'DejaVu Sans Mono',consolas,'Courier New',monospace\"><span style=\"font-weight: bold\"> Total params: </span><span style=\"color: #00af00; text-decoration-color: #00af00\">8,471,924</span> (32.32 MB)\n",
              "</pre>\n"
            ]
          },
          "metadata": {}
        },
        {
          "output_type": "display_data",
          "data": {
            "text/plain": [
              "\u001b[1m Trainable params: \u001b[0m\u001b[38;5;34m8,471,924\u001b[0m (32.32 MB)\n"
            ],
            "text/html": [
              "<pre style=\"white-space:pre;overflow-x:auto;line-height:normal;font-family:Menlo,'DejaVu Sans Mono',consolas,'Courier New',monospace\"><span style=\"font-weight: bold\"> Trainable params: </span><span style=\"color: #00af00; text-decoration-color: #00af00\">8,471,924</span> (32.32 MB)\n",
              "</pre>\n"
            ]
          },
          "metadata": {}
        },
        {
          "output_type": "display_data",
          "data": {
            "text/plain": [
              "\u001b[1m Non-trainable params: \u001b[0m\u001b[38;5;34m0\u001b[0m (0.00 B)\n"
            ],
            "text/html": [
              "<pre style=\"white-space:pre;overflow-x:auto;line-height:normal;font-family:Menlo,'DejaVu Sans Mono',consolas,'Courier New',monospace\"><span style=\"font-weight: bold\"> Non-trainable params: </span><span style=\"color: #00af00; text-decoration-color: #00af00\">0</span> (0.00 B)\n",
              "</pre>\n"
            ]
          },
          "metadata": {}
        }
      ]
    },
    {
      "cell_type": "code",
      "source": [
        "model.input_shape"
      ],
      "metadata": {
        "id": "BU_x8QaZZgzm",
        "outputId": "07db231a-40ec-49fd-84e1-cc8ee3782afd",
        "colab": {
          "base_uri": "https://localhost:8080/"
        }
      },
      "id": "BU_x8QaZZgzm",
      "execution_count": 95,
      "outputs": [
        {
          "output_type": "execute_result",
          "data": {
            "text/plain": [
              "(None, 75, 46, 140, 1)"
            ]
          },
          "metadata": {},
          "execution_count": 95
        }
      ]
    },
    {
      "cell_type": "code",
      "source": [
        "model.output_shape"
      ],
      "metadata": {
        "id": "fBSKoUMVZr6p",
        "outputId": "56007553-c53d-46f9-b91c-494aa6bbb02b",
        "colab": {
          "base_uri": "https://localhost:8080/"
        }
      },
      "id": "fBSKoUMVZr6p",
      "execution_count": 96,
      "outputs": [
        {
          "output_type": "execute_result",
          "data": {
            "text/plain": [
              "(None, 75, 41)"
            ]
          },
          "metadata": {},
          "execution_count": 96
        }
      ]
    },
    {
      "cell_type": "markdown",
      "source": [
        "## Baseline"
      ],
      "metadata": {
        "id": "2zChlB5fWx7J"
      },
      "id": "2zChlB5fWx7J"
    },
    {
      "cell_type": "code",
      "source": [
        "sample = data.as_numpy_iterator()\n"
      ],
      "metadata": {
        "id": "wlJazGtJWiQe"
      },
      "id": "wlJazGtJWiQe",
      "execution_count": 75,
      "outputs": []
    },
    {
      "cell_type": "code",
      "source": [
        "# val is a tuple of a batch of 2 videos,\n",
        "# and a batch of the 2 alignments corresponding to those videos\n",
        "# val[0]: videos, val[1]: y_true\n",
        "# val[0][0]: first video, val[1][0]: first y_true\n",
        "val = sample.next(); val[0]\n"
      ],
      "metadata": {
        "collapsed": true,
        "id": "Io7v_TqcW6Ji",
        "outputId": "e0b0dd22-9668-4135-e0cc-b36c857f6825",
        "colab": {
          "base_uri": "https://localhost:8080/"
        }
      },
      "id": "Io7v_TqcW6Ji",
      "execution_count": 88,
      "outputs": [
        {
          "output_type": "execute_result",
          "data": {
            "text/plain": [
              "array([[[[[1.5850086 ],\n",
              "          [1.5850086 ],\n",
              "          [1.5095321 ],\n",
              "          ...,\n",
              "          [0.3019064 ],\n",
              "          [0.2641681 ],\n",
              "          [0.2641681 ]],\n",
              "\n",
              "         [[1.622747  ],\n",
              "          [1.5850086 ],\n",
              "          [1.5095321 ],\n",
              "          ...,\n",
              "          [0.3019064 ],\n",
              "          [0.2641681 ],\n",
              "          [0.2641681 ]],\n",
              "\n",
              "         [[1.4717938 ],\n",
              "          [1.4717938 ],\n",
              "          [1.4717938 ],\n",
              "          ...,\n",
              "          [0.3019064 ],\n",
              "          [0.3019064 ],\n",
              "          [0.3019064 ]],\n",
              "\n",
              "         ...,\n",
              "\n",
              "         [[0.98119587],\n",
              "          [0.98119587],\n",
              "          [0.98119587],\n",
              "          ...,\n",
              "          [0.0377383 ],\n",
              "          [0.        ],\n",
              "          [0.        ]],\n",
              "\n",
              "         [[0.98119587],\n",
              "          [0.98119587],\n",
              "          [1.0189341 ],\n",
              "          ...,\n",
              "          [0.0377383 ],\n",
              "          [0.        ],\n",
              "          [0.        ]],\n",
              "\n",
              "         [[1.0189341 ],\n",
              "          [1.0189341 ],\n",
              "          [1.0189341 ],\n",
              "          ...,\n",
              "          [0.0377383 ],\n",
              "          [0.        ],\n",
              "          [9.623267  ]]],\n",
              "\n",
              "\n",
              "        [[[1.4340554 ],\n",
              "          [1.4340554 ],\n",
              "          [1.4340554 ],\n",
              "          ...,\n",
              "          [0.2264298 ],\n",
              "          [0.2264298 ],\n",
              "          [0.2264298 ]],\n",
              "\n",
              "         [[1.3963171 ],\n",
              "          [1.3963171 ],\n",
              "          [1.4340554 ],\n",
              "          ...,\n",
              "          [0.2264298 ],\n",
              "          [0.2264298 ],\n",
              "          [0.2264298 ]],\n",
              "\n",
              "         [[1.4717938 ],\n",
              "          [1.4717938 ],\n",
              "          [1.3963171 ],\n",
              "          ...,\n",
              "          [0.2641681 ],\n",
              "          [0.2641681 ],\n",
              "          [0.2641681 ]],\n",
              "\n",
              "         ...,\n",
              "\n",
              "         [[1.0189341 ],\n",
              "          [1.0189341 ],\n",
              "          [1.0189341 ],\n",
              "          ...,\n",
              "          [0.0377383 ],\n",
              "          [0.        ],\n",
              "          [0.        ]],\n",
              "\n",
              "         [[1.0189341 ],\n",
              "          [1.0189341 ],\n",
              "          [1.0189341 ],\n",
              "          ...,\n",
              "          [0.0377383 ],\n",
              "          [0.        ],\n",
              "          [9.623267  ]],\n",
              "\n",
              "         [[1.0189341 ],\n",
              "          [0.98119587],\n",
              "          [0.98119587],\n",
              "          ...,\n",
              "          [0.0377383 ],\n",
              "          [9.623267  ],\n",
              "          [9.623267  ]]],\n",
              "\n",
              "\n",
              "        [[[1.4340554 ],\n",
              "          [1.4340554 ],\n",
              "          [1.4340554 ],\n",
              "          ...,\n",
              "          [0.3019064 ],\n",
              "          [0.2641681 ],\n",
              "          [0.2641681 ]],\n",
              "\n",
              "         [[1.3963171 ],\n",
              "          [1.3963171 ],\n",
              "          [1.4340554 ],\n",
              "          ...,\n",
              "          [0.3019064 ],\n",
              "          [0.2641681 ],\n",
              "          [0.2641681 ]],\n",
              "\n",
              "         [[1.4717938 ],\n",
              "          [1.4717938 ],\n",
              "          [1.3963171 ],\n",
              "          ...,\n",
              "          [0.33964473],\n",
              "          [0.3019064 ],\n",
              "          [0.3019064 ]],\n",
              "\n",
              "         ...,\n",
              "\n",
              "         [[1.0189341 ],\n",
              "          [1.0189341 ],\n",
              "          [1.0189341 ],\n",
              "          ...,\n",
              "          [0.0377383 ],\n",
              "          [0.        ],\n",
              "          [0.        ]],\n",
              "\n",
              "         [[1.0189341 ],\n",
              "          [1.0189341 ],\n",
              "          [1.0189341 ],\n",
              "          ...,\n",
              "          [0.0377383 ],\n",
              "          [0.        ],\n",
              "          [9.623267  ]],\n",
              "\n",
              "         [[1.0189341 ],\n",
              "          [0.98119587],\n",
              "          [0.98119587],\n",
              "          ...,\n",
              "          [0.0377383 ],\n",
              "          [9.623267  ],\n",
              "          [9.623267  ]]],\n",
              "\n",
              "\n",
              "        ...,\n",
              "\n",
              "\n",
              "        [[[1.3963171 ],\n",
              "          [1.4717938 ],\n",
              "          [1.5850086 ],\n",
              "          ...,\n",
              "          [0.33964473],\n",
              "          [0.33964473],\n",
              "          [0.33964473]],\n",
              "\n",
              "         [[1.4717938 ],\n",
              "          [1.5472704 ],\n",
              "          [1.4717938 ],\n",
              "          ...,\n",
              "          [0.33964473],\n",
              "          [0.33964473],\n",
              "          [0.33964473]],\n",
              "\n",
              "         [[1.5095321 ],\n",
              "          [1.5095321 ],\n",
              "          [1.4340554 ],\n",
              "          ...,\n",
              "          [0.3019064 ],\n",
              "          [0.33964473],\n",
              "          [0.33964473]],\n",
              "\n",
              "         ...,\n",
              "\n",
              "         [[0.98119587],\n",
              "          [0.98119587],\n",
              "          [0.98119587],\n",
              "          ...,\n",
              "          [0.0377383 ],\n",
              "          [0.0377383 ],\n",
              "          [0.0377383 ]],\n",
              "\n",
              "         [[0.98119587],\n",
              "          [0.98119587],\n",
              "          [0.98119587],\n",
              "          ...,\n",
              "          [0.0377383 ],\n",
              "          [0.0377383 ],\n",
              "          [0.        ]],\n",
              "\n",
              "         [[0.98119587],\n",
              "          [0.98119587],\n",
              "          [0.98119587],\n",
              "          ...,\n",
              "          [0.0377383 ],\n",
              "          [0.        ],\n",
              "          [0.        ]]],\n",
              "\n",
              "\n",
              "        [[[1.4340554 ],\n",
              "          [1.5095321 ],\n",
              "          [1.5472704 ],\n",
              "          ...,\n",
              "          [0.37738302],\n",
              "          [0.37738302],\n",
              "          [0.37738302]],\n",
              "\n",
              "         [[1.5095321 ],\n",
              "          [1.5472704 ],\n",
              "          [1.3585789 ],\n",
              "          ...,\n",
              "          [0.37738302],\n",
              "          [0.37738302],\n",
              "          [0.37738302]],\n",
              "\n",
              "         [[1.5095321 ],\n",
              "          [1.5095321 ],\n",
              "          [1.3963171 ],\n",
              "          ...,\n",
              "          [0.37738302],\n",
              "          [0.37738302],\n",
              "          [0.37738302]],\n",
              "\n",
              "         ...,\n",
              "\n",
              "         [[0.98119587],\n",
              "          [0.98119587],\n",
              "          [0.98119587],\n",
              "          ...,\n",
              "          [0.0377383 ],\n",
              "          [0.0377383 ],\n",
              "          [0.0377383 ]],\n",
              "\n",
              "         [[0.98119587],\n",
              "          [0.98119587],\n",
              "          [0.98119587],\n",
              "          ...,\n",
              "          [0.0377383 ],\n",
              "          [0.0377383 ],\n",
              "          [0.0377383 ]],\n",
              "\n",
              "         [[0.98119587],\n",
              "          [0.98119587],\n",
              "          [0.98119587],\n",
              "          ...,\n",
              "          [0.0377383 ],\n",
              "          [0.0377383 ],\n",
              "          [0.        ]]],\n",
              "\n",
              "\n",
              "        [[[1.3585789 ],\n",
              "          [1.3963171 ],\n",
              "          [1.5095321 ],\n",
              "          ...,\n",
              "          [0.41512132],\n",
              "          [0.37738302],\n",
              "          [0.37738302]],\n",
              "\n",
              "         [[1.3963171 ],\n",
              "          [1.3963171 ],\n",
              "          [1.3208406 ],\n",
              "          ...,\n",
              "          [0.41512132],\n",
              "          [0.37738302],\n",
              "          [0.37738302]],\n",
              "\n",
              "         [[1.3963171 ],\n",
              "          [1.3963171 ],\n",
              "          [1.3208406 ],\n",
              "          ...,\n",
              "          [0.3019064 ],\n",
              "          [0.3019064 ],\n",
              "          [0.2264298 ]],\n",
              "\n",
              "         ...,\n",
              "\n",
              "         [[0.94345754],\n",
              "          [0.94345754],\n",
              "          [0.94345754],\n",
              "          ...,\n",
              "          [0.0377383 ],\n",
              "          [0.0377383 ],\n",
              "          [0.0377383 ]],\n",
              "\n",
              "         [[0.94345754],\n",
              "          [0.94345754],\n",
              "          [0.94345754],\n",
              "          ...,\n",
              "          [0.0377383 ],\n",
              "          [0.0377383 ],\n",
              "          [0.        ]],\n",
              "\n",
              "         [[0.94345754],\n",
              "          [0.94345754],\n",
              "          [0.94345754],\n",
              "          ...,\n",
              "          [0.0377383 ],\n",
              "          [0.        ],\n",
              "          [0.        ]]]],\n",
              "\n",
              "\n",
              "\n",
              "       [[[[1.4293035 ],\n",
              "          [1.4293035 ],\n",
              "          [1.3916903 ],\n",
              "          ...,\n",
              "          [9.4785385 ],\n",
              "          [9.252859  ],\n",
              "          [9.064794  ]],\n",
              "\n",
              "         [[1.4293035 ],\n",
              "          [1.4293035 ],\n",
              "          [1.3916903 ],\n",
              "          ...,\n",
              "          [8.91434   ],\n",
              "          [8.876727  ],\n",
              "          [9.215246  ]],\n",
              "\n",
              "         [[1.2788504 ],\n",
              "          [1.2788504 ],\n",
              "          [1.2788504 ],\n",
              "          ...,\n",
              "          [9.328086  ],\n",
              "          [9.591378  ],\n",
              "          [9.591378  ]],\n",
              "\n",
              "         ...,\n",
              "\n",
              "         [[0.9403312 ],\n",
              "          [0.9403312 ],\n",
              "          [0.902718  ],\n",
              "          ...,\n",
              "          [9.591378  ],\n",
              "          [9.553765  ],\n",
              "          [9.553765  ]],\n",
              "\n",
              "         [[0.9403312 ],\n",
              "          [0.9403312 ],\n",
              "          [0.902718  ],\n",
              "          ...,\n",
              "          [9.516152  ],\n",
              "          [9.553765  ],\n",
              "          [9.553765  ]],\n",
              "\n",
              "         [[0.9403312 ],\n",
              "          [0.9403312 ],\n",
              "          [0.902718  ],\n",
              "          ...,\n",
              "          [9.553765  ],\n",
              "          [9.553765  ],\n",
              "          [9.516152  ]]],\n",
              "\n",
              "\n",
              "        [[[1.3164637 ],\n",
              "          [1.3164637 ],\n",
              "          [1.354077  ],\n",
              "          ...,\n",
              "          [9.553765  ],\n",
              "          [9.140019  ],\n",
              "          [9.140019  ]],\n",
              "\n",
              "         [[1.3164637 ],\n",
              "          [1.3164637 ],\n",
              "          [1.354077  ],\n",
              "          ...,\n",
              "          [8.575821  ],\n",
              "          [9.1024065 ],\n",
              "          [9.252859  ]],\n",
              "\n",
              "         [[1.203624  ],\n",
              "          [1.203624  ],\n",
              "          [1.2412373 ],\n",
              "          ...,\n",
              "          [9.290473  ],\n",
              "          [9.553765  ],\n",
              "          [9.553765  ]],\n",
              "\n",
              "         ...,\n",
              "\n",
              "         [[0.9403312 ],\n",
              "          [0.9403312 ],\n",
              "          [0.902718  ],\n",
              "          ...,\n",
              "          [9.553765  ],\n",
              "          [9.4785385 ],\n",
              "          [9.516152  ]],\n",
              "\n",
              "         [[0.9403312 ],\n",
              "          [0.9403312 ],\n",
              "          [0.902718  ],\n",
              "          ...,\n",
              "          [9.440926  ],\n",
              "          [9.4785385 ],\n",
              "          [9.516152  ]],\n",
              "\n",
              "         [[0.9403312 ],\n",
              "          [0.9403312 ],\n",
              "          [0.902718  ],\n",
              "          ...,\n",
              "          [9.440926  ],\n",
              "          [9.4785385 ],\n",
              "          [9.403313  ]]],\n",
              "\n",
              "\n",
              "        [[[1.3164637 ],\n",
              "          [1.3164637 ],\n",
              "          [1.3164637 ],\n",
              "          ...,\n",
              "          [0.        ],\n",
              "          [9.140019  ],\n",
              "          [9.252859  ]],\n",
              "\n",
              "         [[1.3164637 ],\n",
              "          [1.3164637 ],\n",
              "          [1.3164637 ],\n",
              "          ...,\n",
              "          [8.575821  ],\n",
              "          [9.02718   ],\n",
              "          [9.252859  ]],\n",
              "\n",
              "         [[1.2412373 ],\n",
              "          [1.2412373 ],\n",
              "          [1.2788504 ],\n",
              "          ...,\n",
              "          [9.215246  ],\n",
              "          [9.591378  ],\n",
              "          [9.591378  ]],\n",
              "\n",
              "         ...,\n",
              "\n",
              "         [[0.9403312 ],\n",
              "          [0.9403312 ],\n",
              "          [0.902718  ],\n",
              "          ...,\n",
              "          [9.516152  ],\n",
              "          [9.440926  ],\n",
              "          [9.4785385 ]],\n",
              "\n",
              "         [[0.9403312 ],\n",
              "          [0.9403312 ],\n",
              "          [0.902718  ],\n",
              "          ...,\n",
              "          [9.403313  ],\n",
              "          [9.403313  ],\n",
              "          [9.4785385 ]],\n",
              "\n",
              "         [[0.9403312 ],\n",
              "          [0.9403312 ],\n",
              "          [0.902718  ],\n",
              "          ...,\n",
              "          [9.403313  ],\n",
              "          [9.403313  ],\n",
              "          [9.365699  ]]],\n",
              "\n",
              "\n",
              "        ...,\n",
              "\n",
              "\n",
              "        [[[1.354077  ],\n",
              "          [1.354077  ],\n",
              "          [1.4293035 ],\n",
              "          ...,\n",
              "          [9.064794  ],\n",
              "          [9.252859  ],\n",
              "          [9.290473  ]],\n",
              "\n",
              "         [[1.354077  ],\n",
              "          [1.354077  ],\n",
              "          [1.4293035 ],\n",
              "          ...,\n",
              "          [8.575821  ],\n",
              "          [9.365699  ],\n",
              "          [9.365699  ]],\n",
              "\n",
              "         [[1.3164637 ],\n",
              "          [1.3164637 ],\n",
              "          [1.3164637 ],\n",
              "          ...,\n",
              "          [9.440926  ],\n",
              "          [0.03761325],\n",
              "          [0.03761325]],\n",
              "\n",
              "         ...,\n",
              "\n",
              "         [[0.9403312 ],\n",
              "          [0.902718  ],\n",
              "          [0.902718  ],\n",
              "          ...,\n",
              "          [9.591378  ],\n",
              "          [0.03761325],\n",
              "          [0.        ]],\n",
              "\n",
              "         [[0.9403312 ],\n",
              "          [0.902718  ],\n",
              "          [0.902718  ],\n",
              "          ...,\n",
              "          [9.553765  ],\n",
              "          [0.        ],\n",
              "          [9.591378  ]],\n",
              "\n",
              "         [[0.9403312 ],\n",
              "          [0.902718  ],\n",
              "          [0.902718  ],\n",
              "          ...,\n",
              "          [9.516152  ],\n",
              "          [9.553765  ],\n",
              "          [9.591378  ]]],\n",
              "\n",
              "\n",
              "        [[[1.354077  ],\n",
              "          [1.354077  ],\n",
              "          [1.3916903 ],\n",
              "          ...,\n",
              "          [8.876727  ],\n",
              "          [9.177633  ],\n",
              "          [9.403313  ]],\n",
              "\n",
              "         [[1.354077  ],\n",
              "          [1.354077  ],\n",
              "          [1.3916903 ],\n",
              "          ...,\n",
              "          [8.500594  ],\n",
              "          [9.290473  ],\n",
              "          [9.290473  ]],\n",
              "\n",
              "         [[1.3164637 ],\n",
              "          [1.3164637 ],\n",
              "          [1.3164637 ],\n",
              "          ...,\n",
              "          [9.516152  ],\n",
              "          [0.0752265 ],\n",
              "          [0.0752265 ]],\n",
              "\n",
              "         ...,\n",
              "\n",
              "         [[0.902718  ],\n",
              "          [0.9403312 ],\n",
              "          [0.9403312 ],\n",
              "          ...,\n",
              "          [9.591378  ],\n",
              "          [0.        ],\n",
              "          [0.        ]],\n",
              "\n",
              "         [[0.9403312 ],\n",
              "          [0.9403312 ],\n",
              "          [0.9403312 ],\n",
              "          ...,\n",
              "          [9.591378  ],\n",
              "          [9.591378  ],\n",
              "          [9.591378  ]],\n",
              "\n",
              "         [[0.9403312 ],\n",
              "          [0.9403312 ],\n",
              "          [0.9403312 ],\n",
              "          ...,\n",
              "          [9.553765  ],\n",
              "          [9.516152  ],\n",
              "          [9.591378  ]]],\n",
              "\n",
              "\n",
              "        [[[1.3164637 ],\n",
              "          [1.3164637 ],\n",
              "          [1.3164637 ],\n",
              "          ...,\n",
              "          [8.876727  ],\n",
              "          [9.328086  ],\n",
              "          [9.403313  ]],\n",
              "\n",
              "         [[1.3164637 ],\n",
              "          [1.3164637 ],\n",
              "          [1.3164637 ],\n",
              "          ...,\n",
              "          [8.538208  ],\n",
              "          [9.328086  ],\n",
              "          [9.440926  ]],\n",
              "\n",
              "         [[1.3164637 ],\n",
              "          [1.3164637 ],\n",
              "          [1.3164637 ],\n",
              "          ...,\n",
              "          [9.4785385 ],\n",
              "          [0.0752265 ],\n",
              "          [0.11283975]],\n",
              "\n",
              "         ...,\n",
              "\n",
              "         [[0.9403312 ],\n",
              "          [0.9403312 ],\n",
              "          [0.902718  ],\n",
              "          ...,\n",
              "          [9.553765  ],\n",
              "          [9.553765  ],\n",
              "          [9.553765  ]],\n",
              "\n",
              "         [[0.9403312 ],\n",
              "          [0.9403312 ],\n",
              "          [0.902718  ],\n",
              "          ...,\n",
              "          [9.553765  ],\n",
              "          [9.553765  ],\n",
              "          [9.553765  ]],\n",
              "\n",
              "         [[0.9403312 ],\n",
              "          [0.9403312 ],\n",
              "          [0.902718  ],\n",
              "          ...,\n",
              "          [9.516152  ],\n",
              "          [9.440926  ],\n",
              "          [9.553765  ]]]]], dtype=float32)"
            ]
          },
          "metadata": {},
          "execution_count": 88
        }
      ]
    },
    {
      "cell_type": "code",
      "source": [
        "val[0].shape"
      ],
      "metadata": {
        "id": "aeTbcDhtXip2",
        "outputId": "f3c028ec-3a6c-4198-e862-0ef431fc9c63",
        "colab": {
          "base_uri": "https://localhost:8080/"
        }
      },
      "id": "aeTbcDhtXip2",
      "execution_count": 89,
      "outputs": [
        {
          "output_type": "execute_result",
          "data": {
            "text/plain": [
              "(2, 75, 46, 140, 1)"
            ]
          },
          "metadata": {},
          "execution_count": 89
        }
      ]
    },
    {
      "cell_type": "code",
      "source": [
        "# 0:videos, 0: 1st video out of the batch,  20: return the 20th frame in the video\n",
        "plt.imshow(val[0][0][20])\n"
      ],
      "metadata": {
        "id": "PfeYpRqIXBS2",
        "outputId": "bf619742-a0e7-49a4-e174-9d8e9ec9e68f",
        "colab": {
          "base_uri": "https://localhost:8080/",
          "height": 244
        }
      },
      "id": "PfeYpRqIXBS2",
      "execution_count": 90,
      "outputs": [
        {
          "output_type": "execute_result",
          "data": {
            "text/plain": [
              "<matplotlib.image.AxesImage at 0x7d21093d8450>"
            ]
          },
          "metadata": {},
          "execution_count": 90
        },
        {
          "output_type": "display_data",
          "data": {
            "text/plain": [
              "<Figure size 640x480 with 1 Axes>"
            ],
            "image/png": "[encoded data removed]"
          },
          "metadata": {}
        }
      ]
    },
    {
      "cell_type": "code",
      "source": [
        "# Convert back into string the y_true for the first video\n",
        "tf.strings.reduce_join([num_to_char(word) for word in val[1][0]])\n"
      ],
      "metadata": {
        "id": "qCZReHxVXQdB",
        "outputId": "e015684a-e5c5-4bc3-b18f-d4662ace7f8b",
        "colab": {
          "base_uri": "https://localhost:8080/"
        }
      },
      "id": "qCZReHxVXQdB",
      "execution_count": 91,
      "outputs": [
        {
          "output_type": "execute_result",
          "data": {
            "text/plain": [
              "<tf.Tensor: shape=(), dtype=string, numpy=b'bin blue in e eight now'>"
            ]
          },
          "metadata": {},
          "execution_count": 91
        }
      ]
    },
    {
      "cell_type": "code",
      "source": [
        "yhat = model.predict(val[0])"
      ],
      "metadata": {
        "id": "6CKrSgGUZOiz",
        "outputId": "bf656722-bee7-4ec7-edac-d3b5b363c5b4",
        "colab": {
          "base_uri": "https://localhost:8080/"
        }
      },
      "id": "6CKrSgGUZOiz",
      "execution_count": 92,
      "outputs": [
        {
          "output_type": "stream",
          "name": "stdout",
          "text": [
            "\u001b[1m1/1\u001b[0m \u001b[32m━━━━━━━━━━━━━━━━━━━━\u001b[0m\u001b[37m\u001b[0m \u001b[1m13s\u001b[0m 13s/step\n"
          ]
        }
      ]
    },
    {
      "cell_type": "code",
      "source": [
        "# Displaying the baseline prediction\n",
        "tf.strings.reduce_join([num_to_char(x) for x in tf.argmax(yhat[0],axis=1)])"
      ],
      "metadata": {
        "id": "hczmMi5rZWoF",
        "outputId": "4a97fc44-e1c5-4aa0-e42f-cc685633ab11",
        "colab": {
          "base_uri": "https://localhost:8080/"
        }
      },
      "id": "hczmMi5rZWoF",
      "execution_count": 94,
      "outputs": [
        {
          "output_type": "execute_result",
          "data": {
            "text/plain": [
              "<tf.Tensor: shape=(), dtype=string, numpy=b'2?????????????rrrrrrrrrrrrrrrrrrrsssssrsrrrrrrrrrrrrrrrrrrrrrrrrrrrrrrrrrrr'>"
            ]
          },
          "metadata": {},
          "execution_count": 94
        }
      ]
    },
    {
      "cell_type": "markdown",
      "source": [
        "## Setup Training"
      ],
      "metadata": {
        "id": "VxrDL3ixZ_Fg"
      },
      "id": "VxrDL3ixZ_Fg"
    },
    {
      "cell_type": "code",
      "source": [
        "def CTCLoss(y_true, y_pred):\n",
        "    batch_len = tf.cast(tf.shape(y_true)[0], dtype=\"int64\")\n",
        "    input_length = tf.cast(tf.shape(y_pred)[1], dtype=\"int64\")\n",
        "    label_length = tf.cast(tf.shape(y_true)[1], dtype=\"int64\")\n",
        "\n",
        "    input_length = input_length * tf.ones(shape=(batch_len, 1), dtype=\"int64\")\n",
        "    label_length = label_length * tf.ones(shape=(batch_len, 1), dtype=\"int64\")\n",
        "\n",
        "    loss = tf.keras.backend.ctc_batch_cost(y_true, y_pred, input_length, label_length)\n",
        "    return loss"
      ],
      "metadata": {
        "id": "-mDySLdgZ3Rh"
      },
      "id": "-mDySLdgZ3Rh",
      "execution_count": 98,
      "outputs": []
    },
    {
      "cell_type": "code",
      "source": [
        "class ProduceExample(tf.keras.callbacks.Callback):\n",
        "    def __init__(self, dataset) -> None:\n",
        "        self.dataset = dataset.as_numpy_iterator()\n",
        "\n",
        "    def on_epoch_end(self, epoch, logs=None) -> None:\n",
        "        data = self.dataset.next()\n",
        "        yhat = self.model.predict(data[0])\n",
        "        decoded = tf.keras.backend.ctc_decode(yhat, [75,75], greedy=False)[0][0].numpy()\n",
        "        for x in range(len(yhat)):\n",
        "            print('Original:', tf.strings.reduce_join(num_to_char(data[1][x])).numpy().decode('utf-8'))\n",
        "            print('Prediction:', tf.strings.reduce_join(num_to_char(decoded[x])).numpy().decode('utf-8'))\n",
        "            print('~'*100)"
      ],
      "metadata": {
        "id": "uO3PEEbVZ8aM"
      },
      "id": "uO3PEEbVZ8aM",
      "execution_count": 99,
      "outputs": []
    },
    {
      "cell_type": "code",
      "source": [
        "adam = Adam(learning_rate=0.0001)\n",
        "model.compile(optimizer=adam, loss=CTCLoss)"
      ],
      "metadata": {
        "id": "3XbkcLwKqyKx"
      },
      "id": "3XbkcLwKqyKx",
      "execution_count": 100,
      "outputs": []
    },
    {
      "cell_type": "code",
      "source": [
        "checkpoint_callback = ModelCheckpoint(os.path.join(models_path,'checkpoint_epoch{epoch:02d}_loss{loss:.2f}.weights.h5'), monitor='loss', save_weights_only=True)"
      ],
      "metadata": {
        "id": "1CaYaL2XsjUu"
      },
      "id": "1CaYaL2XsjUu",
      "execution_count": 104,
      "outputs": []
    },
    {
      "cell_type": "code",
      "source": [
        "schedule_callback = LearningRateScheduler(scheduler)"
      ],
      "metadata": {
        "id": "OyRpW5Ztt_wX"
      },
      "id": "OyRpW5Ztt_wX",
      "execution_count": null,
      "outputs": []
    }
  ],
  "metadata": {
    "colab": {
      "collapsed_sections": [
        "F_7e-sSyo-ap",
        "Kx_GQXWFpDGl",
        "cEat8wvxrXwk",
        "sK11OrQas5U6",
        "o0l5jCmwYeYg"
      ],
      "provenance": []
    },
    "kernelspec": {
      "display_name": "lip_reading-env",
      "language": "python",
      "name": "python3"
    },
    "language_info": {
      "codemirror_mode": {
        "name": "ipython",
        "version": 3
      },
      "file_extension": ".py",
      "mimetype": "text/x-python",
      "name": "python",
      "nbconvert_exporter": "python",
      "pygments_lexer": "ipython3",
      "version": "3.10.6"
    }
  },
  "nbformat": 4,
  "nbformat_minor": 5
}