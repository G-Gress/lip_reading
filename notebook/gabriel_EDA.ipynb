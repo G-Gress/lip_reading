{
  "cells": [
    {
      "cell_type": "code",
      "source": [
        "from google.colab import runtime\n",
        "runtime.unassign()"
      ],
      "metadata": {
        "id": "TNNbfnD-1ztw"
      },
      "id": "TNNbfnD-1ztw",
      "execution_count": null,
      "outputs": []
    },
    {
      "cell_type": "code",
      "source": [
        "# ! pip list"
      ],
      "metadata": {
        "collapsed": true,
        "id": "krCiQiZgsP_h"
      },
      "id": "krCiQiZgsP_h",
      "execution_count": null,
      "outputs": []
    },
    {
      "cell_type": "code",
      "execution_count": null,
      "id": "62094cc5",
      "metadata": {
        "id": "62094cc5"
      },
      "outputs": [],
      "source": [
        "# ! pip install imageio opencv-python"
      ]
    },
    {
      "cell_type": "code",
      "execution_count": 2,
      "id": "a56d63c4",
      "metadata": {
        "id": "a56d63c4"
      },
      "outputs": [],
      "source": [
        "import os\n",
        "import cv2\n",
        "import tensorflow as tf\n",
        "import numpy as np\n",
        "from typing import List\n",
        "from matplotlib import pyplot as plt"
      ]
    },
    {
      "cell_type": "code",
      "source": [
        "from google.colab import drive\n",
        "drive.mount('/content/drive')"
      ],
      "metadata": {
        "colab": {
          "base_uri": "https://localhost:8080/"
        },
        "id": "EvX63pcMwBvN",
        "outputId": "4ec0a030-33dd-4b9d-ca1e-4bb612fa1572"
      },
      "id": "EvX63pcMwBvN",
      "execution_count": 5,
      "outputs": [
        {
          "output_type": "stream",
          "name": "stdout",
          "text": [
            "Mounted at /content/drive\n"
          ]
        }
      ]
    },
    {
      "cell_type": "markdown",
      "source": [
        "# Load Data"
      ],
      "metadata": {
        "id": "WlFEkhfOs60v"
      },
      "id": "WlFEkhfOs60v"
    },
    {
      "cell_type": "code",
      "source": [
        "path = \"./drive/MyDrive/Project/Lip_reading/raw_data/\""
      ],
      "metadata": {
        "id": "94SROilDvhae"
      },
      "id": "94SROilDvhae",
      "execution_count": 52,
      "outputs": []
    },
    {
      "cell_type": "code",
      "source": [
        "test_path = \"./drive/MyDrive/Project/Lip_reading/raw_data/videos/s1/bbal6n.mpg\""
      ],
      "metadata": {
        "id": "LCy1DuebiDgk"
      },
      "id": "LCy1DuebiDgk",
      "execution_count": 53,
      "outputs": []
    },
    {
      "cell_type": "markdown",
      "source": [
        "## Video Loading Test"
      ],
      "metadata": {
        "id": "F_7e-sSyo-ap"
      },
      "id": "F_7e-sSyo-ap"
    },
    {
      "cell_type": "code",
      "source": [
        "! ls drive/MyDrive/Project/Lip_reading/raw_data/videos/s1/"
      ],
      "metadata": {
        "id": "j1b9Jw4IxC6A",
        "colab": {
          "base_uri": "https://localhost:8080/"
        },
        "collapsed": true,
        "outputId": "10b4e78c-999d-4d43-ca64-7fe4658d308b"
      },
      "id": "j1b9Jw4IxC6A",
      "execution_count": 54,
      "outputs": [
        {
          "output_type": "stream",
          "name": "stdout",
          "text": [
            "bbaf2n.mpg  brwa5a.mpg\tlgif3a.mpg  pbav3s.mpg\tprwj8n.mpg  sgbp7a.mpg\n",
            "bbaf3s.mpg  brwg6n.mpg\tlgifzn.mpg  pbav4p.mpg\tprwj9s.mpg  sgbv8n.mpg\n",
            "bbaf4p.mpg  brwg7s.mpg\tlgil4n.mpg  pbav5a.mpg\tprwk1a.mpg  sgbv9s.mpg\n",
            "bbaf5a.mpg  brwg8p.mpg\tlgil5s.mpg  pbbc4n.mpg\tprwkzp.mpg  sgbx1a.mpg\n",
            "bbal6n.mpg  brwg9a.mpg\tlgil6p.mpg  pbbc5s.mpg\tprwq2n.mpg  sgbxzp.mpg\n",
            "bbal7s.mpg  brwn1s.mpg\tlgil7a.mpg  pbbc6p.mpg\tprwq3s.mpg  sgib8n.mpg\n",
            "bbal8p.mpg  brwn2p.mpg\tlgir8n.mpg  pbbc7a.mpg\tprwq4p.mpg  sgib9s.mpg\n",
            "bbal9a.mpg  brwn3a.mpg\tlgir9s.mpg  pbbi8n.mpg\tprwq5a.mpg  sgic1a.mpg\n",
            "bbas1s.mpg  brwnzn.mpg\tlgis1a.mpg  pbbi9s.mpg\tprwx6n.mpg  sgiczp.mpg\n",
            "bbas2p.mpg  brwt4n.mpg\tlgiszp.mpg  pbbj1a.mpg\tprwx7s.mpg  sgii2n.mpg\n",
            "bbas3a.mpg  brwt5s.mpg\tlgiz2n.mpg  pbbjzp.mpg\tprwx8p.mpg  sgii3s.mpg\n",
            "bbaszn.mpg  brwt6p.mpg\tlgiz3s.mpg  pbbp2n.mpg\tprwx9a.mpg  sgii4p.mpg\n",
            "bbaz4n.mpg  brwt7a.mpg\tlgiz4p.mpg  pbbp3s.mpg\tpwad2n.mpg  sgii5a.mpg\n",
            "bbaz5s.mpg  bwaa1s.mpg\tlgiz5a.mpg  pbbp4p.mpg\tpwad3s.mpg  sgio6n.mpg\n",
            "bbaz6p.mpg  bwaa2p.mpg\tlgwa1a.mpg  pbbp5a.mpg\tpwad4p.mpg  sgio7s.mpg\n",
            "bbaz7a.mpg  bwaa3a.mpg\tlgwazp.mpg  pbbv6n.mpg\tpwad5a.mpg  sgio8p.mpg\n",
            "bbbf6n.mpg  bwaazn.mpg\tlgwg2n.mpg  pbbv7s.mpg\tpwaj6n.mpg  sgio9a.mpg\n",
            "bbbf7s.mpg  bwag4n.mpg\tlgwg3s.mpg  pbbv8p.mpg\tpwaj7s.mpg  sgiv1s.mpg\n",
            "bbbf8p.mpg  bwag5s.mpg\tlgwg4p.mpg  pbbv9a.mpg\tpwaj8p.mpg  sgiv2p.mpg\n",
            "bbbf9a.mpg  bwag6p.mpg\tlgwg5a.mpg  pbib6n.mpg\tpwaj9a.mpg  sgiv3a.mpg\n",
            "bbbm1s.mpg  bwag7a.mpg\tlgwm6n.mpg  pbib7s.mpg\tpwaq1s.mpg  sgivzn.mpg\n",
            "bbbm2p.mpg  bwam8n.mpg\tlgwm7s.mpg  pbib8p.mpg\tpwaq2p.mpg  sgwd1s.mpg\n",
            "bbbm3a.mpg  bwam9s.mpg\tlgwm8p.mpg  pbib9a.mpg\tpwaq3a.mpg  sgwd2p.mpg\n",
            "bbbmzn.mpg  bwan1a.mpg\tlgwm9a.mpg  pbii1s.mpg\tpwaqzn.mpg  sgwd3a.mpg\n",
            "bbbs4n.mpg  bwanzp.mpg\tlgwt1s.mpg  pbii2p.mpg\tpwax4n.mpg  sgwdzn.mpg\n",
            "bbbs5s.mpg  bwat2n.mpg\tlgwt2p.mpg  pbii3a.mpg\tpwax5s.mpg  sgwj4n.mpg\n",
            "bbbs6p.mpg  bwat3s.mpg\tlgwt3a.mpg  pbiizn.mpg\tpwax6p.mpg  sgwj5s.mpg\n",
            "bbbs7a.mpg  bwat4p.mpg\tlgwtzn.mpg  pbio4n.mpg\tpwax7a.mpg  sgwj6p.mpg\n",
            "bbbz8n.mpg  bwat5a.mpg\tlrae2n.mpg  pbio5s.mpg\tpwbd6n.mpg  sgwj7a.mpg\n",
            "bbbz9s.mpg  bwba4n.mpg\tlrae3s.mpg  pbio6p.mpg\tpwbd7s.mpg  sgwp8n.mpg\n",
            "bbie8n.mpg  bwba5s.mpg\tlrae4p.mpg  pbio7a.mpg\tpwbd8p.mpg  sgwp9s.mpg\n",
            "bbie9s.mpg  bwba6p.mpg\tlrae5a.mpg  pbiu8n.mpg\tpwbd9a.mpg  sgwq1a.mpg\n",
            "bbif1a.mpg  bwba7a.mpg\tlrak6n.mpg  pbiu9s.mpg\tpwbk1s.mpg  sgwqzp.mpg\n",
            "bbifzp.mpg  bwbg8n.mpg\tlrak7s.mpg  pbiv1a.mpg\tpwbk2p.mpg  sgwx2n.mpg\n",
            "bbil2n.mpg  bwbg9s.mpg\tlrak8p.mpg  pbivzp.mpg\tpwbk3a.mpg  sgwx3s.mpg\n",
            "bbil3s.mpg  bwbh1a.mpg\tlrak9a.mpg  pbwc8n.mpg\tpwbkzn.mpg  sgwx4p.mpg\n",
            "bbil4p.mpg  bwbhzp.mpg\tlrar1s.mpg  pbwc9s.mpg\tpwbq4n.mpg  sgwx5a.mpg\n",
            "bbil5a.mpg  bwbn2n.mpg\tlrar2p.mpg  pbwd1a.mpg\tpwbq5s.mpg  srab1s.mpg\n",
            "bbir6n.mpg  bwbn3s.mpg\tlrar3a.mpg  pbwdzp.mpg\tpwbq6p.mpg  srab2p.mpg\n",
            "bbir7s.mpg  bwbn4p.mpg\tlrarzn.mpg  pbwj2n.mpg\tpwbq7a.mpg  srab3a.mpg\n",
            "bbir8p.mpg  bwbn5a.mpg\tlray4n.mpg  pbwj3s.mpg\tpwbx8n.mpg  srabzn.mpg\n",
            "bbir9a.mpg  bwbt6n.mpg\tlray5s.mpg  pbwj4p.mpg\tpwbx9s.mpg  srah4n.mpg\n",
            "bbiz1s.mpg  bwbt7s.mpg\tlray6p.mpg  pbwj5a.mpg\tpwby1a.mpg  srah5s.mpg\n",
            "bbiz2p.mpg  bwbt8p.mpg\tlray7a.mpg  pbwp6n.mpg\tpwbyzp.mpg  srah6p.mpg\n",
            "bbiz3a.mpg  bwbt9a.mpg\tlrbe6n.mpg  pbwp7s.mpg\tpwic8n.mpg  srah7a.mpg\n",
            "bbizzn.mpg  bwig1s.mpg\tlrbe7s.mpg  pbwp8p.mpg\tpwic9s.mpg  sran8n.mpg\n",
            "bbwg1s.mpg  bwig2p.mpg\tlrbe8p.mpg  pbwp9a.mpg\tpwid1a.mpg  sran9s.mpg\n",
            "bbwg2p.mpg  bwig3a.mpg\tlrbe9a.mpg  pbwx1s.mpg\tpwidzp.mpg  srao1a.mpg\n",
            "bbwg3a.mpg  bwigzn.mpg\tlrbl1s.mpg  pbwx2p.mpg\tpwij2n.mpg  sraozp.mpg\n",
            "bbwgzn.mpg  bwim4n.mpg\tlrbl2p.mpg  pbwx3a.mpg\tpwij3s.mpg  srau2n.mpg\n",
            "bbwm4n.mpg  bwim5s.mpg\tlrbl3a.mpg  pbwxzn.mpg\tpwij4p.mpg  srau3s.mpg\n",
            "bbwm5s.mpg  bwim6p.mpg\tlrblzn.mpg  pgad8n.mpg\tpwij5a.mpg  srau4p.mpg\n",
            "bbwm6p.mpg  bwim7a.mpg\tlrbr4n.mpg  pgad9s.mpg\tpwip6n.mpg  srau5a.mpg\n",
            "bbwm7a.mpg  bwis8n.mpg\tlrbr5s.mpg  pgae1a.mpg\tpwip7s.mpg  srbb4n.mpg\n",
            "bbws8n.mpg  bwis9s.mpg\tlrbr6p.mpg  pgaezp.mpg\tpwip8p.mpg  srbb5s.mpg\n",
            "bbws9s.mpg  bwit1a.mpg\tlrbr7a.mpg  pgak2n.mpg\tpwip9a.mpg  srbb6p.mpg\n",
            "bbwt1a.mpg  bwitzp.mpg\tlrby8n.mpg  pgak3s.mpg\tpwix1s.mpg  srbb7a.mpg\n",
            "bbwtzp.mpg  bwwa8n.mpg\tlrby9s.mpg  pgak4p.mpg\tpwix2p.mpg  srbh8n.mpg\n",
            "bgaa6n.mpg  bwwa9s.mpg\tlrbz1a.mpg  pgak5a.mpg\tpwix3a.mpg  srbh9s.mpg\n",
            "bgaa7s.mpg  bwwb1a.mpg\tlrbzzp.mpg  pgaq6n.mpg\tpwixzn.mpg  srbi1a.mpg\n",
            "bgaa8p.mpg  bwwbzp.mpg\tlrid8n.mpg  pgaq7s.mpg\tpwwe1s.mpg  srbizp.mpg\n",
            "bgaa9a.mpg  bwwh2n.mpg\tlrid9s.mpg  pgaq8p.mpg\tpwwe2p.mpg  srbo2n.mpg\n",
            "bgah1s.mpg  bwwh3s.mpg\tlrie1a.mpg  pgaq9a.mpg\tpwwe3a.mpg  srbo3s.mpg\n",
            "bgah2p.mpg  bwwh4p.mpg\tlriezp.mpg  pgay1s.mpg\tpwwezn.mpg  srbo4p.mpg\n",
            "bgah3a.mpg  bwwh5a.mpg\tlrik2n.mpg  pgay2p.mpg\tpwwk4n.mpg  srbo5a.mpg\n",
            "bgahzn.mpg  bwwn6n.mpg\tlrik3s.mpg  pgay3a.mpg\tpwwk5s.mpg  srbu6n.mpg\n",
            "bgan4n.mpg  bwwn7s.mpg\tlrik4p.mpg  pgayzn.mpg\tpwwk6p.mpg  srbu7s.mpg\n",
            "bgan5s.mpg  bwwn8p.mpg\tlrik5a.mpg  pgbe2n.mpg\tpwwk7a.mpg  srbu8p.mpg\n",
            "bgan6p.mpg  bwwn9a.mpg\tlriq6n.mpg  pgbe3s.mpg\tpwwq8n.mpg  srbu9a.mpg\n",
            "bgan7a.mpg  bwwu1s.mpg\tlriq7s.mpg  pgbe4p.mpg\tpwwq9s.mpg  sria6n.mpg\n",
            "bgat8n.mpg  bwwu2p.mpg\tlriq8p.mpg  pgbe5a.mpg\tpwwr1a.mpg  sria7s.mpg\n",
            "bgat9s.mpg  bwwu3a.mpg\tlriq9a.mpg  pgbk6n.mpg\tpwwrzp.mpg  sria8p.mpg\n",
            "bgau1a.mpg  bwwuzn.mpg\tlriy1s.mpg  pgbk7s.mpg\tpwwy2n.mpg  sria9a.mpg\n",
            "bgauzp.mpg  lbad6n.mpg\tlriy2p.mpg  pgbk8p.mpg\tpwwy3s.mpg  srih1s.mpg\n",
            "bgbb1s.mpg  lbad7s.mpg\tlriy3a.mpg  pgbk9a.mpg\tpwwy4p.mpg  srih2p.mpg\n",
            "bgbb2p.mpg  lbad8p.mpg\tlriyzn.mpg  pgbr1s.mpg\tpwwy5a.mpg  srih3a.mpg\n",
            "bgbb3a.mpg  lbad9a.mpg\tlrwf1s.mpg  pgbr2p.mpg\tsbaa4n.mpg  srihzn.mpg\n",
            "bgbbzn.mpg  lbak1s.mpg\tlrwf2p.mpg  pgbr3a.mpg\tsbaa5s.mpg  srin4n.mpg\n",
            "bgbh4n.mpg  lbak2p.mpg\tlrwf3a.mpg  pgbrzn.mpg\tsbaa6p.mpg  srin5s.mpg\n",
            "bgbh5s.mpg  lbak3a.mpg\tlrwfzn.mpg  pgby4n.mpg\tsbaa7a.mpg  srin6p.mpg\n",
            "bgbh6p.mpg  lbakzn.mpg\tlrwl4n.mpg  pgby5s.mpg\tsbag8n.mpg  srin7a.mpg\n",
            "bgbh7a.mpg  lbaq4n.mpg\tlrwl5s.mpg  pgby6p.mpg\tsbag9s.mpg  srit8n.mpg\n",
            "bgbn8n.mpg  lbaq5s.mpg\tlrwl6p.mpg  pgby7a.mpg\tsbah1a.mpg  srit9s.mpg\n",
            "bgbn9s.mpg  lbaq6p.mpg\tlrwl7a.mpg  pgid4n.mpg\tsbahzp.mpg  sriu1a.mpg\n",
            "bgbo1a.mpg  lbaq7a.mpg\tlrwr8n.mpg  pgid5s.mpg\tsban2n.mpg  sriuzp.mpg\n",
            "bgbozp.mpg  lbax8n.mpg\tlrwr9s.mpg  pgid6p.mpg\tsban3s.mpg  srwb8n.mpg\n",
            "bgbu2n.mpg  lbax9s.mpg\tlrws1a.mpg  pgid7a.mpg\tsban4p.mpg  srwb9s.mpg\n",
            "bgbu3s.mpg  lbay1a.mpg\tlrwszp.mpg  pgij8n.mpg\tsban5a.mpg  srwc1a.mpg\n",
            "bgbu4p.mpg  lbayzp.mpg\tlrwz2n.mpg  pgij9s.mpg\tsbat6n.mpg  srwczp.mpg\n",
            "bgbu5a.mpg  lbbe1s.mpg\tlrwz3s.mpg  pgik1a.mpg\tsbat7s.mpg  srwi2n.mpg\n",
            "bgia2n.mpg  lbbe2p.mpg\tlrwz4p.mpg  pgikzp.mpg\tsbat8p.mpg  srwi3s.mpg\n",
            "bgia3s.mpg  lbbe3a.mpg\tlrwz5a.mpg  pgiq2n.mpg\tsbat9a.mpg  srwi4p.mpg\n",
            "bgia4p.mpg  lbbezn.mpg\tlwae8n.mpg  pgiq3s.mpg\tsbba8n.mpg  srwi5a.mpg\n",
            "bgia5a.mpg  lbbk4n.mpg\tlwae9s.mpg  pgiq4p.mpg\tsbba9s.mpg  srwo6n.mpg\n",
            "bgig6n.mpg  lbbk5s.mpg\tlwaf1a.mpg  pgiq5a.mpg\tsbbb1a.mpg  srwo7s.mpg\n",
            "bgig7s.mpg  lbbk6p.mpg\tlwafzp.mpg  pgix6n.mpg\tsbbbzp.mpg  srwo8p.mpg\n",
            "bgig8p.mpg  lbbk7a.mpg\tlwal2n.mpg  pgix7s.mpg\tsbbh2n.mpg  srwo9a.mpg\n",
            "bgig9a.mpg  lbbq8n.mpg\tlwal3s.mpg  pgix8p.mpg\tsbbh3s.mpg  srwv1s.mpg\n",
            "bgin1s.mpg  lbbq9s.mpg\tlwal4p.mpg  pgix9a.mpg\tsbbh4p.mpg  srwv2p.mpg\n",
            "bgin2p.mpg  lbbr1a.mpg\tlwal5a.mpg  pgwe6n.mpg\tsbbh5a.mpg  srwv3a.mpg\n",
            "bgin3a.mpg  lbbrzp.mpg\tlwar6n.mpg  pgwe7s.mpg\tsbbn6n.mpg  srwvzn.mpg\n",
            "bginzn.mpg  lbby2n.mpg\tlwar7s.mpg  pgwe8p.mpg\tsbbn7s.mpg  swab6n.mpg\n",
            "bgit4n.mpg  lbby3s.mpg\tlwar8p.mpg  pgwe9a.mpg\tsbbn8p.mpg  swab7s.mpg\n",
            "bgit5s.mpg  lbby4p.mpg\tlwar9a.mpg  pgwl1s.mpg\tsbbn9a.mpg  swab8p.mpg\n",
            "bgit6p.mpg  lbby5a.mpg\tlwaz1s.mpg  pgwl2p.mpg\tsbbu1s.mpg  swab9a.mpg\n",
            "bgit7a.mpg  lbid2n.mpg\tlwaz2p.mpg  pgwl3a.mpg\tsbbu2p.mpg  swai1s.mpg\n",
            "bgwb4n.mpg  lbid3s.mpg\tlwaz3a.mpg  pgwlzn.mpg\tsbbu3a.mpg  swai2p.mpg\n",
            "bgwb5s.mpg  lbid4p.mpg\tlwazzn.mpg  pgwr4n.mpg\tsbbuzn.mpg  swai3a.mpg\n",
            "bgwb6p.mpg  lbid5a.mpg\tlwbf2n.mpg  pgwr5s.mpg\tsbia1s.mpg  swaizn.mpg\n",
            "bgwb7a.mpg  lbij6n.mpg\tlwbf3s.mpg  pgwr6p.mpg\tsbia2p.mpg  swao4n.mpg\n",
            "bgwh8n.mpg  lbij7s.mpg\tlwbf4p.mpg  pgwr7a.mpg\tsbia3a.mpg  swao5s.mpg\n",
            "bgwh9s.mpg  lbij8p.mpg\tlwbf5a.mpg  pgwy8n.mpg\tsbiazn.mpg  swao6p.mpg\n",
            "bgwi1a.mpg  lbij9a.mpg\tlwbl6n.mpg  pgwy9s.mpg\tsbig4n.mpg  swao7a.mpg\n",
            "bgwizp.mpg  lbiq1s.mpg\tlwbl7s.mpg  pgwz1a.mpg\tsbig5s.mpg  swau8n.mpg\n",
            "bgwo2n.mpg  lbiq2p.mpg\tlwbl8p.mpg  pgwzzp.mpg\tsbig6p.mpg  swau9s.mpg\n",
            "bgwo3s.mpg  lbiq3a.mpg\tlwbl9a.mpg  prac6n.mpg\tsbig7a.mpg  swav1a.mpg\n",
            "bgwo4p.mpg  lbiqzn.mpg\tlwbs1s.mpg  prac7s.mpg\tsbim8n.mpg  swavzp.mpg\n",
            "bgwo5a.mpg  lbix4n.mpg\tlwbs2p.mpg  prac8p.mpg\tsbim9s.mpg  swbc1s.mpg\n",
            "bgwu6n.mpg  lbix5s.mpg\tlwbs3a.mpg  prac9a.mpg\tsbin1a.mpg  swbc2p.mpg\n",
            "bgwu7s.mpg  lbix6p.mpg\tlwbszn.mpg  praj1s.mpg\tsbinzp.mpg  swbc3a.mpg\n",
            "bgwu8p.mpg  lbix7a.mpg\tlwbz4n.mpg  praj2p.mpg\tsbit2n.mpg  swbczn.mpg\n",
            "bgwu9a.mpg  lbwe4n.mpg\tlwbz5s.mpg  praj3a.mpg\tsbit3s.mpg  swbi4n.mpg\n",
            "braf8n.mpg  lbwe5s.mpg\tlwbz6p.mpg  prajzn.mpg\tsbit4p.mpg  swbi5s.mpg\n",
            "braf9s.mpg  lbwe6p.mpg\tlwbz7a.mpg  prap4n.mpg\tsbit5a.mpg  swbi6p.mpg\n",
            "brag1a.mpg  lbwe7a.mpg\tlwie4n.mpg  prap5s.mpg\tsbwb2n.mpg  swbi7a.mpg\n",
            "bragzp.mpg  lbwk8n.mpg\tlwie5s.mpg  prap6p.mpg\tsbwb3s.mpg  swbo8n.mpg\n",
            "bram2n.mpg  lbwk9s.mpg\tlwie6p.mpg  prap7a.mpg\tsbwb4p.mpg  swbo9s.mpg\n",
            "bram3s.mpg  lbwl1a.mpg\tlwie7a.mpg  prav8n.mpg\tsbwb5a.mpg  swbp1a.mpg\n",
            "bram4p.mpg  lbwlzp.mpg\tlwik8n.mpg  prav9s.mpg\tsbwh6n.mpg  swbpzp.mpg\n",
            "bram5a.mpg  lbwr2n.mpg\tlwik9s.mpg  prax1a.mpg\tsbwh7s.mpg  swbv2n.mpg\n",
            "bras6n.mpg  lbwr3s.mpg\tlwil1a.mpg  praxzp.mpg\tsbwh8p.mpg  swbv3s.mpg\n",
            "bras7s.mpg  lbwr4p.mpg\tlwilzp.mpg  prbd1s.mpg\tsbwh9a.mpg  swbv4p.mpg\n",
            "bras8p.mpg  lbwr5a.mpg\tlwir2n.mpg  prbd2p.mpg\tsbwo1s.mpg  swbv5a.mpg\n",
            "bras9a.mpg  lbwy6n.mpg\tlwir3s.mpg  prbd3a.mpg\tsbwo2p.mpg  swib2n.mpg\n",
            "brba1a.mpg  lbwy7s.mpg\tlwir4p.mpg  prbdzn.mpg\tsbwo3a.mpg  swib3s.mpg\n",
            "brbazp.mpg  lbwy8p.mpg\tlwir5a.mpg  prbj4n.mpg\tsbwozn.mpg  swib4p.mpg\n",
            "brbg2n.mpg  lbwy9a.mpg\tlwiy6n.mpg  prbj5s.mpg\tsbwu4n.mpg  swib5a.mpg\n",
            "brbg3s.mpg  lgaf4n.mpg\tlwiy7s.mpg  prbj6p.mpg\tsbwu5s.mpg  swih6n.mpg\n",
            "brbg4p.mpg  lgaf5s.mpg\tlwiy8p.mpg  prbj7a.mpg\tsbwu6p.mpg  swih7s.mpg\n",
            "brbg5a.mpg  lgaf6p.mpg\tlwiy9a.mpg  prbp8n.mpg\tsbwu7a.mpg  swih8p.mpg\n",
            "brbm6n.mpg  lgaf7a.mpg\tlwwf6n.mpg  prbp9s.mpg\tsgac2n.mpg  swih9a.mpg\n",
            "brbm7s.mpg  lgal8n.mpg\tlwwf7s.mpg  prbq1a.mpg\tsgac3s.mpg  swio1s.mpg\n",
            "brbm8p.mpg  lgal9s.mpg\tlwwf8p.mpg  prbqzp.mpg\tsgac4p.mpg  swio2p.mpg\n",
            "brbm9a.mpg  lgam1a.mpg\tlwwf9a.mpg  prbx2n.mpg\tsgac5a.mpg  swio3a.mpg\n",
            "brbt1s.mpg  lgamzp.mpg\tlwwm1s.mpg  prbx3s.mpg\tsgai6n.mpg  swiozn.mpg\n",
            "brbt2p.mpg  lgas2n.mpg\tlwwm2p.mpg  prbx4p.mpg\tsgai7s.mpg  swiu4n.mpg\n",
            "brbt3a.mpg  lgas3s.mpg\tlwwm3a.mpg  prbx5a.mpg\tsgai8p.mpg  swiu5s.mpg\n",
            "brbtzn.mpg  lgas4p.mpg\tlwwmzn.mpg  pric2n.mpg\tsgai9a.mpg  swiu6p.mpg\n",
            "brif4n.mpg  lgas5a.mpg\tlwws4n.mpg  pric3s.mpg\tsgap1s.mpg  swiu7a.mpg\n",
            "brif5s.mpg  lgaz6n.mpg\tlwws5s.mpg  pric4p.mpg\tsgap2p.mpg  swwc4n.mpg\n",
            "brif6p.mpg  lgaz7s.mpg\tlwws6p.mpg  pric5a.mpg\tsgap3a.mpg  swwc5s.mpg\n",
            "brif7a.mpg  lgaz8p.mpg\tlwws7a.mpg  prii6n.mpg\tsgapzn.mpg  swwc6p.mpg\n",
            "bril8n.mpg  lgaz9a.mpg\tlwwz8n.mpg  prii7s.mpg\tsgav4n.mpg  swwc7a.mpg\n",
            "bril9s.mpg  lgbf8n.mpg\tlwwz9s.mpg  prii8p.mpg\tsgav5s.mpg  swwi8n.mpg\n",
            "brim1a.mpg  lgbf9s.mpg\tpbac1s.mpg  prii9a.mpg\tsgav6p.mpg  swwi9s.mpg\n",
            "brimzp.mpg  lgbg1a.mpg\tpbac2p.mpg  prip1s.mpg\tsgav7a.mpg  swwj1a.mpg\n",
            "bris2n.mpg  lgbgzp.mpg\tpbac3a.mpg  prip2p.mpg\tsgbc6n.mpg  swwjzp.mpg\n",
            "bris3s.mpg  lgbm2n.mpg\tpbaczn.mpg  prip3a.mpg\tsgbc7s.mpg  swwp2n.mpg\n",
            "bris4p.mpg  lgbm3s.mpg\tpbai4n.mpg  pripzn.mpg\tsgbc8p.mpg  swwp3s.mpg\n",
            "bris5a.mpg  lgbm4p.mpg\tpbai5s.mpg  priv4n.mpg\tsgbc9a.mpg  swwp4p.mpg\n",
            "briz6n.mpg  lgbm5a.mpg\tpbai6p.mpg  priv5s.mpg\tsgbj1s.mpg  swwp5a.mpg\n",
            "briz7s.mpg  lgbs6n.mpg\tpbai7a.mpg  priv6p.mpg\tsgbj2p.mpg  swwv6n.mpg\n",
            "briz8p.mpg  lgbs7s.mpg\tpbao8n.mpg  priv7a.mpg\tsgbj3a.mpg  swwv7s.mpg\n",
            "briz9a.mpg  lgbs8p.mpg\tpbao9s.mpg  prwd4n.mpg\tsgbjzn.mpg  swwv8p.mpg\n",
            "brwa2n.mpg  lgbs9a.mpg\tpbap1a.mpg  prwd5s.mpg\tsgbp4n.mpg  swwv9a.mpg\n",
            "brwa3s.mpg  lgif1s.mpg\tpbapzp.mpg  prwd6p.mpg\tsgbp5s.mpg  Thumbs.db\n",
            "brwa4p.mpg  lgif2p.mpg\tpbav2n.mpg  prwd7a.mpg\tsgbp6p.mpg\n"
          ]
        }
      ]
    },
    {
      "cell_type": "code",
      "source": [
        "# Get the video\n",
        "cap = cv2.VideoCapture(test_path)\n"
      ],
      "metadata": {
        "id": "ChAkm7l7hwVn"
      },
      "id": "ChAkm7l7hwVn",
      "execution_count": 105,
      "outputs": []
    },
    {
      "cell_type": "code",
      "source": [
        "# Get 1 frame with each iteration\n",
        "ret, frame = cap.read()\n",
        "# Display the frame\n",
        "frame\n"
      ],
      "metadata": {
        "colab": {
          "base_uri": "https://localhost:8080/",
          "height": 328
        },
        "id": "eU6tzPwxiskp",
        "outputId": "8d1dcfd9-2742-4c30-bab3-3450464921c3"
      },
      "id": "eU6tzPwxiskp",
      "execution_count": 106,
      "outputs": [
        {
          "output_type": "execute_result",
          "data": {
            "text/plain": [
              "array([[[ 88,  65,  56],\n",
              "        [ 89,  66,  57],\n",
              "        [106,  64,  58],\n",
              "        ...,\n",
              "        [ 55,  30,  21],\n",
              "        [ 54,  29,  22],\n",
              "        [ 54,  29,  22]],\n",
              "\n",
              "       [[212, 189, 180],\n",
              "        [212, 189, 180],\n",
              "        [231, 189, 183],\n",
              "        ...,\n",
              "        [118,  93,  84],\n",
              "        [117,  92,  85],\n",
              "        [117,  92,  85]],\n",
              "\n",
              "       [[240, 216, 109],\n",
              "        [241, 217, 110],\n",
              "        [255, 217, 110],\n",
              "        ...,\n",
              "        [129, 111,  40],\n",
              "        [127, 109,  39],\n",
              "        [127, 109,  39]],\n",
              "\n",
              "       ...,\n",
              "\n",
              "       [[151, 122,  19],\n",
              "        [151, 122,  19],\n",
              "        [160, 120,  22],\n",
              "        ...,\n",
              "        [102,  83,   4],\n",
              "        [101,  81,   5],\n",
              "        [101,  81,   5]],\n",
              "\n",
              "       [[150, 122,  17],\n",
              "        [151, 123,  18],\n",
              "        [160, 121,  20],\n",
              "        ...,\n",
              "        [101,  82,   3],\n",
              "        [101,  81,   5],\n",
              "        [100,  80,   4]],\n",
              "\n",
              "       [[150, 122,  17],\n",
              "        [151, 123,  18],\n",
              "        [159, 120,  19],\n",
              "        ...,\n",
              "        [101,  82,   3],\n",
              "        [100,  80,   4],\n",
              "        [100,  80,   4]]], dtype=uint8)"
            ],
            "text/html": [
              "<style>\n",
              "      .ndarray_repr .ndarray_raw_data {\n",
              "        display: none;\n",
              "      }\n",
              "      .ndarray_repr.show_array .ndarray_raw_data {\n",
              "        display: block;\n",
              "      }\n",
              "      .ndarray_repr.show_array .ndarray_image_preview {\n",
              "        display: none;\n",
              "      }\n",
              "      </style>\n",
              "      <div id=\"id-d000b519-998f-4e93-84d2-80742c3ac4d7\" class=\"ndarray_repr\"><pre>ndarray (288, 360, 3) <button style=\"padding: 0 2px;\">show data</button></pre><img src=\"data:image/png;base64,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\" class=\"ndarray_image_preview\" /><pre class=\"ndarray_raw_data\">array([[[ 88,  65,  56],\n",
              "        [ 89,  66,  57],\n",
              "        [106,  64,  58],\n",
              "        ...,\n",
              "        [ 55,  30,  21],\n",
              "        [ 54,  29,  22],\n",
              "        [ 54,  29,  22]],\n",
              "\n",
              "       [[212, 189, 180],\n",
              "        [212, 189, 180],\n",
              "        [231, 189, 183],\n",
              "        ...,\n",
              "        [118,  93,  84],\n",
              "        [117,  92,  85],\n",
              "        [117,  92,  85]],\n",
              "\n",
              "       [[240, 216, 109],\n",
              "        [241, 217, 110],\n",
              "        [255, 217, 110],\n",
              "        ...,\n",
              "        [129, 111,  40],\n",
              "        [127, 109,  39],\n",
              "        [127, 109,  39]],\n",
              "\n",
              "       ...,\n",
              "\n",
              "       [[151, 122,  19],\n",
              "        [151, 122,  19],\n",
              "        [160, 120,  22],\n",
              "        ...,\n",
              "        [102,  83,   4],\n",
              "        [101,  81,   5],\n",
              "        [101,  81,   5]],\n",
              "\n",
              "       [[150, 122,  17],\n",
              "        [151, 123,  18],\n",
              "        [160, 121,  20],\n",
              "        ...,\n",
              "        [101,  82,   3],\n",
              "        [101,  81,   5],\n",
              "        [100,  80,   4]],\n",
              "\n",
              "       [[150, 122,  17],\n",
              "        [151, 123,  18],\n",
              "        [159, 120,  19],\n",
              "        ...,\n",
              "        [101,  82,   3],\n",
              "        [100,  80,   4],\n",
              "        [100,  80,   4]]], dtype=uint8)</pre></div><script>\n",
              "      (() => {\n",
              "      const titles = ['show data', 'hide data'];\n",
              "      let index = 0\n",
              "      document.querySelector('#id-d000b519-998f-4e93-84d2-80742c3ac4d7 button').onclick = (e) => {\n",
              "        document.querySelector('#id-d000b519-998f-4e93-84d2-80742c3ac4d7').classList.toggle('show_array');\n",
              "        index = (++index) % 2;\n",
              "        document.querySelector('#id-d000b519-998f-4e93-84d2-80742c3ac4d7 button').textContent = titles[index];\n",
              "        e.preventDefault();\n",
              "        e.stopPropagation();\n",
              "      }\n",
              "      })();\n",
              "    </script>"
            ]
          },
          "metadata": {},
          "execution_count": 106
        }
      ]
    },
    {
      "cell_type": "code",
      "source": [
        "gray = cv2.cvtColor(frame, cv2.COLOR_BGR2GRAY)"
      ],
      "metadata": {
        "id": "TRRaYi57o8A9"
      },
      "id": "TRRaYi57o8A9",
      "execution_count": 107,
      "outputs": []
    },
    {
      "cell_type": "code",
      "source": [
        "gray[190:236,80:220]"
      ],
      "metadata": {
        "colab": {
          "base_uri": "https://localhost:8080/",
          "height": 86
        },
        "id": "fvpGr5_HpMX6",
        "outputId": "26a5e6a5-3e25-45cb-b320-0ad149ad5952"
      },
      "id": "fvpGr5_HpMX6",
      "execution_count": 109,
      "outputs": [
        {
          "output_type": "execute_result",
          "data": {
            "text/plain": [
              "array([[146, 146, 147, ..., 121, 120, 117],\n",
              "       [146, 146, 147, ..., 121, 117, 116],\n",
              "       [146, 146, 145, ..., 118, 118, 118],\n",
              "       ...,\n",
              "       [137, 137, 137, ..., 112, 111, 111],\n",
              "       [137, 137, 137, ..., 111, 110, 110],\n",
              "       [137, 137, 137, ..., 111, 110, 110]], dtype=uint8)"
            ],
            "text/html": [
              "<style>\n",
              "      .ndarray_repr .ndarray_raw_data {\n",
              "        display: none;\n",
              "      }\n",
              "      .ndarray_repr.show_array .ndarray_raw_data {\n",
              "        display: block;\n",
              "      }\n",
              "      .ndarray_repr.show_array .ndarray_image_preview {\n",
              "        display: none;\n",
              "      }\n",
              "      </style>\n",
              "      <div id=\"id-d968d998-d6d0-46d2-b741-998b7c336914\" class=\"ndarray_repr\"><pre>ndarray (46, 140) <button style=\"padding: 0 2px;\">show data</button></pre><img src=\"data:image/png;base64,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\" class=\"ndarray_image_preview\" /><pre class=\"ndarray_raw_data\">array([[146, 146, 147, ..., 121, 120, 117],\n",
              "       [146, 146, 147, ..., 121, 117, 116],\n",
              "       [146, 146, 145, ..., 118, 118, 118],\n",
              "       ...,\n",
              "       [137, 137, 137, ..., 112, 111, 111],\n",
              "       [137, 137, 137, ..., 111, 110, 110],\n",
              "       [137, 137, 137, ..., 111, 110, 110]], dtype=uint8)</pre></div><script>\n",
              "      (() => {\n",
              "      const titles = ['show data', 'hide data'];\n",
              "      let index = 0\n",
              "      document.querySelector('#id-d968d998-d6d0-46d2-b741-998b7c336914 button').onclick = (e) => {\n",
              "        document.querySelector('#id-d968d998-d6d0-46d2-b741-998b7c336914').classList.toggle('show_array');\n",
              "        index = (++index) % 2;\n",
              "        document.querySelector('#id-d968d998-d6d0-46d2-b741-998b7c336914 button').textContent = titles[index];\n",
              "        e.preventDefault();\n",
              "        e.stopPropagation();\n",
              "      }\n",
              "      })();\n",
              "    </script>"
            ]
          },
          "metadata": {},
          "execution_count": 109
        }
      ]
    },
    {
      "cell_type": "code",
      "source": [
        "gray = tf.image.rgb_to_grayscale(frame)"
      ],
      "metadata": {
        "id": "Ck9pz4Y7phrv"
      },
      "id": "Ck9pz4Y7phrv",
      "execution_count": 98,
      "outputs": []
    },
    {
      "cell_type": "code",
      "source": [
        "# Release the video\n",
        "cap.release()"
      ],
      "metadata": {
        "id": "x-PSytSljD0c"
      },
      "id": "x-PSytSljD0c",
      "execution_count": 110,
      "outputs": []
    },
    {
      "cell_type": "markdown",
      "source": [
        "## Video Loading Function"
      ],
      "metadata": {
        "id": "Kx_GQXWFpDGl"
      },
      "id": "Kx_GQXWFpDGl"
    },
    {
      "cell_type": "code",
      "execution_count": 39,
      "id": "9e20de29",
      "metadata": {
        "id": "9e20de29"
      },
      "outputs": [],
      "source": [
        "def load_video(path: str) -> tf.Tensor:\n",
        "    '''\n",
        "    Load a video from a path, convert it to grayscale, crop it to the face,\n",
        "    normalize it with z-score normalization, and return a numpy array of the frames.\n",
        "    '''\n",
        "    cap = cv2.VideoCapture(path)\n",
        "    frames = []\n",
        "    for _ in range(int(cap.get(cv2.CAP_PROP_FRAME_COUNT))):\n",
        "      # Get one frame as a numpy array\n",
        "      ret, frame = cap.read()\n",
        "      # Grayscale conversion\n",
        "      #gray = cv2.cvtColor(frame, cv2.COLOR_BGR2GRAY) # => Returns 2D image\n",
        "      gray = tf.image.rgb_to_grayscale(frame) # => Returns 3D tensor\n",
        "      # Add the frame to the list\n",
        "      frames.append(gray[190:236, 80:220, :])\n",
        "    # Release the video\n",
        "    cap.release()\n",
        "\n",
        "    # Normalize the data with z-score normalization\n",
        "    mean = tf.math.reduce_mean(frames)\n",
        "    std = tf.math.reduce_std(tf.cast(frames, tf.float32))\n",
        "\n",
        "    return tf.cast((frames - mean), tf.float32) / std\n",
        ""
      ]
    },
    {
      "cell_type": "code",
      "source": [
        "frames_test = load_video(test_path)"
      ],
      "metadata": {
        "id": "U99_u1-9okR2"
      },
      "id": "U99_u1-9okR2",
      "execution_count": 42,
      "outputs": []
    },
    {
      "cell_type": "code",
      "source": [
        "type(frames_test)"
      ],
      "metadata": {
        "colab": {
          "base_uri": "https://localhost:8080/"
        },
        "collapsed": true,
        "id": "3WI5wmICpSwx",
        "outputId": "9dbda0c5-e54c-4aab-c4ac-0a461a7714a6"
      },
      "id": "3WI5wmICpSwx",
      "execution_count": 44,
      "outputs": [
        {
          "output_type": "execute_result",
          "data": {
            "text/plain": [
              "tensorflow.python.framework.ops.EagerTensor"
            ]
          },
          "metadata": {},
          "execution_count": 44
        }
      ]
    },
    {
      "cell_type": "markdown",
      "source": [
        "## Char Encoding"
      ],
      "metadata": {
        "id": "cEat8wvxrXwk"
      },
      "id": "cEat8wvxrXwk"
    },
    {
      "cell_type": "code",
      "source": [
        "# Vocabulary to encode\n",
        "vocab = [x for x in \"abcdefghijklmnopqrstuvwxyz'?!123456789 \"]"
      ],
      "metadata": {
        "id": "HIqnYi6DSCuw"
      },
      "id": "HIqnYi6DSCuw",
      "execution_count": 23,
      "outputs": []
    },
    {
      "cell_type": "code",
      "source": [
        "# Char to num converter\n",
        "char_to_num = tf.keras.layers.StringLookup(vocabulary=vocab, oov_token=\"\")\n",
        "# Num to char converter\n",
        "num_to_char = tf.keras.layers.StringLookup(vocabulary=char_to_num.get_vocabulary(), oov_token=\"\", invert=True)"
      ],
      "metadata": {
        "id": "7rVmzIGvrf1U"
      },
      "id": "7rVmzIGvrf1U",
      "execution_count": 24,
      "outputs": []
    },
    {
      "cell_type": "code",
      "source": [
        "# Conversion test\n",
        "char_to_num(['g', 'a', 'b', 'e'])"
      ],
      "metadata": {
        "colab": {
          "base_uri": "https://localhost:8080/"
        },
        "id": "9bnqDcPvO2t0",
        "outputId": "4732ac66-321a-430e-8147-6132ec85fa7a"
      },
      "id": "9bnqDcPvO2t0",
      "execution_count": 25,
      "outputs": [
        {
          "output_type": "execute_result",
          "data": {
            "text/plain": [
              "<tf.Tensor: shape=(4,), dtype=int64, numpy=array([7, 1, 2, 5])>"
            ]
          },
          "metadata": {},
          "execution_count": 25
        }
      ]
    },
    {
      "cell_type": "code",
      "source": [
        "# Retrieving chars test\n",
        "num_to_char([7, 1, 2, 5])"
      ],
      "metadata": {
        "colab": {
          "base_uri": "https://localhost:8080/"
        },
        "id": "qF2h_zfWS6Iu",
        "outputId": "182ef35b-10ff-4066-d25f-f9efb74ac9b0"
      },
      "id": "qF2h_zfWS6Iu",
      "execution_count": 26,
      "outputs": [
        {
          "output_type": "execute_result",
          "data": {
            "text/plain": [
              "<tf.Tensor: shape=(4,), dtype=string, numpy=array([b'g', b'a', b'b', b'e'], dtype=object)>"
            ]
          },
          "metadata": {},
          "execution_count": 26
        }
      ]
    },
    {
      "cell_type": "markdown",
      "source": [
        "## Alignments Loading Test"
      ],
      "metadata": {
        "id": "sK11OrQas5U6"
      },
      "id": "sK11OrQas5U6"
    },
    {
      "cell_type": "code",
      "source": [
        "! ls drive/MyDrive/Project/Lip_reading/raw_data/alignments/s1/"
      ],
      "metadata": {
        "colab": {
          "base_uri": "https://localhost:8080/"
        },
        "collapsed": true,
        "id": "fsESM2AztF22",
        "outputId": "dfccd0c6-a71d-43b2-d68b-df0c74d7c7f9"
      },
      "id": "fsESM2AztF22",
      "execution_count": 29,
      "outputs": [
        {
          "output_type": "stream",
          "name": "stdout",
          "text": [
            "bbaf2n.align  bwbg8n.align  lrik4p.align  pgwe6n.align\tsbwo1s.align\n",
            "bbaf3s.align  bwbg9s.align  lrik5a.align  pgwe7s.align\tsbwo2p.align\n",
            "bbaf4p.align  bwbh1a.align  lriq6n.align  pgwe8p.align\tsbwo3a.align\n",
            "bbaf5a.align  bwbhzp.align  lriq7s.align  pgwe9a.align\tsbwozn.align\n",
            "bbal6n.align  bwbn2n.align  lriq8p.align  pgwl1s.align\tsbwu4n.align\n",
            "bbal7s.align  bwbn3s.align  lriq9a.align  pgwl2p.align\tsbwu5s.align\n",
            "bbal8p.align  bwbn4p.align  lriy1s.align  pgwl3a.align\tsbwu6p.align\n",
            "bbal9a.align  bwbn5a.align  lriy2p.align  pgwlzn.align\tsbwu7a.align\n",
            "bbas1s.align  bwbt6n.align  lriy3a.align  pgwr4n.align\tsgac2n.align\n",
            "bbas2p.align  bwbt7s.align  lriyzn.align  pgwr5s.align\tsgac3s.align\n",
            "bbas3a.align  bwbt8p.align  lrwf1s.align  pgwr6p.align\tsgac4p.align\n",
            "bbaszn.align  bwbt9a.align  lrwf2p.align  pgwr7a.align\tsgac5a.align\n",
            "bbaz4n.align  bwig1s.align  lrwf3a.align  pgwy8n.align\tsgai6n.align\n",
            "bbaz5s.align  bwig2p.align  lrwfzn.align  pgwy9s.align\tsgai7s.align\n",
            "bbaz6p.align  bwig3a.align  lrwl4n.align  pgwz1a.align\tsgai8p.align\n",
            "bbaz7a.align  bwigzn.align  lrwl5s.align  pgwzzp.align\tsgai9a.align\n",
            "bbbf6n.align  bwim4n.align  lrwl6p.align  prac6n.align\tsgap1s.align\n",
            "bbbf7s.align  bwim5s.align  lrwl7a.align  prac7s.align\tsgap2p.align\n",
            "bbbf8p.align  bwim6p.align  lrwr8n.align  prac8p.align\tsgap3a.align\n",
            "bbbf9a.align  bwim7a.align  lrwr9s.align  prac9a.align\tsgapzn.align\n",
            "bbbm1s.align  bwis8n.align  lrws1a.align  praj1s.align\tsgav4n.align\n",
            "bbbm2p.align  bwis9s.align  lrwszp.align  praj2p.align\tsgav5s.align\n",
            "bbbm3a.align  bwit1a.align  lrwz2n.align  praj3a.align\tsgav6p.align\n",
            "bbbmzn.align  bwitzp.align  lrwz3s.align  prajzn.align\tsgav7a.align\n",
            "bbbs4n.align  bwwa8n.align  lrwz4p.align  prap4n.align\tsgbc6n.align\n",
            "bbbs5s.align  bwwa9s.align  lrwz5a.align  prap5s.align\tsgbc7s.align\n",
            "bbbs6p.align  bwwb1a.align  lwae8n.align  prap6p.align\tsgbc8p.align\n",
            "bbbs7a.align  bwwbzp.align  lwae9s.align  prap7a.align\tsgbc9a.align\n",
            "bbbz8n.align  bwwh2n.align  lwaf1a.align  prav8n.align\tsgbj1s.align\n",
            "bbbz9s.align  bwwh3s.align  lwafzp.align  prav9s.align\tsgbj2p.align\n",
            "bbie8n.align  bwwh4p.align  lwal2n.align  prax1a.align\tsgbj3a.align\n",
            "bbie9s.align  bwwh5a.align  lwal3s.align  praxzp.align\tsgbjzn.align\n",
            "bbif1a.align  bwwn6n.align  lwal4p.align  prbd1s.align\tsgbp4n.align\n",
            "bbifzp.align  bwwn7s.align  lwal5a.align  prbd2p.align\tsgbp5s.align\n",
            "bbil2n.align  bwwn8p.align  lwar6n.align  prbd3a.align\tsgbp6p.align\n",
            "bbil3s.align  bwwn9a.align  lwar7s.align  prbdzn.align\tsgbp7a.align\n",
            "bbil4p.align  bwwu1s.align  lwar8p.align  prbj4n.align\tsgbv8n.align\n",
            "bbil5a.align  bwwu2p.align  lwar9a.align  prbj5s.align\tsgbv9s.align\n",
            "bbir6n.align  bwwu3a.align  lwaz1s.align  prbj6p.align\tsgbx1a.align\n",
            "bbir7s.align  bwwuzn.align  lwaz2p.align  prbj7a.align\tsgbxzp.align\n",
            "bbir8p.align  lbad6n.align  lwaz3a.align  prbp8n.align\tsgib8n.align\n",
            "bbir9a.align  lbad7s.align  lwazzn.align  prbp9s.align\tsgib9s.align\n",
            "bbiz1s.align  lbad8p.align  lwbf2n.align  prbq1a.align\tsgic1a.align\n",
            "bbiz2p.align  lbad9a.align  lwbf3s.align  prbqzp.align\tsgiczp.align\n",
            "bbiz3a.align  lbak1s.align  lwbf4p.align  prbx2n.align\tsgii2n.align\n",
            "bbizzn.align  lbak2p.align  lwbf5a.align  prbx3s.align\tsgii3s.align\n",
            "bbwg1s.align  lbak3a.align  lwbl6n.align  prbx4p.align\tsgii4p.align\n",
            "bbwg2p.align  lbakzn.align  lwbl7s.align  prbx5a.align\tsgii5a.align\n",
            "bbwg3a.align  lbaq4n.align  lwbl8p.align  pric2n.align\tsgio6n.align\n",
            "bbwgzn.align  lbaq5s.align  lwbl9a.align  pric3s.align\tsgio7s.align\n",
            "bbwm4n.align  lbaq6p.align  lwbs1s.align  pric4p.align\tsgio8p.align\n",
            "bbwm5s.align  lbaq7a.align  lwbs2p.align  pric5a.align\tsgio9a.align\n",
            "bbwm6p.align  lbax8n.align  lwbs3a.align  prii6n.align\tsgiv1s.align\n",
            "bbwm7a.align  lbax9s.align  lwbszn.align  prii7s.align\tsgiv2p.align\n",
            "bbws8n.align  lbay1a.align  lwbz4n.align  prii8p.align\tsgiv3a.align\n",
            "bbws9s.align  lbayzp.align  lwbz5s.align  prii9a.align\tsgivzn.align\n",
            "bbwt1a.align  lbbe1s.align  lwbz6p.align  prip1s.align\tsgwd1s.align\n",
            "bbwtzp.align  lbbe2p.align  lwbz7a.align  prip2p.align\tsgwd2p.align\n",
            "bgaa6n.align  lbbe3a.align  lwie4n.align  prip3a.align\tsgwd3a.align\n",
            "bgaa7s.align  lbbezn.align  lwie5s.align  pripzn.align\tsgwdzn.align\n",
            "bgaa8p.align  lbbk4n.align  lwie6p.align  priv4n.align\tsgwj4n.align\n",
            "bgaa9a.align  lbbk5s.align  lwie7a.align  priv5s.align\tsgwj5s.align\n",
            "bgah1s.align  lbbk6p.align  lwik8n.align  priv6p.align\tsgwj6p.align\n",
            "bgah2p.align  lbbk7a.align  lwik9s.align  priv7a.align\tsgwj7a.align\n",
            "bgah3a.align  lbbq8n.align  lwil1a.align  prwd4n.align\tsgwp8n.align\n",
            "bgahzn.align  lbbq9s.align  lwilzp.align  prwd5s.align\tsgwp9s.align\n",
            "bgan4n.align  lbbr1a.align  lwir2n.align  prwd6p.align\tsgwq1a.align\n",
            "bgan5s.align  lbbrzp.align  lwir3s.align  prwd7a.align\tsgwqzp.align\n",
            "bgan6p.align  lbby2n.align  lwir4p.align  prwj8n.align\tsgwx2n.align\n",
            "bgan7a.align  lbby3s.align  lwir5a.align  prwj9s.align\tsgwx3s.align\n",
            "bgat8n.align  lbby4p.align  lwiy6n.align  prwk1a.align\tsgwx4p.align\n",
            "bgat9s.align  lbby5a.align  lwiy7s.align  prwkzp.align\tsgwx5a.align\n",
            "bgau1a.align  lbid2n.align  lwiy8p.align  prwq2n.align\tsrab1s.align\n",
            "bgauzp.align  lbid3s.align  lwiy9a.align  prwq3s.align\tsrab2p.align\n",
            "bgbb1s.align  lbid4p.align  lwwf6n.align  prwq4p.align\tsrab3a.align\n",
            "bgbb2p.align  lbid5a.align  lwwf7s.align  prwq5a.align\tsrabzn.align\n",
            "bgbb3a.align  lbij6n.align  lwwf8p.align  prwx6n.align\tsrah4n.align\n",
            "bgbbzn.align  lbij7s.align  lwwf9a.align  prwx7s.align\tsrah5s.align\n",
            "bgbh4n.align  lbij8p.align  lwwm1s.align  prwx8p.align\tsrah6p.align\n",
            "bgbh5s.align  lbij9a.align  lwwm2p.align  prwx9a.align\tsrah7a.align\n",
            "bgbh6p.align  lbiq1s.align  lwwm3a.align  pwad2n.align\tsran8n.align\n",
            "bgbh7a.align  lbiq2p.align  lwwmzn.align  pwad3s.align\tsran9s.align\n",
            "bgbn8n.align  lbiq3a.align  lwws4n.align  pwad4p.align\tsrao1a.align\n",
            "bgbn9s.align  lbiqzn.align  lwws5s.align  pwad5a.align\tsraozp.align\n",
            "bgbo1a.align  lbix4n.align  lwws6p.align  pwaj6n.align\tsrau2n.align\n",
            "bgbozp.align  lbix5s.align  lwws7a.align  pwaj7s.align\tsrau3s.align\n",
            "bgbu2n.align  lbix6p.align  lwwz8n.align  pwaj8p.align\tsrau4p.align\n",
            "bgbu3s.align  lbix7a.align  lwwz9s.align  pwaj9a.align\tsrau5a.align\n",
            "bgbu4p.align  lbwe4n.align  pbac1s.align  pwaq1s.align\tsrbb4n.align\n",
            "bgbu5a.align  lbwe5s.align  pbac2p.align  pwaq2p.align\tsrbb5s.align\n",
            "bgia2n.align  lbwe6p.align  pbac3a.align  pwaq3a.align\tsrbb6p.align\n",
            "bgia3s.align  lbwe7a.align  pbaczn.align  pwaqzn.align\tsrbb7a.align\n",
            "bgia4p.align  lbwk8n.align  pbai4n.align  pwax4n.align\tsrbh8n.align\n",
            "bgia5a.align  lbwk9s.align  pbai5s.align  pwax5s.align\tsrbh9s.align\n",
            "bgig6n.align  lbwl1a.align  pbai6p.align  pwax6p.align\tsrbi1a.align\n",
            "bgig7s.align  lbwlzp.align  pbai7a.align  pwax7a.align\tsrbizp.align\n",
            "bgig8p.align  lbwr2n.align  pbao8n.align  pwbd6n.align\tsrbo2n.align\n",
            "bgig9a.align  lbwr3s.align  pbao9s.align  pwbd7s.align\tsrbo3s.align\n",
            "bgin1s.align  lbwr4p.align  pbap1a.align  pwbd8p.align\tsrbo4p.align\n",
            "bgin2p.align  lbwr5a.align  pbapzp.align  pwbd9a.align\tsrbo5a.align\n",
            "bgin3a.align  lbwy6n.align  pbav2n.align  pwbk1s.align\tsrbu6n.align\n",
            "bginzn.align  lbwy7s.align  pbav3s.align  pwbk2p.align\tsrbu7s.align\n",
            "bgit4n.align  lbwy8p.align  pbav4p.align  pwbk3a.align\tsrbu8p.align\n",
            "bgit5s.align  lbwy9a.align  pbav5a.align  pwbkzn.align\tsrbu9a.align\n",
            "bgit6p.align  lgaf4n.align  pbbc4n.align  pwbq4n.align\tsria6n.align\n",
            "bgit7a.align  lgaf5s.align  pbbc5s.align  pwbq5s.align\tsria7s.align\n",
            "bgwb4n.align  lgaf6p.align  pbbc6p.align  pwbq6p.align\tsria8p.align\n",
            "bgwb5s.align  lgaf7a.align  pbbc7a.align  pwbq7a.align\tsria9a.align\n",
            "bgwb6p.align  lgal8n.align  pbbi8n.align  pwbx8n.align\tsrih1s.align\n",
            "bgwb7a.align  lgal9s.align  pbbi9s.align  pwbx9s.align\tsrih2p.align\n",
            "bgwh8n.align  lgam1a.align  pbbj1a.align  pwby1a.align\tsrih3a.align\n",
            "bgwh9s.align  lgamzp.align  pbbjzp.align  pwbyzp.align\tsrihzn.align\n",
            "bgwi1a.align  lgas2n.align  pbbp2n.align  pwic8n.align\tsrin4n.align\n",
            "bgwizp.align  lgas3s.align  pbbp3s.align  pwic9s.align\tsrin5s.align\n",
            "bgwo2n.align  lgas4p.align  pbbp4p.align  pwid1a.align\tsrin6p.align\n",
            "bgwo3s.align  lgas5a.align  pbbp5a.align  pwidzp.align\tsrin7a.align\n",
            "bgwo4p.align  lgaz6n.align  pbbv6n.align  pwij2n.align\tsrit8n.align\n",
            "bgwo5a.align  lgaz7s.align  pbbv7s.align  pwij3s.align\tsrit9s.align\n",
            "bgwu6n.align  lgaz8p.align  pbbv8p.align  pwij4p.align\tsriu1a.align\n",
            "bgwu7s.align  lgaz9a.align  pbbv9a.align  pwij5a.align\tsriuzp.align\n",
            "bgwu8p.align  lgbf8n.align  pbib6n.align  pwip6n.align\tsrwb8n.align\n",
            "bgwu9a.align  lgbf9s.align  pbib7s.align  pwip7s.align\tsrwb9s.align\n",
            "braf8n.align  lgbg1a.align  pbib8p.align  pwip8p.align\tsrwc1a.align\n",
            "braf9s.align  lgbgzp.align  pbib9a.align  pwip9a.align\tsrwczp.align\n",
            "brag1a.align  lgbm2n.align  pbii1s.align  pwix1s.align\tsrwi2n.align\n",
            "bragzp.align  lgbm3s.align  pbii2p.align  pwix2p.align\tsrwi3s.align\n",
            "bram2n.align  lgbm4p.align  pbii3a.align  pwix3a.align\tsrwi4p.align\n",
            "bram3s.align  lgbm5a.align  pbiizn.align  pwixzn.align\tsrwi5a.align\n",
            "bram4p.align  lgbs6n.align  pbio4n.align  pwwe1s.align\tsrwo6n.align\n",
            "bram5a.align  lgbs7s.align  pbio5s.align  pwwe2p.align\tsrwo7s.align\n",
            "bras6n.align  lgbs8p.align  pbio6p.align  pwwe3a.align\tsrwo8p.align\n",
            "bras7s.align  lgbs9a.align  pbio7a.align  pwwezn.align\tsrwo9a.align\n",
            "bras8p.align  lgif1s.align  pbiu8n.align  pwwk4n.align\tsrwv1s.align\n",
            "bras9a.align  lgif2p.align  pbiu9s.align  pwwk5s.align\tsrwv2p.align\n",
            "brba1a.align  lgif3a.align  pbiv1a.align  pwwk6p.align\tsrwv3a.align\n",
            "brbazp.align  lgifzn.align  pbivzp.align  pwwk7a.align\tsrwvzn.align\n",
            "brbg2n.align  lgil4n.align  pbwc8n.align  pwwq8n.align\tswab6n.align\n",
            "brbg3s.align  lgil5s.align  pbwc9s.align  pwwq9s.align\tswab7s.align\n",
            "brbg4p.align  lgil6p.align  pbwd1a.align  pwwr1a.align\tswab8p.align\n",
            "brbg5a.align  lgil7a.align  pbwdzp.align  pwwrzp.align\tswab9a.align\n",
            "brbm6n.align  lgir8n.align  pbwj2n.align  pwwy2n.align\tswai1s.align\n",
            "brbm7s.align  lgir9s.align  pbwj3s.align  pwwy3s.align\tswai2p.align\n",
            "brbm8p.align  lgis1a.align  pbwj4p.align  pwwy4p.align\tswai3a.align\n",
            "brbm9a.align  lgiszp.align  pbwj5a.align  pwwy5a.align\tswaizn.align\n",
            "brbt1s.align  lgiz2n.align  pbwp6n.align  sbaa4n.align\tswao4n.align\n",
            "brbt2p.align  lgiz3s.align  pbwp7s.align  sbaa5s.align\tswao5s.align\n",
            "brbt3a.align  lgiz4p.align  pbwp8p.align  sbaa6p.align\tswao6p.align\n",
            "brbtzn.align  lgiz5a.align  pbwp9a.align  sbaa7a.align\tswao7a.align\n",
            "brif4n.align  lgwa1a.align  pbwx1s.align  sbag8n.align\tswau8n.align\n",
            "brif5s.align  lgwazp.align  pbwx2p.align  sbag9s.align\tswau9s.align\n",
            "brif6p.align  lgwg2n.align  pbwx3a.align  sbah1a.align\tswav1a.align\n",
            "brif7a.align  lgwg3s.align  pbwxzn.align  sbahzp.align\tswavzp.align\n",
            "bril8n.align  lgwg4p.align  pgad8n.align  sban2n.align\tswbc1s.align\n",
            "bril9s.align  lgwg5a.align  pgad9s.align  sban3s.align\tswbc2p.align\n",
            "brim1a.align  lgwm6n.align  pgae1a.align  sban4p.align\tswbc3a.align\n",
            "brimzp.align  lgwm7s.align  pgaezp.align  sban5a.align\tswbczn.align\n",
            "bris2n.align  lgwm8p.align  pgak2n.align  sbat6n.align\tswbi4n.align\n",
            "bris3s.align  lgwm9a.align  pgak3s.align  sbat7s.align\tswbi5s.align\n",
            "bris4p.align  lgwt1s.align  pgak4p.align  sbat8p.align\tswbi6p.align\n",
            "bris5a.align  lgwt2p.align  pgak5a.align  sbat9a.align\tswbi7a.align\n",
            "briz6n.align  lgwt3a.align  pgaq6n.align  sbba8n.align\tswbo8n.align\n",
            "briz7s.align  lgwtzn.align  pgaq7s.align  sbba9s.align\tswbo9s.align\n",
            "briz8p.align  lrae2n.align  pgaq8p.align  sbbb1a.align\tswbp1a.align\n",
            "briz9a.align  lrae3s.align  pgaq9a.align  sbbbzp.align\tswbpzp.align\n",
            "brwa2n.align  lrae4p.align  pgay1s.align  sbbh2n.align\tswbv2n.align\n",
            "brwa3s.align  lrae5a.align  pgay2p.align  sbbh3s.align\tswbv3s.align\n",
            "brwa4p.align  lrak6n.align  pgay3a.align  sbbh4p.align\tswbv4p.align\n",
            "brwa5a.align  lrak7s.align  pgayzn.align  sbbh5a.align\tswbv5a.align\n",
            "brwg6n.align  lrak8p.align  pgbe2n.align  sbbn6n.align\tswib2n.align\n",
            "brwg7s.align  lrak9a.align  pgbe3s.align  sbbn7s.align\tswib3s.align\n",
            "brwg8p.align  lrar1s.align  pgbe4p.align  sbbn8p.align\tswib4p.align\n",
            "brwg9a.align  lrar2p.align  pgbe5a.align  sbbn9a.align\tswib5a.align\n",
            "brwn1s.align  lrar3a.align  pgbk6n.align  sbbu1s.align\tswih6n.align\n",
            "brwn2p.align  lrarzn.align  pgbk7s.align  sbbu2p.align\tswih7s.align\n",
            "brwn3a.align  lray4n.align  pgbk8p.align  sbbu3a.align\tswih8p.align\n",
            "brwnzn.align  lray5s.align  pgbk9a.align  sbbuzn.align\tswih9a.align\n",
            "brwt4n.align  lray6p.align  pgbr1s.align  sbia1s.align\tswio1s.align\n",
            "brwt5s.align  lray7a.align  pgbr2p.align  sbia2p.align\tswio2p.align\n",
            "brwt6p.align  lrbe6n.align  pgbr3a.align  sbia3a.align\tswio3a.align\n",
            "brwt7a.align  lrbe7s.align  pgbrzn.align  sbiazn.align\tswiozn.align\n",
            "bwaa1s.align  lrbe8p.align  pgby4n.align  sbig4n.align\tswiu4n.align\n",
            "bwaa2p.align  lrbe9a.align  pgby5s.align  sbig5s.align\tswiu5s.align\n",
            "bwaa3a.align  lrbl1s.align  pgby6p.align  sbig6p.align\tswiu6p.align\n",
            "bwaazn.align  lrbl2p.align  pgby7a.align  sbig7a.align\tswiu7a.align\n",
            "bwag4n.align  lrbl3a.align  pgid4n.align  sbim8n.align\tswwc4n.align\n",
            "bwag5s.align  lrblzn.align  pgid5s.align  sbim9s.align\tswwc5s.align\n",
            "bwag6p.align  lrbr4n.align  pgid6p.align  sbin1a.align\tswwc6p.align\n",
            "bwag7a.align  lrbr5s.align  pgid7a.align  sbinzp.align\tswwc7a.align\n",
            "bwam8n.align  lrbr6p.align  pgij8n.align  sbit2n.align\tswwi8n.align\n",
            "bwam9s.align  lrbr7a.align  pgij9s.align  sbit3s.align\tswwi9s.align\n",
            "bwan1a.align  lrby8n.align  pgik1a.align  sbit4p.align\tswwj1a.align\n",
            "bwanzp.align  lrby9s.align  pgikzp.align  sbit5a.align\tswwjzp.align\n",
            "bwat2n.align  lrbz1a.align  pgiq2n.align  sbwb2n.align\tswwp2n.align\n",
            "bwat3s.align  lrbzzp.align  pgiq3s.align  sbwb3s.align\tswwp3s.align\n",
            "bwat4p.align  lrid8n.align  pgiq4p.align  sbwb4p.align\tswwp4p.align\n",
            "bwat5a.align  lrid9s.align  pgiq5a.align  sbwb5a.align\tswwp5a.align\n",
            "bwba4n.align  lrie1a.align  pgix6n.align  sbwh6n.align\tswwv6n.align\n",
            "bwba5s.align  lriezp.align  pgix7s.align  sbwh7s.align\tswwv7s.align\n",
            "bwba6p.align  lrik2n.align  pgix8p.align  sbwh8p.align\tswwv8p.align\n",
            "bwba7a.align  lrik3s.align  pgix9a.align  sbwh9a.align\tswwv9a.align\n"
          ]
        }
      ]
    },
    {
      "cell_type": "code",
      "source": [
        "al_path = \"./drive/MyDrive/Project/Lip_reading/raw_data/alignments/s1/bbaf2n.align\""
      ],
      "metadata": {
        "id": "IKS8el9Zs_iV"
      },
      "id": "IKS8el9Zs_iV",
      "execution_count": 51,
      "outputs": []
    },
    {
      "cell_type": "code",
      "source": [
        "# Open align file\n",
        "with open(al_path + \"/bbal6n.align\", \"r\") as f:\n",
        "    lines = f.readlines()"
      ],
      "metadata": {
        "id": "U97BY18utPOZ"
      },
      "id": "U97BY18utPOZ",
      "execution_count": 6,
      "outputs": []
    },
    {
      "cell_type": "code",
      "source": [
        "lines"
      ],
      "metadata": {
        "colab": {
          "base_uri": "https://localhost:8080/"
        },
        "id": "q82mI0K0wqD6",
        "outputId": "e749666e-98e0-461c-f9e8-29722e0909f9"
      },
      "id": "q82mI0K0wqD6",
      "execution_count": 7,
      "outputs": [
        {
          "output_type": "execute_result",
          "data": {
            "text/plain": [
              "['0 16000 sil\\n',\n",
              " '16000 21250 bin\\n',\n",
              " '21250 26750 blue\\n',\n",
              " '26750 27750 at\\n',\n",
              " '27750 31500 l\\n',\n",
              " '31500 39250 six\\n',\n",
              " '39250 45250 now\\n',\n",
              " '45250 74500 sil\\n']"
            ]
          },
          "metadata": {},
          "execution_count": 7
        }
      ]
    },
    {
      "cell_type": "code",
      "source": [
        "# Tokienize alignments\n",
        "tokens = []\n",
        "for line in lines:\n",
        "    line = line.split()\n",
        "    # Ignore silence tokens\n",
        "    if line[2] != \"sil\":\n",
        "        tokens = [*tokens, ' ', line[2]]\n",
        "\n",
        "tokens"
      ],
      "metadata": {
        "colab": {
          "base_uri": "https://localhost:8080/"
        },
        "id": "5aNJu0xCwzJ_",
        "outputId": "bb914268-7d3a-4ad5-c474-9b1c043e0907"
      },
      "id": "5aNJu0xCwzJ_",
      "execution_count": 27,
      "outputs": [
        {
          "output_type": "execute_result",
          "data": {
            "text/plain": [
              "[' ', 'bin', ' ', 'blue', ' ', 'at', ' ', 'l', ' ', 'six', ' ', 'now']"
            ]
          },
          "metadata": {},
          "execution_count": 27
        }
      ]
    },
    {
      "cell_type": "markdown",
      "source": [
        "## Alignments Loading Function"
      ],
      "metadata": {
        "id": "7B6zNt0bTqpe"
      },
      "id": "7B6zNt0bTqpe"
    },
    {
      "cell_type": "code",
      "source": [
        "def load_alignments(path: str) -> tf.Tensor:\n",
        "  '''\n",
        "  Load alignments from a path, tokenize them,\n",
        "  and return the encoded characters as a 1D tensor.\n",
        "  '''\n",
        "  # Open align file\n",
        "  with open(path, \"r\") as f:\n",
        "    lines = f.readlines()\n",
        "\n",
        "  # Tokienize alignments\n",
        "  tokens = []\n",
        "  for line in lines:\n",
        "      line = line.split()\n",
        "      # Ignore silence tokens\n",
        "      if line[2] != \"sil\":\n",
        "          tokens = [*tokens, ' ', line[2]]\n",
        "\n",
        "  return char_to_num(tf.reshape(tf.strings.unicode_split(tokens, input_encoding='UTF-8'), (-1)))[1:]"
      ],
      "metadata": {
        "id": "Z08JND6ETqMd"
      },
      "id": "Z08JND6ETqMd",
      "execution_count": 50,
      "outputs": []
    },
    {
      "cell_type": "markdown",
      "source": [
        "### Test"
      ],
      "metadata": {
        "id": "o0l5jCmwYeYg"
      },
      "id": "o0l5jCmwYeYg"
    },
    {
      "cell_type": "code",
      "source": [
        "x = load_alignments(al_path)"
      ],
      "metadata": {
        "id": "VRtF6pveU_Ii"
      },
      "id": "VRtF6pveU_Ii",
      "execution_count": 46,
      "outputs": []
    },
    {
      "cell_type": "code",
      "source": [
        "x"
      ],
      "metadata": {
        "colab": {
          "base_uri": "https://localhost:8080/"
        },
        "id": "SdR6tLtiVL2o",
        "outputId": "55113be8-9ecf-43cb-fff9-b1e1ad42ee59"
      },
      "id": "SdR6tLtiVL2o",
      "execution_count": 47,
      "outputs": [
        {
          "output_type": "execute_result",
          "data": {
            "text/plain": [
              "<tf.Tensor: shape=(21,), dtype=int64, numpy=\n",
              "array([ 2,  9, 14, 39,  2, 12, 21,  5, 39,  1, 20, 39,  6, 39, 20, 23, 15,\n",
              "       39, 14, 15, 23])>"
            ]
          },
          "metadata": {},
          "execution_count": 47
        }
      ]
    },
    {
      "cell_type": "code",
      "source": [
        "num_to_char(x)"
      ],
      "metadata": {
        "colab": {
          "base_uri": "https://localhost:8080/"
        },
        "id": "R83RrvlpVZ14",
        "outputId": "ec734a3c-fedd-4300-b16c-96bb8ed4ae2f"
      },
      "id": "R83RrvlpVZ14",
      "execution_count": 48,
      "outputs": [
        {
          "output_type": "execute_result",
          "data": {
            "text/plain": [
              "<tf.Tensor: shape=(21,), dtype=string, numpy=\n",
              "array([b'b', b'i', b'n', b' ', b'b', b'l', b'u', b'e', b' ', b'a', b't',\n",
              "       b' ', b'f', b' ', b't', b'w', b'o', b' ', b'n', b'o', b'w'],\n",
              "      dtype=object)>"
            ]
          },
          "metadata": {},
          "execution_count": 48
        }
      ]
    },
    {
      "cell_type": "markdown",
      "source": [
        "## Load Data Function"
      ],
      "metadata": {
        "id": "fP9GgYzkYhEc"
      },
      "id": "fP9GgYzkYhEc"
    },
    {
      "cell_type": "code",
      "source": [
        "def load_data(file_name: str):\n",
        "  '''\n",
        "  Take a path, load the video and corresponding alignments,\n",
        "  and return two tensors, one for the processed frames,\n",
        "  one for the encoded tokens.\n",
        "  '''\n",
        "  # Get file name from path\n",
        "  # file_name = al_path.split('/')[-1].split('.')[0]\n",
        "\n",
        "  # Path of gdrive\n",
        "  p = \"./drive/MyDrive/Project/Lip_reading/raw_data\"\n",
        "  # Path outside of gdrive\n",
        "  #p = \"raw_data\"\n",
        "\n",
        "  # Get path from file name\n",
        "  video_path = os.path.join(p, 'videos', 's1',f'{file_name}.mpg')\n",
        "  alignment_path = os.path.join(p,'alignments','s1',f'{file_name}.align')\n",
        "\n",
        "  # Load data\n",
        "  frames = load_video(video_path)\n",
        "  alignments = load_alignments(alignment_path)\n",
        "\n",
        "  return frames, alignments"
      ],
      "metadata": {
        "id": "AKak79fwYkDO"
      },
      "id": "AKak79fwYkDO",
      "execution_count": 66,
      "outputs": []
    },
    {
      "cell_type": "markdown",
      "source": [
        "### Load Test"
      ],
      "metadata": {
        "id": "q5-QaFwyeD-y"
      },
      "id": "q5-QaFwyeD-y"
    },
    {
      "cell_type": "code",
      "source": [
        "f, a = load_data(\"bbaf2n\")"
      ],
      "metadata": {
        "id": "E9AS5g17bXx_"
      },
      "id": "E9AS5g17bXx_",
      "execution_count": 67,
      "outputs": []
    },
    {
      "cell_type": "code",
      "source": [
        "a"
      ],
      "metadata": {
        "colab": {
          "base_uri": "https://localhost:8080/"
        },
        "id": "xIzEyjV0cwaB",
        "outputId": "a88af5c5-7419-4210-d31d-da9617f5ce09"
      },
      "id": "xIzEyjV0cwaB",
      "execution_count": 69,
      "outputs": [
        {
          "output_type": "execute_result",
          "data": {
            "text/plain": [
              "<tf.Tensor: shape=(21,), dtype=int64, numpy=\n",
              "array([ 2,  9, 14, 39,  2, 12, 21,  5, 39,  1, 20, 39,  6, 39, 20, 23, 15,\n",
              "       39, 14, 15, 23])>"
            ]
          },
          "metadata": {},
          "execution_count": 69
        }
      ]
    },
    {
      "cell_type": "markdown",
      "source": [
        "# Pipeline"
      ],
      "metadata": {
        "id": "pUVS5Mh1eF6Z"
      },
      "id": "pUVS5Mh1eF6Z"
    },
    {
      "cell_type": "code",
      "source": [],
      "metadata": {
        "id": "-LPgFgNSeVUu"
      },
      "id": "-LPgFgNSeVUu",
      "execution_count": null,
      "outputs": []
    }
  ],
  "metadata": {
    "kernelspec": {
      "display_name": "lip_reading-env",
      "language": "python",
      "name": "python3"
    },
    "language_info": {
      "codemirror_mode": {
        "name": "ipython",
        "version": 3
      },
      "file_extension": ".py",
      "mimetype": "text/x-python",
      "name": "python",
      "nbconvert_exporter": "python",
      "pygments_lexer": "ipython3",
      "version": "3.10.6"
    },
    "colab": {
      "provenance": [],
      "collapsed_sections": [
        "F_7e-sSyo-ap",
        "Kx_GQXWFpDGl",
        "cEat8wvxrXwk",
        "sK11OrQas5U6",
        "o0l5jCmwYeYg"
      ],
      "toc_visible": true
    }
  },
  "nbformat": 4,
  "nbformat_minor": 5
}